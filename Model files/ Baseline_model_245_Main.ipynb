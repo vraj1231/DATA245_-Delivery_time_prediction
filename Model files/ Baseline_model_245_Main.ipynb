{
  "nbformat": 4,
  "nbformat_minor": 5,
  "metadata": {
    "accelerator": "TPU",
    "colab": {
      "name": "Baseline_model_245_Main.ipynb",
      "provenance": [],
      "collapsed_sections": [
        "SI0GgR46N0Ke",
        "fLahqD9VN91A",
        "tWM-ufteOODj",
        "Za4eIzBzOydt",
        "0sxh5v-jO5AE",
        "dU2cY9AOO-Be",
        "tnNjbd2HPDS-"
      ],
      "machine_shape": "hm",
      "include_colab_link": true
    },
    "kernelspec": {
      "display_name": "Python 3",
      "language": "python",
      "name": "python3"
    },
    "language_info": {
      "codemirror_mode": {
        "name": "ipython",
        "version": 3
      },
      "file_extension": ".py",
      "mimetype": "text/x-python",
      "name": "python",
      "nbconvert_exporter": "python",
      "pygments_lexer": "ipython3",
      "version": "3.8.8"
    }
  },
  "cells": [
    {
      "cell_type": "markdown",
      "metadata": {
        "id": "view-in-github",
        "colab_type": "text"
      },
      "source": [
        "<a href=\"https://colab.research.google.com/github/vraj1231/DATA245_-Delivery_time_prediction/blob/main/Model%20files/%20Baseline_model_245_Main.ipynb\" target=\"_parent\"><img src=\"https://colab.research.google.com/assets/colab-badge.svg\" alt=\"Open In Colab\"/></a>"
      ]
    },
    {
      "cell_type": "markdown",
      "metadata": {
        "id": "SI0GgR46N0Ke"
      },
      "source": [
        "### Mounting drive and loading data "
      ],
      "id": "SI0GgR46N0Ke"
    },
    {
      "cell_type": "code",
      "metadata": {
        "id": "K7kJBlbdTzwm",
        "colab": {
          "base_uri": "https://localhost:8080/"
        },
        "outputId": "9eab61e2-8c28-4c97-86ee-ec53ef4d42f9"
      },
      "source": [
        "from google.colab import drive #using google drive for storage\n",
        "drive.mount('/content/gdrive')"
      ],
      "id": "K7kJBlbdTzwm",
      "execution_count": null,
      "outputs": [
        {
          "output_type": "stream",
          "name": "stdout",
          "text": [
            "Mounted at /content/gdrive\n"
          ]
        }
      ]
    },
    {
      "cell_type": "code",
      "metadata": {
        "id": "840e85e9"
      },
      "source": [
        "import seaborn as sns #all libraries \n",
        "import pandas as pd\n",
        "import numpy as np\n",
        "import matplotlib.pyplot as plt\n",
        "from sklearn.preprocessing import LabelEncoder\n",
        "from sklearn.model_selection import train_test_split\n",
        "import datetime as dt"
      ],
      "id": "840e85e9",
      "execution_count": null,
      "outputs": []
    },
    {
      "cell_type": "code",
      "metadata": {
        "id": "bf477b63"
      },
      "source": [
        "#converting the file tsv -? csv\n",
        "# tsv_file= r'C:\\Users\\mistr\\OneDrive\\Documents\\SJSU studies\\DATA 245\\project\\train.tsv'\n",
        "# csv_table=pd.read_table(tsv_file,sep='\\t')\n",
        "# csv_table.to_csv('train_ebay.csv',index=False)"
      ],
      "id": "bf477b63",
      "execution_count": null,
      "outputs": []
    },
    {
      "cell_type": "code",
      "metadata": {
        "colab": {
          "base_uri": "https://localhost:8080/",
          "height": 307
        },
        "id": "06b82189",
        "outputId": "616a7916-011a-42cf-ce9e-656bb5e7b939"
      },
      "source": [
        "#pandas dataframe train and test from google drive \n",
        "# dataset_test = pd.read_csv(\"gdrive/My Drive/quiz.csv\")\n",
        "dataset = pd.read_csv(\"gdrive/My Drive/train_ebay.csv\")\n",
        "dataset.head()"
      ],
      "id": "06b82189",
      "execution_count": null,
      "outputs": [
        {
          "output_type": "execute_result",
          "data": {
            "text/html": [
              "<div>\n",
              "<style scoped>\n",
              "    .dataframe tbody tr th:only-of-type {\n",
              "        vertical-align: middle;\n",
              "    }\n",
              "\n",
              "    .dataframe tbody tr th {\n",
              "        vertical-align: top;\n",
              "    }\n",
              "\n",
              "    .dataframe thead th {\n",
              "        text-align: right;\n",
              "    }\n",
              "</style>\n",
              "<table border=\"1\" class=\"dataframe\">\n",
              "  <thead>\n",
              "    <tr style=\"text-align: right;\">\n",
              "      <th></th>\n",
              "      <th>b2c_c2c</th>\n",
              "      <th>seller_id</th>\n",
              "      <th>declared_handling_days</th>\n",
              "      <th>acceptance_scan_timestamp</th>\n",
              "      <th>shipment_method_id</th>\n",
              "      <th>shipping_fee</th>\n",
              "      <th>carrier_min_estimate</th>\n",
              "      <th>carrier_max_estimate</th>\n",
              "      <th>item_zip</th>\n",
              "      <th>buyer_zip</th>\n",
              "      <th>category_id</th>\n",
              "      <th>item_price</th>\n",
              "      <th>quantity</th>\n",
              "      <th>payment_datetime</th>\n",
              "      <th>delivery_date</th>\n",
              "      <th>weight</th>\n",
              "      <th>weight_units</th>\n",
              "      <th>package_size</th>\n",
              "      <th>record_number</th>\n",
              "    </tr>\n",
              "  </thead>\n",
              "  <tbody>\n",
              "    <tr>\n",
              "      <th>0</th>\n",
              "      <td>B2C</td>\n",
              "      <td>25454</td>\n",
              "      <td>3.0</td>\n",
              "      <td>2019-03-26 15:11:00.000-07:00</td>\n",
              "      <td>0</td>\n",
              "      <td>0.0</td>\n",
              "      <td>3</td>\n",
              "      <td>5</td>\n",
              "      <td>97219</td>\n",
              "      <td>49040</td>\n",
              "      <td>13</td>\n",
              "      <td>27.95</td>\n",
              "      <td>1</td>\n",
              "      <td>2019-03-24 03:56:49.000-07:00</td>\n",
              "      <td>2019-03-29</td>\n",
              "      <td>5</td>\n",
              "      <td>1</td>\n",
              "      <td>LETTER</td>\n",
              "      <td>1</td>\n",
              "    </tr>\n",
              "    <tr>\n",
              "      <th>1</th>\n",
              "      <td>C2C</td>\n",
              "      <td>6727381</td>\n",
              "      <td>2.0</td>\n",
              "      <td>2018-06-02 12:53:00.000-07:00</td>\n",
              "      <td>0</td>\n",
              "      <td>3.0</td>\n",
              "      <td>3</td>\n",
              "      <td>5</td>\n",
              "      <td>11415-3528</td>\n",
              "      <td>62521</td>\n",
              "      <td>0</td>\n",
              "      <td>20.50</td>\n",
              "      <td>1</td>\n",
              "      <td>2018-06-01 13:43:54.000-07:00</td>\n",
              "      <td>2018-06-05</td>\n",
              "      <td>0</td>\n",
              "      <td>1</td>\n",
              "      <td>PACKAGE_THICK_ENVELOPE</td>\n",
              "      <td>2</td>\n",
              "    </tr>\n",
              "    <tr>\n",
              "      <th>2</th>\n",
              "      <td>B2C</td>\n",
              "      <td>18507</td>\n",
              "      <td>1.0</td>\n",
              "      <td>2019-01-07 16:22:00.000-05:00</td>\n",
              "      <td>0</td>\n",
              "      <td>4.5</td>\n",
              "      <td>3</td>\n",
              "      <td>5</td>\n",
              "      <td>27292</td>\n",
              "      <td>53010</td>\n",
              "      <td>1</td>\n",
              "      <td>19.90</td>\n",
              "      <td>1</td>\n",
              "      <td>2019-01-06 00:02:00.000-05:00</td>\n",
              "      <td>2019-01-10</td>\n",
              "      <td>9</td>\n",
              "      <td>1</td>\n",
              "      <td>PACKAGE_THICK_ENVELOPE</td>\n",
              "      <td>3</td>\n",
              "    </tr>\n",
              "    <tr>\n",
              "      <th>3</th>\n",
              "      <td>B2C</td>\n",
              "      <td>4677</td>\n",
              "      <td>1.0</td>\n",
              "      <td>2018-12-17 16:56:00.000-08:00</td>\n",
              "      <td>0</td>\n",
              "      <td>0.0</td>\n",
              "      <td>3</td>\n",
              "      <td>5</td>\n",
              "      <td>90703</td>\n",
              "      <td>80022</td>\n",
              "      <td>1</td>\n",
              "      <td>35.50</td>\n",
              "      <td>1</td>\n",
              "      <td>2018-12-16 10:28:28.000-08:00</td>\n",
              "      <td>2018-12-21</td>\n",
              "      <td>8</td>\n",
              "      <td>1</td>\n",
              "      <td>PACKAGE_THICK_ENVELOPE</td>\n",
              "      <td>4</td>\n",
              "    </tr>\n",
              "    <tr>\n",
              "      <th>4</th>\n",
              "      <td>B2C</td>\n",
              "      <td>4677</td>\n",
              "      <td>1.0</td>\n",
              "      <td>2018-07-27 16:48:00.000-07:00</td>\n",
              "      <td>0</td>\n",
              "      <td>0.0</td>\n",
              "      <td>3</td>\n",
              "      <td>5</td>\n",
              "      <td>90703</td>\n",
              "      <td>55070</td>\n",
              "      <td>1</td>\n",
              "      <td>25.00</td>\n",
              "      <td>1</td>\n",
              "      <td>2018-07-26 18:20:02.000-07:00</td>\n",
              "      <td>2018-07-30</td>\n",
              "      <td>3</td>\n",
              "      <td>1</td>\n",
              "      <td>PACKAGE_THICK_ENVELOPE</td>\n",
              "      <td>5</td>\n",
              "    </tr>\n",
              "  </tbody>\n",
              "</table>\n",
              "</div>"
            ],
            "text/plain": [
              "  b2c_c2c  seller_id  ...            package_size record_number\n",
              "0     B2C      25454  ...                  LETTER             1\n",
              "1     C2C    6727381  ...  PACKAGE_THICK_ENVELOPE             2\n",
              "2     B2C      18507  ...  PACKAGE_THICK_ENVELOPE             3\n",
              "3     B2C       4677  ...  PACKAGE_THICK_ENVELOPE             4\n",
              "4     B2C       4677  ...  PACKAGE_THICK_ENVELOPE             5\n",
              "\n",
              "[5 rows x 19 columns]"
            ]
          },
          "metadata": {},
          "execution_count": 3
        }
      ]
    },
    {
      "cell_type": "markdown",
      "metadata": {
        "id": "fLahqD9VN91A"
      },
      "source": [
        "### Data columns "
      ],
      "id": "fLahqD9VN91A"
    },
    {
      "cell_type": "code",
      "metadata": {
        "colab": {
          "base_uri": "https://localhost:8080/",
          "height": 425
        },
        "id": "97a2c1be",
        "outputId": "9202239a-de9b-45d2-9348-821efd8f9df0"
      },
      "source": [
        "dataset.describe(include=\"all\") #describe of all features in dataset"
      ],
      "id": "97a2c1be",
      "execution_count": null,
      "outputs": [
        {
          "data": {
            "text/html": [
              "<div>\n",
              "<style scoped>\n",
              "    .dataframe tbody tr th:only-of-type {\n",
              "        vertical-align: middle;\n",
              "    }\n",
              "\n",
              "    .dataframe tbody tr th {\n",
              "        vertical-align: top;\n",
              "    }\n",
              "\n",
              "    .dataframe thead th {\n",
              "        text-align: right;\n",
              "    }\n",
              "</style>\n",
              "<table border=\"1\" class=\"dataframe\">\n",
              "  <thead>\n",
              "    <tr style=\"text-align: right;\">\n",
              "      <th></th>\n",
              "      <th>b2c_c2c</th>\n",
              "      <th>seller_id</th>\n",
              "      <th>declared_handling_days</th>\n",
              "      <th>acceptance_scan_timestamp</th>\n",
              "      <th>shipment_method_id</th>\n",
              "      <th>shipping_fee</th>\n",
              "      <th>carrier_min_estimate</th>\n",
              "      <th>carrier_max_estimate</th>\n",
              "      <th>item_zip</th>\n",
              "      <th>buyer_zip</th>\n",
              "      <th>category_id</th>\n",
              "      <th>item_price</th>\n",
              "      <th>quantity</th>\n",
              "      <th>payment_datetime</th>\n",
              "      <th>delivery_date</th>\n",
              "      <th>weight</th>\n",
              "      <th>weight_units</th>\n",
              "      <th>package_size</th>\n",
              "      <th>record_number</th>\n",
              "    </tr>\n",
              "  </thead>\n",
              "  <tbody>\n",
              "    <tr>\n",
              "      <th>count</th>\n",
              "      <td>15000000</td>\n",
              "      <td>1.500000e+07</td>\n",
              "      <td>1.429711e+07</td>\n",
              "      <td>15000000</td>\n",
              "      <td>1.500000e+07</td>\n",
              "      <td>1.500000e+07</td>\n",
              "      <td>1.500000e+07</td>\n",
              "      <td>1.500000e+07</td>\n",
              "      <td>14999999</td>\n",
              "      <td>14999999</td>\n",
              "      <td>1.500000e+07</td>\n",
              "      <td>1.500000e+07</td>\n",
              "      <td>1.500000e+07</td>\n",
              "      <td>15000000</td>\n",
              "      <td>15000000</td>\n",
              "      <td>1.500000e+07</td>\n",
              "      <td>1.500000e+07</td>\n",
              "      <td>15000000</td>\n",
              "      <td>1.500000e+07</td>\n",
              "    </tr>\n",
              "    <tr>\n",
              "      <th>unique</th>\n",
              "      <td>2</td>\n",
              "      <td>NaN</td>\n",
              "      <td>NaN</td>\n",
              "      <td>2245193</td>\n",
              "      <td>NaN</td>\n",
              "      <td>NaN</td>\n",
              "      <td>NaN</td>\n",
              "      <td>NaN</td>\n",
              "      <td>50939</td>\n",
              "      <td>57273</td>\n",
              "      <td>NaN</td>\n",
              "      <td>NaN</td>\n",
              "      <td>NaN</td>\n",
              "      <td>14090416</td>\n",
              "      <td>767</td>\n",
              "      <td>NaN</td>\n",
              "      <td>NaN</td>\n",
              "      <td>7</td>\n",
              "      <td>NaN</td>\n",
              "    </tr>\n",
              "    <tr>\n",
              "      <th>top</th>\n",
              "      <td>B2C</td>\n",
              "      <td>NaN</td>\n",
              "      <td>NaN</td>\n",
              "      <td>2019-04-01 00:00:00.000-04:00</td>\n",
              "      <td>NaN</td>\n",
              "      <td>NaN</td>\n",
              "      <td>NaN</td>\n",
              "      <td>NaN</td>\n",
              "      <td>91748</td>\n",
              "      <td>000</td>\n",
              "      <td>NaN</td>\n",
              "      <td>NaN</td>\n",
              "      <td>NaN</td>\n",
              "      <td>2019-02-18 23:48:57.000-06:00</td>\n",
              "      <td>2018-12-10</td>\n",
              "      <td>NaN</td>\n",
              "      <td>NaN</td>\n",
              "      <td>PACKAGE_THICK_ENVELOPE</td>\n",
              "      <td>NaN</td>\n",
              "    </tr>\n",
              "    <tr>\n",
              "      <th>freq</th>\n",
              "      <td>10634413</td>\n",
              "      <td>NaN</td>\n",
              "      <td>NaN</td>\n",
              "      <td>2856</td>\n",
              "      <td>NaN</td>\n",
              "      <td>NaN</td>\n",
              "      <td>NaN</td>\n",
              "      <td>NaN</td>\n",
              "      <td>65222</td>\n",
              "      <td>72650</td>\n",
              "      <td>NaN</td>\n",
              "      <td>NaN</td>\n",
              "      <td>NaN</td>\n",
              "      <td>9</td>\n",
              "      <td>54835</td>\n",
              "      <td>NaN</td>\n",
              "      <td>NaN</td>\n",
              "      <td>12652645</td>\n",
              "      <td>NaN</td>\n",
              "    </tr>\n",
              "    <tr>\n",
              "      <th>mean</th>\n",
              "      <td>NaN</td>\n",
              "      <td>2.711038e+05</td>\n",
              "      <td>1.620950e+00</td>\n",
              "      <td>NaN</td>\n",
              "      <td>8.818957e-01</td>\n",
              "      <td>2.811783e+00</td>\n",
              "      <td>2.622133e+00</td>\n",
              "      <td>5.462125e+00</td>\n",
              "      <td>NaN</td>\n",
              "      <td>NaN</td>\n",
              "      <td>6.754900e+00</td>\n",
              "      <td>3.613771e+01</td>\n",
              "      <td>1.105763e+00</td>\n",
              "      <td>NaN</td>\n",
              "      <td>NaN</td>\n",
              "      <td>1.608175e+01</td>\n",
              "      <td>1.000002e+00</td>\n",
              "      <td>NaN</td>\n",
              "      <td>7.500000e+06</td>\n",
              "    </tr>\n",
              "    <tr>\n",
              "      <th>std</th>\n",
              "      <td>NaN</td>\n",
              "      <td>6.749299e+05</td>\n",
              "      <td>1.498844e+00</td>\n",
              "      <td>NaN</td>\n",
              "      <td>1.657330e+00</td>\n",
              "      <td>5.373618e+00</td>\n",
              "      <td>4.873855e-01</td>\n",
              "      <td>1.229274e+00</td>\n",
              "      <td>NaN</td>\n",
              "      <td>NaN</td>\n",
              "      <td>6.569869e+00</td>\n",
              "      <td>1.099163e+02</td>\n",
              "      <td>1.005447e+00</td>\n",
              "      <td>NaN</td>\n",
              "      <td>NaN</td>\n",
              "      <td>3.254291e+02</td>\n",
              "      <td>1.549192e-03</td>\n",
              "      <td>NaN</td>\n",
              "      <td>4.330127e+06</td>\n",
              "    </tr>\n",
              "    <tr>\n",
              "      <th>min</th>\n",
              "      <td>NaN</td>\n",
              "      <td>0.000000e+00</td>\n",
              "      <td>0.000000e+00</td>\n",
              "      <td>NaN</td>\n",
              "      <td>0.000000e+00</td>\n",
              "      <td>-3.000000e+00</td>\n",
              "      <td>-1.000000e+00</td>\n",
              "      <td>-1.000000e+00</td>\n",
              "      <td>NaN</td>\n",
              "      <td>NaN</td>\n",
              "      <td>0.000000e+00</td>\n",
              "      <td>0.000000e+00</td>\n",
              "      <td>1.000000e+00</td>\n",
              "      <td>NaN</td>\n",
              "      <td>NaN</td>\n",
              "      <td>0.000000e+00</td>\n",
              "      <td>1.000000e+00</td>\n",
              "      <td>NaN</td>\n",
              "      <td>1.000000e+00</td>\n",
              "    </tr>\n",
              "    <tr>\n",
              "      <th>25%</th>\n",
              "      <td>NaN</td>\n",
              "      <td>5.018000e+03</td>\n",
              "      <td>1.000000e+00</td>\n",
              "      <td>NaN</td>\n",
              "      <td>0.000000e+00</td>\n",
              "      <td>0.000000e+00</td>\n",
              "      <td>2.000000e+00</td>\n",
              "      <td>5.000000e+00</td>\n",
              "      <td>NaN</td>\n",
              "      <td>NaN</td>\n",
              "      <td>1.000000e+00</td>\n",
              "      <td>8.750000e+00</td>\n",
              "      <td>1.000000e+00</td>\n",
              "      <td>NaN</td>\n",
              "      <td>NaN</td>\n",
              "      <td>0.000000e+00</td>\n",
              "      <td>1.000000e+00</td>\n",
              "      <td>NaN</td>\n",
              "      <td>3.750001e+06</td>\n",
              "    </tr>\n",
              "    <tr>\n",
              "      <th>50%</th>\n",
              "      <td>NaN</td>\n",
              "      <td>3.743600e+04</td>\n",
              "      <td>1.000000e+00</td>\n",
              "      <td>NaN</td>\n",
              "      <td>0.000000e+00</td>\n",
              "      <td>0.000000e+00</td>\n",
              "      <td>3.000000e+00</td>\n",
              "      <td>5.000000e+00</td>\n",
              "      <td>NaN</td>\n",
              "      <td>NaN</td>\n",
              "      <td>5.000000e+00</td>\n",
              "      <td>1.500000e+01</td>\n",
              "      <td>1.000000e+00</td>\n",
              "      <td>NaN</td>\n",
              "      <td>NaN</td>\n",
              "      <td>4.000000e+00</td>\n",
              "      <td>1.000000e+00</td>\n",
              "      <td>NaN</td>\n",
              "      <td>7.500000e+06</td>\n",
              "    </tr>\n",
              "    <tr>\n",
              "      <th>75%</th>\n",
              "      <td>NaN</td>\n",
              "      <td>2.035330e+05</td>\n",
              "      <td>2.000000e+00</td>\n",
              "      <td>NaN</td>\n",
              "      <td>1.000000e+00</td>\n",
              "      <td>4.000000e+00</td>\n",
              "      <td>3.000000e+00</td>\n",
              "      <td>5.000000e+00</td>\n",
              "      <td>NaN</td>\n",
              "      <td>NaN</td>\n",
              "      <td>1.100000e+01</td>\n",
              "      <td>3.025000e+01</td>\n",
              "      <td>1.000000e+00</td>\n",
              "      <td>NaN</td>\n",
              "      <td>NaN</td>\n",
              "      <td>1.600000e+01</td>\n",
              "      <td>1.000000e+00</td>\n",
              "      <td>NaN</td>\n",
              "      <td>1.125000e+07</td>\n",
              "    </tr>\n",
              "    <tr>\n",
              "      <th>max</th>\n",
              "      <td>NaN</td>\n",
              "      <td>7.266448e+06</td>\n",
              "      <td>4.000000e+01</td>\n",
              "      <td>NaN</td>\n",
              "      <td>2.600000e+01</td>\n",
              "      <td>2.000000e+03</td>\n",
              "      <td>6.000000e+00</td>\n",
              "      <td>2.500000e+01</td>\n",
              "      <td>NaN</td>\n",
              "      <td>NaN</td>\n",
              "      <td>3.200000e+01</td>\n",
              "      <td>6.000000e+04</td>\n",
              "      <td>7.750000e+02</td>\n",
              "      <td>NaN</td>\n",
              "      <td>NaN</td>\n",
              "      <td>6.956640e+05</td>\n",
              "      <td>2.000000e+00</td>\n",
              "      <td>NaN</td>\n",
              "      <td>1.500000e+07</td>\n",
              "    </tr>\n",
              "  </tbody>\n",
              "</table>\n",
              "</div>"
            ],
            "text/plain": [
              "         b2c_c2c     seller_id  ...            package_size record_number\n",
              "count   15000000  1.500000e+07  ...                15000000  1.500000e+07\n",
              "unique         2           NaN  ...                       7           NaN\n",
              "top          B2C           NaN  ...  PACKAGE_THICK_ENVELOPE           NaN\n",
              "freq    10634413           NaN  ...                12652645           NaN\n",
              "mean         NaN  2.711038e+05  ...                     NaN  7.500000e+06\n",
              "std          NaN  6.749299e+05  ...                     NaN  4.330127e+06\n",
              "min          NaN  0.000000e+00  ...                     NaN  1.000000e+00\n",
              "25%          NaN  5.018000e+03  ...                     NaN  3.750001e+06\n",
              "50%          NaN  3.743600e+04  ...                     NaN  7.500000e+06\n",
              "75%          NaN  2.035330e+05  ...                     NaN  1.125000e+07\n",
              "max          NaN  7.266448e+06  ...                     NaN  1.500000e+07\n",
              "\n",
              "[11 rows x 19 columns]"
            ]
          },
          "execution_count": 13,
          "metadata": {},
          "output_type": "execute_result"
        }
      ]
    },
    {
      "cell_type": "code",
      "metadata": {
        "colab": {
          "base_uri": "https://localhost:8080/"
        },
        "id": "e69588fb",
        "outputId": "f2eaa988-0ee6-4df9-9130-2b2d4cbe723a"
      },
      "source": [
        "#data types of the columns \n",
        "dataset.dtypes"
      ],
      "id": "e69588fb",
      "execution_count": null,
      "outputs": [
        {
          "data": {
            "text/plain": [
              "b2c_c2c                       object\n",
              "seller_id                      int64\n",
              "declared_handling_days       float64\n",
              "acceptance_scan_timestamp     object\n",
              "shipment_method_id             int64\n",
              "shipping_fee                 float64\n",
              "carrier_min_estimate           int64\n",
              "carrier_max_estimate           int64\n",
              "item_zip                      object\n",
              "buyer_zip                     object\n",
              "category_id                    int64\n",
              "item_price                   float64\n",
              "quantity                       int64\n",
              "payment_datetime              object\n",
              "delivery_date                 object\n",
              "weight                         int64\n",
              "weight_units                   int64\n",
              "package_size                  object\n",
              "record_number                  int64\n",
              "dtype: object"
            ]
          },
          "execution_count": 14,
          "metadata": {},
          "output_type": "execute_result"
        }
      ]
    },
    {
      "cell_type": "code",
      "metadata": {
        "id": "Y6NIi1RoRyUQ"
      },
      "source": [
        "dataset = dataset.dropna()"
      ],
      "id": "Y6NIi1RoRyUQ",
      "execution_count": null,
      "outputs": []
    },
    {
      "cell_type": "code",
      "metadata": {
        "collapsed": true,
        "id": "0b338418"
      },
      "source": [
        "# number of counts for each value\n",
        "# dataset_train[\"b2c_c2c\"].value_counts()\n",
        "#  unqiues values for all object types\n",
        "# for col in dataset_train.select_dtypes(include= \"object\").columns:\n",
        "#     print ( f'{dataset_train[col]} : {len (dataset_train[col].unique())}')\n",
        "# missing value for each columns \n",
        "# for col, i in enumerate(dataset_train):\n",
        "#     print( \"\\033[1m\" + f'{dataset_train.columns[col]} has {dataset_train[i].isna().sum()} missing values')\n",
        "# heatmap for only numeric values\n",
        "# corr = dataset_train.corr()\n",
        "\n",
        "# # plot the heatmap\n",
        "# sns.heatmap(corr, \n",
        "#         xticklabels=corr.columns,\n",
        "#         yticklabels=corr.columns)\n",
        "# dataset_train.corr()"
      ],
      "id": "0b338418",
      "execution_count": null,
      "outputs": []
    },
    {
      "cell_type": "markdown",
      "metadata": {
        "id": "tWM-ufteOODj"
      },
      "source": [
        "### Data Cleaning"
      ],
      "id": "tWM-ufteOODj"
    },
    {
      "cell_type": "code",
      "metadata": {
        "id": "cE-Ifa3clG6c"
      },
      "source": [
        "\n",
        "def data_cleaning(dataset_train):\n",
        "    dataset_train['delivery_date'] = pd.to_datetime(dataset_train['delivery_date'], errors = \"coerce\", utc=True)\n",
        "    dataset_train['payment_datetime'] = pd.to_datetime(dataset_train['payment_datetime'], errors = \"coerce\", utc=True)\n",
        "    dataset_train['acceptance_scan_timestamp'] = pd.to_datetime(dataset_train['acceptance_scan_timestamp'], errors='coerce', utc=True)\n",
        "    dataset_train['actual_delivery_time'] = abs ((dataset_train.loc[:,'payment_datetime'] - dataset_train.loc[:,'delivery_date']).dt.days)\n",
        "    dataset_train['acceptance_scan_timestamp'] = abs ((dataset_train.loc[:,'acceptance_scan_timestamp'] - dataset_train.loc[:,'payment_datetime']).dt.days)\n",
        "    dataset_train[\"item_zip\"] = pd.to_numeric (dataset_train[\"item_zip\"] , errors = \"coerce\")\n",
        "    dataset_train[\"buyer_zip\"] = pd.to_numeric(dataset_train[\"buyer_zip\"], errors = \"coerce\")\n",
        "    lab_encoder_package_size = LabelEncoder()\n",
        "    lab_encoder_package_size.fit(dataset_train[\"package_size\"])\n",
        "    dataset_train[\"package_size\"] = pd.DataFrame(lab_encoder_package_size.transform(dataset_train[\"package_size\"]))\n",
        "    lab_encoder_b2c =  LabelEncoder()\n",
        "    lab_encoder_b2c.fit(dataset_train[\"b2c_c2c\"])\n",
        "    dataset_train[\"b2c_c2c\"] = pd.DataFrame(lab_encoder_b2c.transform(dataset_train[\"b2c_c2c\"]))\n",
        "    return dataset_train\n",
        "\n",
        "\n",
        "dataset_train_updated = data_cleaning(dataset)"
      ],
      "id": "cE-Ifa3clG6c",
      "execution_count": null,
      "outputs": []
    },
    {
      "cell_type": "code",
      "metadata": {
        "id": "2db101b2"
      },
      "source": [
        " #correlations after all columns convertedi into numeric form\n",
        " corr = dataset_train_updated.corr()"
      ],
      "id": "2db101b2",
      "execution_count": null,
      "outputs": []
    },
    {
      "cell_type": "code",
      "metadata": {
        "colab": {
          "base_uri": "https://localhost:8080/",
          "height": 397
        },
        "id": "4fcad273",
        "outputId": "dd9bec70-dbbc-4f8b-c9b4-3c72c9de6f90"
      },
      "source": [
        "# plot the heatmap\n",
        "sns.heatmap(corr, \n",
        "        xticklabels=corr.columns,\n",
        "        yticklabels=corr.columns)"
      ],
      "id": "4fcad273",
      "execution_count": null,
      "outputs": [
        {
          "output_type": "execute_result",
          "data": {
            "text/plain": [
              "<matplotlib.axes._subplots.AxesSubplot at 0x7f3455b64090>"
            ]
          },
          "metadata": {},
          "execution_count": 18
        },
        {
          "output_type": "display_data",
          "data": {
            "image/png": "[encoded data removed]",
            "text/plain": [
              "<Figure size 432x288 with 2 Axes>"
            ]
          },
          "metadata": {
            "needs_background": "light"
          }
        }
      ]
    },
    {
      "cell_type": "code",
      "metadata": {
        "colab": {
          "base_uri": "https://localhost:8080/"
        },
        "id": "nsY2pWORU-5W",
        "outputId": "b497d817-3710-47e7-8af0-be1c9358be5a"
      },
      "source": [
        "# checking missing value for each columns \n",
        "for col, i in enumerate(dataset_train_updated):\n",
        "    print( \"\\033[1m\" + f'{dataset_train_updated.columns[col]} has {dataset_train_updated[i].isna().sum()} missing values')"
      ],
      "id": "nsY2pWORU-5W",
      "execution_count": null,
      "outputs": [
        {
          "output_type": "stream",
          "name": "stdout",
          "text": [
            "\u001b[1mb2c_c2c has 0 missing values\n",
            "\u001b[1mseller_id has 0 missing values\n",
            "\u001b[1mdeclared_handling_days has 702886 missing values\n",
            "\u001b[1macceptance_scan_timestamp has 0 missing values\n",
            "\u001b[1mshipment_method_id has 0 missing values\n",
            "\u001b[1mshipping_fee has 0 missing values\n",
            "\u001b[1mcarrier_min_estimate has 0 missing values\n",
            "\u001b[1mcarrier_max_estimate has 0 missing values\n",
            "\u001b[1mitem_zip has 173425 missing values\n",
            "\u001b[1mbuyer_zip has 18995 missing values\n",
            "\u001b[1mcategory_id has 0 missing values\n",
            "\u001b[1mitem_price has 0 missing values\n",
            "\u001b[1mquantity has 0 missing values\n",
            "\u001b[1mpayment_datetime has 0 missing values\n",
            "\u001b[1mdelivery_date has 0 missing values\n",
            "\u001b[1mweight has 0 missing values\n",
            "\u001b[1mweight_units has 0 missing values\n",
            "\u001b[1mpackage_size has 0 missing values\n",
            "\u001b[1mrecord_number has 0 missing values\n"
          ]
        }
      ]
    },
    {
      "cell_type": "code",
      "metadata": {
        "id": "HxKv6NA3VPn8"
      },
      "source": [
        "#dropping missing values \n",
        "dataset_train_updated = dataset_train_updated.dropna()"
      ],
      "id": "HxKv6NA3VPn8",
      "execution_count": null,
      "outputs": []
    },
    {
      "cell_type": "code",
      "metadata": {
        "id": "Hd5qOWnCVVDQ"
      },
      "source": [
        "# confirm missing values \n",
        "# for col, i in enumerate(dataset_train_updated):\n",
        "#     print( \"\\033[1m\" + f'{dataset_train_updated.columns[col]} has {dataset_train_updated[i].isna().sum()} missing values')"
      ],
      "id": "Hd5qOWnCVVDQ",
      "execution_count": null,
      "outputs": []
    },
    {
      "cell_type": "code",
      "metadata": {
        "colab": {
          "base_uri": "https://localhost:8080/"
        },
        "id": "OLMvFsZimaey",
        "outputId": "b5c05629-efba-4f0b-c8eb-968a932a9592"
      },
      "source": [
        "# df_train, df_test = train_test_split(dataset_train_updated, test_size=0.6)\n",
        "# df_train.shape"
      ],
      "id": "OLMvFsZimaey",
      "execution_count": null,
      "outputs": [
        {
          "output_type": "execute_result",
          "data": {
            "text/plain": [
              "(5644316, 19)"
            ]
          },
          "metadata": {},
          "execution_count": 21
        }
      ]
    },
    {
      "cell_type": "code",
      "metadata": {
        "id": "GgqzS4fyzPEo"
      },
      "source": [
        "# df_train.to_csv(\"main.csv\")"
      ],
      "id": "GgqzS4fyzPEo",
      "execution_count": null,
      "outputs": []
    },
    {
      "cell_type": "code",
      "metadata": {
        "colab": {
          "base_uri": "https://localhost:8080/",
          "height": 17
        },
        "id": "9jIiGnjxyW9g",
        "outputId": "6bfc09c5-cbe1-48b2-a3f6-d05f924cd1b0"
      },
      "source": [
        "# from google.colab import files\n",
        "# files.download(\"main.csv\")"
      ],
      "id": "9jIiGnjxyW9g",
      "execution_count": null,
      "outputs": [
        {
          "data": {
            "application/javascript": [
              "\n",
              "    async function download(id, filename, size) {\n",
              "      if (!google.colab.kernel.accessAllowed) {\n",
              "        return;\n",
              "      }\n",
              "      const div = document.createElement('div');\n",
              "      const label = document.createElement('label');\n",
              "      label.textContent = `Downloading \"${filename}\": `;\n",
              "      div.appendChild(label);\n",
              "      const progress = document.createElement('progress');\n",
              "      progress.max = size;\n",
              "      div.appendChild(progress);\n",
              "      document.body.appendChild(div);\n",
              "\n",
              "      const buffers = [];\n",
              "      let downloaded = 0;\n",
              "\n",
              "      const channel = await google.colab.kernel.comms.open(id);\n",
              "      // Send a message to notify the kernel that we're ready.\n",
              "      channel.send({})\n",
              "\n",
              "      for await (const message of channel.messages) {\n",
              "        // Send a message to notify the kernel that we're ready.\n",
              "        channel.send({})\n",
              "        if (message.buffers) {\n",
              "          for (const buffer of message.buffers) {\n",
              "            buffers.push(buffer);\n",
              "            downloaded += buffer.byteLength;\n",
              "            progress.value = downloaded;\n",
              "          }\n",
              "        }\n",
              "      }\n",
              "      const blob = new Blob(buffers, {type: 'application/binary'});\n",
              "      const a = document.createElement('a');\n",
              "      a.href = window.URL.createObjectURL(blob);\n",
              "      a.download = filename;\n",
              "      div.appendChild(a);\n",
              "      a.click();\n",
              "      div.remove();\n",
              "    }\n",
              "  "
            ],
            "text/plain": [
              "<IPython.core.display.Javascript object>"
            ]
          },
          "metadata": {},
          "output_type": "display_data"
        },
        {
          "data": {
            "application/javascript": [
              "download(\"download_6561ad74-e31a-4885-b25a-3ff28b8459be\", \"main.csv\", 714814694)"
            ],
            "text/plain": [
              "<IPython.core.display.Javascript object>"
            ]
          },
          "metadata": {},
          "output_type": "display_data"
        }
      ]
    },
    {
      "cell_type": "markdown",
      "metadata": {
        "id": "Za4eIzBzOydt"
      },
      "source": [
        "### Features and target data splitting"
      ],
      "id": "Za4eIzBzOydt"
    },
    {
      "cell_type": "code",
      "metadata": {
        "id": "bde44daa"
      },
      "source": [
        "#seperating features and target from the dataset for model prediction\n",
        "features = df_train.drop([\"delivery_date\", \"payment_datetime\", \"actual_delivery_time\", \"seller_id\"], axis =1)\n",
        "target = df_train[\"actual_delivery_time\"]\n"
      ],
      "id": "bde44daa",
      "execution_count": null,
      "outputs": []
    },
    {
      "cell_type": "code",
      "metadata": {
        "id": "1b70faf4"
      },
      "source": [
        "#80-20 ratio for train and test data on training instances\n",
        "from sklearn.model_selection import train_test_split\n",
        "\n",
        "X_train, X_test, y_train , y_test = train_test_split(features ,labels, test_size= 0.2)\n"
      ],
      "id": "1b70faf4",
      "execution_count": null,
      "outputs": []
    },
    {
      "cell_type": "markdown",
      "metadata": {
        "id": "0sxh5v-jO5AE"
      },
      "source": [
        "### Random Forest Regression"
      ],
      "id": "0sxh5v-jO5AE"
    },
    {
      "cell_type": "code",
      "metadata": {
        "id": "67edf295"
      },
      "source": [
        "#using sklearn to build random forest model baseline\n",
        "from sklearn.ensemble import RandomForestRegressor\n",
        "\n",
        "random_forest = RandomForestRegressor(n_estimators= 200, max_depth = 30, random_state = 42, n_jobs= -1, min_samples_leaf= 4, min_samples_split= 2)\n",
        "\n",
        "rforest = random_forest.fit(X_train, y_train)\n",
        "\n"
      ],
      "id": "67edf295",
      "execution_count": 2,
      "outputs": []
    },
    {
      "cell_type": "code",
      "metadata": {
        "colab": {
          "base_uri": "https://localhost:8080/"
        },
        "id": "ifhuZ6_ZaLTd",
        "outputId": "c79a7a59-106d-4f8f-e9cd-219203e9324d"
      },
      "source": [
        "y_pred = rforest.predict(X_test)\n",
        "\n",
        "y_pred.shape"
      ],
      "id": "ifhuZ6_ZaLTd",
      "execution_count": null,
      "outputs": [
        {
          "data": {
            "text/plain": [
              "(1128864,)"
            ]
          },
          "execution_count": 42,
          "metadata": {},
          "output_type": "execute_result"
        }
      ]
    },
    {
      "cell_type": "code",
      "metadata": {
        "colab": {
          "base_uri": "https://localhost:8080/"
        },
        "id": "iV3bH2piVljF",
        "outputId": "ca24b19e-5449-4af8-c620-e692d8e1f500"
      },
      "source": [
        "#MSE score for the training model\n",
        "from sklearn.metrics import mean_squared_error\n",
        "mse = mean_squared_error(y_test, y_pred)\n",
        "mse"
      ],
      "id": "iV3bH2piVljF",
      "execution_count": null,
      "outputs": [
        {
          "data": {
            "text/plain": [
              "2.6862186641467685"
            ]
          },
          "execution_count": 43,
          "metadata": {},
          "output_type": "execute_result"
        }
      ]
    },
    {
      "cell_type": "markdown",
      "metadata": {
        "id": "dU2cY9AOO-Be"
      },
      "source": [
        "### Ridge and Lasso"
      ],
      "id": "dU2cY9AOO-Be"
    },
    {
      "cell_type": "code",
      "metadata": {
        "colab": {
          "base_uri": "https://localhost:8080/"
        },
        "id": "PgzYWVA3ApEe",
        "outputId": "90d5ddaf-ae35-4916-ce99-b1982cd9cb4a"
      },
      "source": [
        "from sklearn.linear_model import Ridge\n",
        "from sklearn.linear_model import Lasso\n",
        "\n",
        "model_ridge = Ridge(alpha= 10, fit_intercept= True)\n",
        "\n",
        "model_ridge.fit(X_train, y_train)\n",
        "\n",
        "y_pred_ridge = model_ridge.predict(X_test)\n",
        "\n",
        "#Mean squared error\n",
        "mse = mean_squared_error(y_test, y_pred_ridge)\n",
        "mse"
      ],
      "id": "PgzYWVA3ApEe",
      "execution_count": null,
      "outputs": [
        {
          "name": "stderr",
          "output_type": "stream",
          "text": [
            "/usr/local/lib/python3.7/dist-packages/sklearn/linear_model/_ridge.py:148: LinAlgWarning: Ill-conditioned matrix (rcond=5.73724e-21): result may not be accurate.\n",
            "  overwrite_a=True).T\n"
          ]
        },
        {
          "data": {
            "text/plain": [
              "3.368377738737289"
            ]
          },
          "execution_count": 46,
          "metadata": {},
          "output_type": "execute_result"
        }
      ]
    },
    {
      "cell_type": "code",
      "metadata": {
        "colab": {
          "base_uri": "https://localhost:8080/"
        },
        "id": "DnFhcFecA7Vd",
        "outputId": "44763281-24f8-4006-b4f6-8d4482f47556"
      },
      "source": [
        "model_lasso = Lasso(alpha= 0.3, fit_intercept=True)\n",
        "\n",
        "model_lasso.fit(X_train, y_train)\n",
        "\n",
        "y_pred_lasso = model_lasso.predict(X_test)\n",
        "\n",
        "#Mean squared error\n",
        "mse = mean_squared_error(y_test, y_pred_lasso)\n",
        "mse"
      ],
      "id": "DnFhcFecA7Vd",
      "execution_count": null,
      "outputs": [
        {
          "data": {
            "text/plain": [
              "3.448705400748785"
            ]
          },
          "execution_count": 47,
          "metadata": {},
          "output_type": "execute_result"
        }
      ]
    },
    {
      "cell_type": "markdown",
      "metadata": {
        "id": "tnNjbd2HPDS-"
      },
      "source": [
        "### Saving the models"
      ],
      "id": "tnNjbd2HPDS-"
    },
    {
      "cell_type": "code",
      "metadata": {
        "colab": {
          "base_uri": "https://localhost:8080/",
          "height": 17
        },
        "id": "5LAxOH3Q5Jnn",
        "outputId": "7cbc892d-b94d-44fe-eea1-ee72d123f369"
      },
      "source": [
        "#saving model\n",
        "import joblib\n",
        "\n",
        "joblib.dump(rforest, \"my_random_forest_max10_245.joblib\")\n",
        "files.download(\"my_random_forest_max10_245.joblib\")\n",
        "\n",
        "#loaded_rf = joblib.load(\"my_random_forest.joblib\")   #this is to load"
      ],
      "id": "5LAxOH3Q5Jnn",
      "execution_count": null,
      "outputs": [
        {
          "data": {
            "application/javascript": [
              "\n",
              "    async function download(id, filename, size) {\n",
              "      if (!google.colab.kernel.accessAllowed) {\n",
              "        return;\n",
              "      }\n",
              "      const div = document.createElement('div');\n",
              "      const label = document.createElement('label');\n",
              "      label.textContent = `Downloading \"${filename}\": `;\n",
              "      div.appendChild(label);\n",
              "      const progress = document.createElement('progress');\n",
              "      progress.max = size;\n",
              "      div.appendChild(progress);\n",
              "      document.body.appendChild(div);\n",
              "\n",
              "      const buffers = [];\n",
              "      let downloaded = 0;\n",
              "\n",
              "      const channel = await google.colab.kernel.comms.open(id);\n",
              "      // Send a message to notify the kernel that we're ready.\n",
              "      channel.send({})\n",
              "\n",
              "      for await (const message of channel.messages) {\n",
              "        // Send a message to notify the kernel that we're ready.\n",
              "        channel.send({})\n",
              "        if (message.buffers) {\n",
              "          for (const buffer of message.buffers) {\n",
              "            buffers.push(buffer);\n",
              "            downloaded += buffer.byteLength;\n",
              "            progress.value = downloaded;\n",
              "          }\n",
              "        }\n",
              "      }\n",
              "      const blob = new Blob(buffers, {type: 'application/binary'});\n",
              "      const a = document.createElement('a');\n",
              "      a.href = window.URL.createObjectURL(blob);\n",
              "      a.download = filename;\n",
              "      div.appendChild(a);\n",
              "      a.click();\n",
              "      div.remove();\n",
              "    }\n",
              "  "
            ],
            "text/plain": [
              "<IPython.core.display.Javascript object>"
            ]
          },
          "metadata": {},
          "output_type": "display_data"
        },
        {
          "data": {
            "application/javascript": [
              "download(\"download_cf43f4fa-b8a3-4769-b5a1-05a359677d13\", \"my_random_forest_max10_245.joblib\", 10222909)"
            ],
            "text/plain": [
              "<IPython.core.display.Javascript object>"
            ]
          },
          "metadata": {},
          "output_type": "display_data"
        }
      ]
    }
  ]
}