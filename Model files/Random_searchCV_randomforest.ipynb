{
  "nbformat": 4,
  "nbformat_minor": 0,
  "metadata": {
    "colab": {
      "name": "Random_searchCV_randomforest.ipynb",
      "provenance": [],
      "collapsed_sections": [
        "_PF0fWQAIsW1",
        "VZR936iBI3JB",
        "GPBWRRXKJEj7",
        "PI4zsS1LJLzg",
        "mlDJOZReJuCE",
        "jOV1qLBAKCon",
        "ASWwk5KxKIh8",
        "1HFrzUmDKUnJ",
        "YClMtPjmKkqq",
        "RGdaD3XyLNEz"
      ],
      "machine_shape": "hm",
      "authorship_tag": "ABX9TyNnWnrCwUgDZSI/Y6JsYUFO",
      "include_colab_link": true
    },
    "kernelspec": {
      "name": "python3",
      "display_name": "Python 3"
    },
    "language_info": {
      "name": "python"
    },
    "accelerator": "TPU"
  },
  "cells": [
    {
      "cell_type": "markdown",
      "metadata": {
        "id": "view-in-github",
        "colab_type": "text"
      },
      "source": [
        "<a href=\"https://colab.research.google.com/github/vraj1231/DATA245_-Delivery_time_prediction/blob/main/Model%20files/Random_searchCV_randomforest.ipynb\" target=\"_parent\"><img src=\"https://colab.research.google.com/assets/colab-badge.svg\" alt=\"Open In Colab\"/></a>"
      ]
    },
    {
      "cell_type": "markdown",
      "metadata": {
        "id": "_PF0fWQAIsW1"
      },
      "source": [
        "### Data Loading "
      ]
    },
    {
      "cell_type": "code",
      "metadata": {
        "colab": {
          "base_uri": "https://localhost:8080/"
        },
        "id": "7Ap1492-c15H",
        "outputId": "68b958d4-910b-4bd1-e6bf-4c8091e4895c"
      },
      "source": [
        "from google.colab import drive #using google drive for storage\n",
        "drive.mount('/content/gdrive')"
      ],
      "execution_count": 1,
      "outputs": [
        {
          "output_type": "stream",
          "name": "stdout",
          "text": [
            "Mounted at /content/gdrive\n"
          ]
        }
      ]
    },
    {
      "cell_type": "code",
      "metadata": {
        "id": "i6UFjRZreb51"
      },
      "source": [
        "import seaborn as sns #all libraries \n",
        "import pandas as pd\n",
        "import numpy as np\n",
        "import matplotlib.pyplot as plt\n",
        "from sklearn.preprocessing import LabelEncoder\n",
        "from sklearn.model_selection import train_test_split\n",
        "from sklearn.metrics import mean_squared_error, accuracy_score"
      ],
      "execution_count": 2,
      "outputs": []
    },
    {
      "cell_type": "code",
      "metadata": {
        "colab": {
          "base_uri": "https://localhost:8080/",
          "height": 330
        },
        "id": "Lz8Qb8L5eqlT",
        "outputId": "f60431cd-0c9f-438d-8869-25e0f59a4e85"
      },
      "source": [
        "dataset = pd.read_csv(\"gdrive/My Drive/main.csv\")\n",
        "dataset.head()"
      ],
      "execution_count": 3,
      "outputs": [
        {
          "output_type": "execute_result",
          "data": {
            "text/html": [
              "<div>\n",
              "<style scoped>\n",
              "    .dataframe tbody tr th:only-of-type {\n",
              "        vertical-align: middle;\n",
              "    }\n",
              "\n",
              "    .dataframe tbody tr th {\n",
              "        vertical-align: top;\n",
              "    }\n",
              "\n",
              "    .dataframe thead th {\n",
              "        text-align: right;\n",
              "    }\n",
              "</style>\n",
              "<table border=\"1\" class=\"dataframe\">\n",
              "  <thead>\n",
              "    <tr style=\"text-align: right;\">\n",
              "      <th></th>\n",
              "      <th>Unnamed: 0</th>\n",
              "      <th>b2c_c2c</th>\n",
              "      <th>seller_id</th>\n",
              "      <th>declared_handling_days</th>\n",
              "      <th>acceptance_scan_timestamp</th>\n",
              "      <th>shipment_method_id</th>\n",
              "      <th>shipping_fee</th>\n",
              "      <th>carrier_min_estimate</th>\n",
              "      <th>carrier_max_estimate</th>\n",
              "      <th>item_zip</th>\n",
              "      <th>buyer_zip</th>\n",
              "      <th>category_id</th>\n",
              "      <th>item_price</th>\n",
              "      <th>quantity</th>\n",
              "      <th>payment_datetime</th>\n",
              "      <th>delivery_date</th>\n",
              "      <th>weight</th>\n",
              "      <th>weight_units</th>\n",
              "      <th>package_size</th>\n",
              "      <th>record_number</th>\n",
              "      <th>actual_delivery_time</th>\n",
              "    </tr>\n",
              "  </thead>\n",
              "  <tbody>\n",
              "    <tr>\n",
              "      <th>0</th>\n",
              "      <td>3373488</td>\n",
              "      <td>0</td>\n",
              "      <td>11930</td>\n",
              "      <td>1.0</td>\n",
              "      <td>3</td>\n",
              "      <td>4</td>\n",
              "      <td>0.0</td>\n",
              "      <td>2</td>\n",
              "      <td>9</td>\n",
              "      <td>11040.0</td>\n",
              "      <td>30907.0</td>\n",
              "      <td>9</td>\n",
              "      <td>12.60</td>\n",
              "      <td>1</td>\n",
              "      <td>2019-07-19 20:59:47+00:00</td>\n",
              "      <td>2019-07-25 00:00:00+00:00</td>\n",
              "      <td>0</td>\n",
              "      <td>1</td>\n",
              "      <td>5</td>\n",
              "      <td>3373489</td>\n",
              "      <td>6</td>\n",
              "    </tr>\n",
              "    <tr>\n",
              "      <th>1</th>\n",
              "      <td>5277493</td>\n",
              "      <td>0</td>\n",
              "      <td>39706</td>\n",
              "      <td>1.0</td>\n",
              "      <td>0</td>\n",
              "      <td>0</td>\n",
              "      <td>0.0</td>\n",
              "      <td>3</td>\n",
              "      <td>5</td>\n",
              "      <td>32926.0</td>\n",
              "      <td>55076.0</td>\n",
              "      <td>16</td>\n",
              "      <td>9.65</td>\n",
              "      <td>1</td>\n",
              "      <td>2018-01-08 22:34:11+00:00</td>\n",
              "      <td>2018-01-11 00:00:00+00:00</td>\n",
              "      <td>0</td>\n",
              "      <td>1</td>\n",
              "      <td>5</td>\n",
              "      <td>5277494</td>\n",
              "      <td>3</td>\n",
              "    </tr>\n",
              "    <tr>\n",
              "      <th>2</th>\n",
              "      <td>12103250</td>\n",
              "      <td>0</td>\n",
              "      <td>40783</td>\n",
              "      <td>0.0</td>\n",
              "      <td>3</td>\n",
              "      <td>0</td>\n",
              "      <td>0.0</td>\n",
              "      <td>3</td>\n",
              "      <td>5</td>\n",
              "      <td>7302.0</td>\n",
              "      <td>33166.0</td>\n",
              "      <td>8</td>\n",
              "      <td>79.95</td>\n",
              "      <td>1</td>\n",
              "      <td>2019-06-30 05:24:56+00:00</td>\n",
              "      <td>2019-07-06 00:00:00+00:00</td>\n",
              "      <td>0</td>\n",
              "      <td>1</td>\n",
              "      <td>5</td>\n",
              "      <td>12103251</td>\n",
              "      <td>6</td>\n",
              "    </tr>\n",
              "    <tr>\n",
              "      <th>3</th>\n",
              "      <td>5185474</td>\n",
              "      <td>1</td>\n",
              "      <td>228041</td>\n",
              "      <td>0.0</td>\n",
              "      <td>1</td>\n",
              "      <td>0</td>\n",
              "      <td>0.0</td>\n",
              "      <td>3</td>\n",
              "      <td>5</td>\n",
              "      <td>19711.0</td>\n",
              "      <td>6117.0</td>\n",
              "      <td>2</td>\n",
              "      <td>124.99</td>\n",
              "      <td>2</td>\n",
              "      <td>2019-08-27 03:38:34+00:00</td>\n",
              "      <td>2019-08-30 00:00:00+00:00</td>\n",
              "      <td>9</td>\n",
              "      <td>1</td>\n",
              "      <td>5</td>\n",
              "      <td>5185475</td>\n",
              "      <td>3</td>\n",
              "    </tr>\n",
              "    <tr>\n",
              "      <th>4</th>\n",
              "      <td>2655751</td>\n",
              "      <td>1</td>\n",
              "      <td>889688</td>\n",
              "      <td>2.0</td>\n",
              "      <td>2</td>\n",
              "      <td>0</td>\n",
              "      <td>0.0</td>\n",
              "      <td>3</td>\n",
              "      <td>5</td>\n",
              "      <td>28205.0</td>\n",
              "      <td>27292.0</td>\n",
              "      <td>1</td>\n",
              "      <td>13.97</td>\n",
              "      <td>1</td>\n",
              "      <td>2018-11-06 20:49:48+00:00</td>\n",
              "      <td>2018-11-10 00:00:00+00:00</td>\n",
              "      <td>14</td>\n",
              "      <td>1</td>\n",
              "      <td>5</td>\n",
              "      <td>2655752</td>\n",
              "      <td>4</td>\n",
              "    </tr>\n",
              "  </tbody>\n",
              "</table>\n",
              "</div>"
            ],
            "text/plain": [
              "   Unnamed: 0  b2c_c2c  ...  record_number  actual_delivery_time\n",
              "0     3373488        0  ...        3373489                     6\n",
              "1     5277493        0  ...        5277494                     3\n",
              "2    12103250        0  ...       12103251                     6\n",
              "3     5185474        1  ...        5185475                     3\n",
              "4     2655751        1  ...        2655752                     4\n",
              "\n",
              "[5 rows x 21 columns]"
            ]
          },
          "metadata": {},
          "execution_count": 3
        }
      ]
    },
    {
      "cell_type": "code",
      "metadata": {
        "id": "GTndhQMpRhMP"
      },
      "source": [
        "# df_train, df_test = train_test_split(dataset, test_size=0.6)\n",
        "# df_train.shape"
      ],
      "execution_count": 4,
      "outputs": []
    },
    {
      "cell_type": "code",
      "metadata": {
        "id": "qEAKYiM7j9cO"
      },
      "source": [
        "# updated_dataset = dataset.drop([ \"Unnamed: 0\",\"delivery_date\", \"payment_datetime\"], axis =1)"
      ],
      "execution_count": 5,
      "outputs": []
    },
    {
      "cell_type": "markdown",
      "metadata": {
        "id": "VZR936iBI3JB"
      },
      "source": [
        "### Standardilization "
      ]
    },
    {
      "cell_type": "code",
      "metadata": {
        "id": "zhZjRx7ShBZB"
      },
      "source": [
        "\n",
        "# from sklearn.preprocessing import MinMaxScaler\n",
        "  \n",
        "# \"\"\" MIN MAX SCALER \"\"\"\n",
        "  \n",
        "# min_max_scaler = MinMaxScaler(feature_range =(0, 1))\n",
        "\n",
        "# print(updated_dataset.columns)\n",
        "  \n",
        "# #Scaled feature\n",
        "# scaled_dataset = pd.DataFrame(min_max_scaler.fit_transform(updated_dataset))\n",
        "# scaled_dataset.columns = updated_dataset.columns\n",
        "# scaled_dataset\n",
        "  \n",
        "#Standardisation \n",
        "  \n",
        "# Standardisation = preprocessing.StandardScaler()\n",
        "  \n",
        "# #Scaled feature\n",
        "# x_after_Standardisation = Standardisation.fit_transform(x)\n",
        "  \n",
        "# print (\"\\nAfter Standardisation : \\n\", x_after_Standardisation)\n"
      ],
      "execution_count": 6,
      "outputs": []
    },
    {
      "cell_type": "code",
      "metadata": {
        "colab": {
          "base_uri": "https://localhost:8080/"
        },
        "id": "mVdZlUijeO0-",
        "outputId": "62ed90a0-906d-4433-a70a-7436c659f86f"
      },
      "source": [
        "# df_train.columns"
      ],
      "execution_count": null,
      "outputs": [
        {
          "output_type": "execute_result",
          "data": {
            "text/plain": [
              "Index(['Unnamed: 0', 'b2c_c2c', 'seller_id', 'declared_handling_days',\n",
              "       'acceptance_scan_timestamp', 'shipment_method_id', 'shipping_fee',\n",
              "       'carrier_min_estimate', 'carrier_max_estimate', 'item_zip', 'buyer_zip',\n",
              "       'category_id', 'item_price', 'quantity', 'payment_datetime',\n",
              "       'delivery_date', 'weight', 'weight_units', 'package_size',\n",
              "       'record_number', 'actual_delivery_time'],\n",
              "      dtype='object')"
            ]
          },
          "metadata": {},
          "execution_count": 32
        }
      ]
    },
    {
      "cell_type": "markdown",
      "metadata": {
        "id": "GPBWRRXKJEj7"
      },
      "source": [
        "### Features and Labels of Dataset"
      ]
    },
    {
      "cell_type": "code",
      "metadata": {
        "id": "dZSK1lXHbjaB"
      },
      "source": [
        "features = dataset.drop([ \"Unnamed: 0\",\"delivery_date\", \"payment_datetime\", \"actual_delivery_time\", \"seller_id\",\"record_number\", \"item_price\", \"quantity\",'weight', \"weight_units\", \"shipping_fee\"], axis =1)\n",
        "target = dataset[\"actual_delivery_time\"]"
      ],
      "execution_count": 12,
      "outputs": []
    },
    {
      "cell_type": "code",
      "metadata": {
        "id": "6PU49Yezbk0L"
      },
      "source": [
        "from sklearn.model_selection import train_test_split\n",
        "\n",
        "X_train, X_test, y_train , y_test = train_test_split(features ,target, test_size= 0.2)"
      ],
      "execution_count": 9,
      "outputs": []
    },
    {
      "cell_type": "code",
      "metadata": {
        "colab": {
          "base_uri": "https://localhost:8080/"
        },
        "id": "WuYYEcEHa7Co",
        "outputId": "abccee56-334f-4f3d-a66e-e37f9f76b841"
      },
      "source": [
        "for col, i in enumerate(X_train):\n",
        "    print( \"\\033[1m\" + f'{X_train.columns[col]} has {X_train[i].isna().sum()} missing values')"
      ],
      "execution_count": null,
      "outputs": [
        {
          "output_type": "stream",
          "name": "stdout",
          "text": [
            "\u001b[1mb2c_c2c has 0 missing values\n",
            "\u001b[1mdeclared_handling_days has 0 missing values\n",
            "\u001b[1macceptance_scan_timestamp has 0 missing values\n",
            "\u001b[1mshipment_method_id has 0 missing values\n",
            "\u001b[1mcarrier_min_estimate has 0 missing values\n",
            "\u001b[1mcarrier_max_estimate has 0 missing values\n",
            "\u001b[1mitem_zip has 0 missing values\n",
            "\u001b[1mbuyer_zip has 0 missing values\n",
            "\u001b[1mcategory_id has 0 missing values\n",
            "\u001b[1mpackage_size has 0 missing values\n"
          ]
        }
      ]
    },
    {
      "cell_type": "code",
      "metadata": {
        "colab": {
          "base_uri": "https://localhost:8080/"
        },
        "id": "qRUpjNLlbOZE",
        "outputId": "22d0f9ca-fc40-473d-cdb4-d1c875f1286f"
      },
      "source": [
        "for col, i in enumerate(X_test):\n",
        "    print( \"\\033[1m\" + f'{X_test.columns[col]} has {X_test[i].isna().sum()} missing values')"
      ],
      "execution_count": null,
      "outputs": [
        {
          "output_type": "stream",
          "name": "stdout",
          "text": [
            "\u001b[1mb2c_c2c has 0 missing values\n",
            "\u001b[1mdeclared_handling_days has 0 missing values\n",
            "\u001b[1macceptance_scan_timestamp has 0 missing values\n",
            "\u001b[1mshipment_method_id has 0 missing values\n",
            "\u001b[1mcarrier_min_estimate has 0 missing values\n",
            "\u001b[1mcarrier_max_estimate has 0 missing values\n",
            "\u001b[1mitem_zip has 0 missing values\n",
            "\u001b[1mbuyer_zip has 0 missing values\n",
            "\u001b[1mcategory_id has 0 missing values\n",
            "\u001b[1mpackage_size has 0 missing values\n"
          ]
        }
      ]
    },
    {
      "cell_type": "markdown",
      "metadata": {
        "id": "PI4zsS1LJLzg"
      },
      "source": [
        "### Random-Forest-Regresssor"
      ]
    },
    {
      "cell_type": "code",
      "metadata": {
        "id": "kp_3x-F5aJyS"
      },
      "source": [
        "from sklearn.ensemble import RandomForestRegressor\n",
        "\n",
        "random_forest = RandomForestRegressor(n_estimators=200, max_depth = 30, random_state = 42, n_jobs= -1, min_samples_leaf= 4, min_samples_split= 2)\n",
        "\n",
        "rforest = random_forest.fit(X_train, y_train)"
      ],
      "execution_count": null,
      "outputs": []
    },
    {
      "cell_type": "code",
      "metadata": {
        "colab": {
          "base_uri": "https://localhost:8080/"
        },
        "id": "7R1wCAcKbVYZ",
        "outputId": "9de910cd-3d55-4f5a-daf0-4b3f0c802b0c"
      },
      "source": [
        "y_pred = rforest.predict(X_test)\n",
        "\n",
        "y_pred.shape"
      ],
      "execution_count": null,
      "outputs": [
        {
          "output_type": "execute_result",
          "data": {
            "text/plain": [
              "(1128864,)"
            ]
          },
          "metadata": {},
          "execution_count": 7
        }
      ]
    },
    {
      "cell_type": "code",
      "metadata": {
        "colab": {
          "base_uri": "https://localhost:8080/"
        },
        "id": "skkFq4kEbaQI",
        "outputId": "350d49c2-3477-4688-c518-9c3e76a70d69"
      },
      "source": [
        "rmse = np.sqrt( mean_squared_error(y_test, y_pred))\n",
        "rmse\n"
      ],
      "execution_count": null,
      "outputs": [
        {
          "output_type": "execute_result",
          "data": {
            "text/plain": [
              "1.5938194787392057"
            ]
          },
          "metadata": {},
          "execution_count": 92
        }
      ]
    },
    {
      "cell_type": "code",
      "metadata": {
        "colab": {
          "base_uri": "https://localhost:8080/"
        },
        "id": "GW1nxUT95hqg",
        "outputId": "3c39642d-bfd6-4397-cc29-5bbacfdc6e7f"
      },
      "source": [
        "rforest.score(X_test, y_test)"
      ],
      "execution_count": null,
      "outputs": [
        {
          "output_type": "execute_result",
          "data": {
            "text/plain": [
              "0.7316338436066421"
            ]
          },
          "metadata": {},
          "execution_count": 90
        }
      ]
    },
    {
      "cell_type": "code",
      "metadata": {
        "colab": {
          "base_uri": "https://localhost:8080/"
        },
        "id": "1y_jz6kx0WtI",
        "outputId": "12b213b5-4741-4452-d56e-2ccff5f4bccb"
      },
      "source": [
        "mean_absolute_error(y_test, y_pred)"
      ],
      "execution_count": null,
      "outputs": [
        {
          "output_type": "execute_result",
          "data": {
            "text/plain": [
              "0.9741811713229339"
            ]
          },
          "metadata": {},
          "execution_count": 93
        }
      ]
    },
    {
      "cell_type": "code",
      "metadata": {
        "colab": {
          "base_uri": "https://localhost:8080/"
        },
        "id": "9Rwb02VyS36f",
        "outputId": "84706614-05d9-406a-9211-5f8bb62dbe63"
      },
      "source": [
        "rforest.decision_path"
      ],
      "execution_count": null,
      "outputs": [
        {
          "output_type": "execute_result",
          "data": {
            "text/plain": [
              "<bound method BaseForest.decision_path of RandomForestRegressor(bootstrap=True, ccp_alpha=0.0, criterion='mse',\n",
              "                      max_depth=60, max_features='auto', max_leaf_nodes=None,\n",
              "                      max_samples=None, min_impurity_decrease=0.0,\n",
              "                      min_impurity_split=None, min_samples_leaf=40,\n",
              "                      min_samples_split=2, min_weight_fraction_leaf=0.0,\n",
              "                      n_estimators=1000, n_jobs=-1, oob_score=False,\n",
              "                      random_state=42, verbose=0, warm_start=False)>"
            ]
          },
          "metadata": {},
          "execution_count": 80
        }
      ]
    },
    {
      "cell_type": "code",
      "metadata": {
        "colab": {
          "base_uri": "https://localhost:8080/"
        },
        "id": "HR5iwtZaciU8",
        "outputId": "49c4b4a5-f1a3-4128-8c8c-25eea90a5861"
      },
      "source": [
        "from sklearn.metrics import r2_score\n",
        "\n",
        "r2_score = r2_score(y_test, y_pred)\n",
        "\n",
        "r2_score"
      ],
      "execution_count": null,
      "outputs": [
        {
          "output_type": "execute_result",
          "data": {
            "text/plain": [
              "0.7260060941609469"
            ]
          },
          "metadata": {},
          "execution_count": 47
        }
      ]
    },
    {
      "cell_type": "code",
      "metadata": {
        "id": "Hr012_KInMfY"
      },
      "source": [
        "# features = scaled_dataset.drop([\"actual_delivery_time\", \"seller_id\",\"record_number\", \"item_price\", \"quantity\",'weight', \"weight_units\", \"shipping_fee\"], axis =1)\n",
        "# target = scaled_dataset[\"actual_delivery_time\"]"
      ],
      "execution_count": 11,
      "outputs": []
    },
    {
      "cell_type": "markdown",
      "metadata": {
        "id": "mlDJOZReJuCE"
      },
      "source": [
        "### KNeighbors Regressor"
      ]
    },
    {
      "cell_type": "code",
      "metadata": {
        "id": "KGCDomXBZgg2"
      },
      "source": [
        "from sklearn.linear_model import Ridge\n",
        "from sklearn.linear_model import Lasso\n",
        "from sklearn.linear_model import ElasticNet\n",
        "from sklearn.neighbors import KNeighborsRegressor\n",
        "from sklearn.tree import DecisionTreeRegressor"
      ],
      "execution_count": null,
      "outputs": []
    },
    {
      "cell_type": "markdown",
      "metadata": {
        "id": "sTk5R4hSJ7z9"
      },
      "source": [
        ""
      ]
    },
    {
      "cell_type": "code",
      "metadata": {
        "colab": {
          "base_uri": "https://localhost:8080/"
        },
        "id": "oz1L88UpZXBe",
        "outputId": "990e9dd0-bf9b-47ae-9c1c-76c11986187a"
      },
      "source": [
        "knn = KNeighborsRegressor(n_neighbors=5)  \n",
        "knn.fit(X_train, y_train)\n",
        "y_pred = knn.predict(X_test)\n",
        "\n",
        "print('Root Mean Squared Error for knn:', np.sqrt(mean_squared_error(y_test, y_pred)))"
      ],
      "execution_count": null,
      "outputs": [
        {
          "output_type": "stream",
          "name": "stdout",
          "text": [
            "Root Mean Squared Error for knn: 3.0982491704443196\n"
          ]
        }
      ]
    },
    {
      "cell_type": "code",
      "metadata": {
        "colab": {
          "base_uri": "https://localhost:8080/"
        },
        "id": "p196dSdT94wx",
        "outputId": "dec998b6-2cf0-47ae-e387-45fd6adf061e"
      },
      "source": [
        "mean_squared_error(y_test, y_pred)"
      ],
      "execution_count": null,
      "outputs": [
        {
          "output_type": "execute_result",
          "data": {
            "text/plain": [
              "9.599147922158913"
            ]
          },
          "metadata": {},
          "execution_count": 61
        }
      ]
    },
    {
      "cell_type": "code",
      "metadata": {
        "colab": {
          "base_uri": "https://localhost:8080/"
        },
        "id": "e1LKqR9c9g0c",
        "outputId": "72edbcd6-9870-40c1-b7be-be71a7d16781"
      },
      "source": [
        "from sklearn.metrics import mean_absolute_error\n",
        "\n",
        "\n",
        "mean_absolute_error(y_test,y_pred)"
      ],
      "execution_count": null,
      "outputs": [
        {
          "output_type": "execute_result",
          "data": {
            "text/plain": [
              "1.0944787184954472"
            ]
          },
          "metadata": {},
          "execution_count": 56
        }
      ]
    },
    {
      "cell_type": "code",
      "metadata": {
        "colab": {
          "base_uri": "https://localhost:8080/"
        },
        "id": "gOQsfv7daeII",
        "outputId": "c79cd407-1666-4742-b6fa-8d224eb5571c"
      },
      "source": [
        "r2_score(y_test, y_pred)"
      ],
      "execution_count": null,
      "outputs": [
        {
          "output_type": "execute_result",
          "data": {
            "text/plain": [
              "0.6837823446995501"
            ]
          },
          "metadata": {},
          "execution_count": 55
        }
      ]
    },
    {
      "cell_type": "code",
      "metadata": {
        "id": "hMV4vUYsZ9kM"
      },
      "source": [
        "knn.score(X_test, y_test)"
      ],
      "execution_count": 13,
      "outputs": []
    },
    {
      "cell_type": "markdown",
      "metadata": {
        "id": "jOV1qLBAKCon"
      },
      "source": [
        "### Decision Tree Regressor\n"
      ]
    },
    {
      "cell_type": "code",
      "metadata": {
        "colab": {
          "base_uri": "https://localhost:8080/"
        },
        "id": "fEoC-d4TaIB-",
        "outputId": "b4a24567-ce05-402b-87a6-b4363780d467"
      },
      "source": [
        "dt = DecisionTreeRegressor()  \n",
        "dt.fit(X_train, y_train)\n",
        "y_pred_dt = dt.predict(X_test)\n",
        "print('Root Mean Squared Error for DecisionTree:', np.sqrt(mean_squared_error(y_test, y_pred_dt)))"
      ],
      "execution_count": null,
      "outputs": [
        {
          "output_type": "stream",
          "name": "stdout",
          "text": [
            "Root Mean Squared Error for DecisionTree: 2.2997063969463096\n"
          ]
        }
      ]
    },
    {
      "cell_type": "code",
      "metadata": {
        "colab": {
          "base_uri": "https://localhost:8080/"
        },
        "id": "ePZCks9manto",
        "outputId": "41b32eca-0f5b-483c-e3a9-ea7720b74124"
      },
      "source": [
        "mean_squared_error(y_test, y_pred_dt)"
      ],
      "execution_count": null,
      "outputs": [
        {
          "output_type": "execute_result",
          "data": {
            "text/plain": [
              "5.321518560631234"
            ]
          },
          "metadata": {},
          "execution_count": 63
        }
      ]
    },
    {
      "cell_type": "code",
      "metadata": {
        "colab": {
          "base_uri": "https://localhost:8080/"
        },
        "id": "W7e-i-VK-Hdu",
        "outputId": "d1b36672-300b-40a9-fad9-e909f1e1c0f2"
      },
      "source": [
        "mean_absolute_error(y_test, y_pred_dt)"
      ],
      "execution_count": null,
      "outputs": [
        {
          "output_type": "execute_result",
          "data": {
            "text/plain": [
              "1.3303472538670102"
            ]
          },
          "metadata": {},
          "execution_count": 64
        }
      ]
    },
    {
      "cell_type": "code",
      "metadata": {
        "colab": {
          "base_uri": "https://localhost:8080/"
        },
        "id": "ADfh6nG4-Lfz",
        "outputId": "4183ed70-a58d-415f-e1c7-5c5f99326e05"
      },
      "source": [
        "r2_score(y_test, y_pred_dt)"
      ],
      "execution_count": null,
      "outputs": [
        {
          "output_type": "execute_result",
          "data": {
            "text/plain": [
              "0.43923041896664894"
            ]
          },
          "metadata": {},
          "execution_count": 65
        }
      ]
    },
    {
      "cell_type": "markdown",
      "metadata": {
        "id": "ASWwk5KxKIh8"
      },
      "source": [
        "### XGBoost Regressor"
      ]
    },
    {
      "cell_type": "code",
      "metadata": {
        "id": "BAAQVuaBa3RQ"
      },
      "source": [
        "import xgboost as xgb"
      ],
      "execution_count": null,
      "outputs": []
    },
    {
      "cell_type": "code",
      "metadata": {
        "id": "2pQp3UcMa38a"
      },
      "source": [
        "xgb_model = xgb.XGBRegressor(objective=\"reg:linear\", random_state=42)\n",
        "\n",
        "xgb_model.fit(X_train, y_train)\n",
        "\n",
        "y_pred_xgb = xgb_model.predict(X_test)\n",
        "\n",
        "mse=mean_squared_error(y_test, y_pred_xgb)\n",
        "\n"
      ],
      "execution_count": 14,
      "outputs": []
    },
    {
      "cell_type": "code",
      "metadata": {
        "colab": {
          "base_uri": "https://localhost:8080/"
        },
        "id": "mjzJQRHdaOg8",
        "outputId": "5f993093-4cf4-4047-ff5e-83b139603d07"
      },
      "source": [
        "print(np.sqrt(mse))"
      ],
      "execution_count": null,
      "outputs": [
        {
          "output_type": "stream",
          "name": "stdout",
          "text": [
            "1.7075740214064394\n"
          ]
        }
      ]
    },
    {
      "cell_type": "code",
      "metadata": {
        "colab": {
          "base_uri": "https://localhost:8080/"
        },
        "id": "pxkBKFkm_pId",
        "outputId": "ec3a8ad6-a2a4-40b8-e92c-c1d9ce0d78ca"
      },
      "source": [
        "mean_absolute_error(y_test, y_pred_xgb)"
      ],
      "execution_count": null,
      "outputs": [
        {
          "output_type": "execute_result",
          "data": {
            "text/plain": [
              "1.0375019761326327"
            ]
          },
          "metadata": {},
          "execution_count": 69
        }
      ]
    },
    {
      "cell_type": "code",
      "metadata": {
        "colab": {
          "base_uri": "https://localhost:8080/"
        },
        "id": "HKZU9XgTC4GC",
        "outputId": "6cf2b8b7-192b-41c4-fdfd-c922704de1a6"
      },
      "source": [
        "r2_score(y_test, y_pred_xgb)\n",
        "print(np.sqrt(mse))"
      ],
      "execution_count": null,
      "outputs": [
        {
          "output_type": "stream",
          "name": "stdout",
          "text": [
            "1.7131620408223447\n"
          ]
        }
      ]
    },
    {
      "cell_type": "markdown",
      "metadata": {
        "id": "1HFrzUmDKUnJ"
      },
      "source": [
        "### CatBoost Regressor"
      ]
    },
    {
      "cell_type": "code",
      "metadata": {
        "id": "RqwJfzmGaTKa"
      },
      "source": [
        "# pip install catboost"
      ],
      "execution_count": 15,
      "outputs": []
    },
    {
      "cell_type": "code",
      "metadata": {
        "id": "08uoP6VrkbG6"
      },
      "source": [
        "from catboost import CatBoostRegressor\n",
        "\n",
        "\n",
        "cat_model=CatBoostRegressor()\n",
        "cat_model.fit(X_train, y_train)\n",
        "\n",
        "y_pred = cat_model.predict(X_test)\n",
        "\n",
        "mse=mean_squared_error(y_test, y_pred)\n",
        "\n",
        "print(mse)\n",
        "\n",
        "mse"
      ],
      "execution_count": null,
      "outputs": []
    },
    {
      "cell_type": "code",
      "metadata": {
        "colab": {
          "base_uri": "https://localhost:8080/"
        },
        "id": "Ret47ugS6iUZ",
        "outputId": "bb1c5ac2-4627-40e3-8855-1983eb91eb3d"
      },
      "source": [
        "pred = cat_random_search.predict(X_test)\n",
        "mse_cat = mean_squared_error(y_test, pred)\n",
        "r2 = r2_score(y_test, pred)\n",
        "r2"
      ],
      "execution_count": null,
      "outputs": [
        {
          "output_type": "execute_result",
          "data": {
            "text/plain": [
              "0.6978790770753887"
            ]
          },
          "metadata": {},
          "execution_count": 82
        }
      ]
    },
    {
      "cell_type": "code",
      "metadata": {
        "colab": {
          "base_uri": "https://localhost:8080/"
        },
        "id": "GmvfaIoSSYAq",
        "outputId": "1ee7c7f6-9033-4b77-abaa-45dbdbc5ecc0"
      },
      "source": [
        "mse_cat"
      ],
      "execution_count": null,
      "outputs": [
        {
          "output_type": "execute_result",
          "data": {
            "text/plain": [
              "2.8670280152067305"
            ]
          },
          "metadata": {},
          "execution_count": 83
        }
      ]
    },
    {
      "cell_type": "code",
      "metadata": {
        "colab": {
          "base_uri": "https://localhost:8080/"
        },
        "id": "HwHhnceHb5Pj",
        "outputId": "6c95d278-2268-46ee-eb96-1877dd5368a3"
      },
      "source": [
        "mean_absolute_error(y_test, pred)"
      ],
      "execution_count": null,
      "outputs": [
        {
          "output_type": "execute_result",
          "data": {
            "text/plain": [
              "1.0437265588409903"
            ]
          },
          "metadata": {},
          "execution_count": 84
        }
      ]
    },
    {
      "cell_type": "markdown",
      "metadata": {
        "id": "YClMtPjmKkqq"
      },
      "source": [
        "### Fine-tuning Hyperparameters"
      ]
    },
    {
      "cell_type": "code",
      "metadata": {
        "id": "TfYhum8Cu4lR"
      },
      "source": [
        "# from sklearn.model_selection import RandomizedSearchCV\n",
        "# # Number of trees in random forest\n",
        "# n_estimators = [int(x) for x in np.linspace(start = 200, stop = 1000, num = 3)]\n",
        "# # Number of features to consider at every split\n",
        "# # Maximum number of levels in tree\n",
        "# max_depth = [int(x) for x in np.linspace(10, 50, num = 3)]\n",
        "# max_depth.append(None)\n",
        "# # Minimum number of samples required to split a node\n",
        "# min_samples_split = [2, 5, 10]\n",
        "# # Minimum number of samples required at each leaf node\n",
        "# min_samples_leaf = [1, 2, 4]\n",
        "# # Method of selecting samples for training each tree\n",
        "# # Create the random grid\n",
        "# random_grid = {'n_estimators': n_estimators,\n",
        "#                'max_depth': max_depth,\n",
        "#                'min_samples_split': min_samples_split,\n",
        "#                'min_samples_leaf': min_samples_leaf}\n",
        "# print(random_grid)"
      ],
      "execution_count": 7,
      "outputs": []
    },
    {
      "cell_type": "code",
      "metadata": {
        "colab": {
          "base_uri": "https://localhost:8080/"
        },
        "id": "nBlonM4f3CPH",
        "outputId": "7cbe5897-92d9-48e7-dd63-e56f497b9a0f"
      },
      "source": [
        "# rf = RandomForestRegressor()\n",
        "# rf_random = RandomizedSearchCV(estimator = rf, param_distributions = random_grid, n_iter = 10, cv = 3, verbose=2, random_state=42, n_jobs = -1)\n",
        "\n",
        "# rf_random.fit(X_train,y_train)"
      ],
      "execution_count": null,
      "outputs": [
        {
          "output_type": "stream",
          "name": "stdout",
          "text": [
            "Fitting 3 folds for each of 10 candidates, totalling 30 fits\n"
          ]
        },
        {
          "output_type": "stream",
          "name": "stderr",
          "text": [
            "[Parallel(n_jobs=-1)]: Using backend LokyBackend with 40 concurrent workers.\n",
            "[Parallel(n_jobs=-1)]: Done  15 out of  30 | elapsed: 16.3min remaining: 16.3min\n",
            "[Parallel(n_jobs=-1)]: Done  30 out of  30 | elapsed: 21.2min finished\n"
          ]
        },
        {
          "output_type": "execute_result",
          "data": {
            "text/plain": [
              "RandomizedSearchCV(cv=3, error_score=nan,\n",
              "                   estimator=RandomForestRegressor(bootstrap=True,\n",
              "                                                   ccp_alpha=0.0,\n",
              "                                                   criterion='mse',\n",
              "                                                   max_depth=None,\n",
              "                                                   max_features='auto',\n",
              "                                                   max_leaf_nodes=None,\n",
              "                                                   max_samples=None,\n",
              "                                                   min_impurity_decrease=0.0,\n",
              "                                                   min_impurity_split=None,\n",
              "                                                   min_samples_leaf=1,\n",
              "                                                   min_samples_split=2,\n",
              "                                                   min_weight_fraction_leaf=0.0,\n",
              "                                                   n_estimators=100,\n",
              "                                                   n_jobs=None, oob_score=False,\n",
              "                                                   random_state=None, verbose=0,\n",
              "                                                   warm_start=False),\n",
              "                   iid='deprecated', n_iter=10, n_jobs=-1,\n",
              "                   param_distributions={'max_depth': [10, 30, 50, None],\n",
              "                                        'min_samples_leaf': [1, 2, 4],\n",
              "                                        'min_samples_split': [2, 5, 10],\n",
              "                                        'n_estimators': [200, 600, 1000]},\n",
              "                   pre_dispatch='2*n_jobs', random_state=42, refit=True,\n",
              "                   return_train_score=False, scoring=None, verbose=2)"
            ]
          },
          "metadata": {},
          "execution_count": 12
        }
      ]
    },
    {
      "cell_type": "code",
      "metadata": {
        "id": "-xWTTZYr4kXP"
      },
      "source": [
        "from sklearn.model_selection import RandomizedSearchCV\n",
        "print(\"Tuning\")\n",
        "\n",
        "params = {\n",
        "    # Parameters that we are going to tune.\n",
        "    'depth':[int(x) for x in np.linspace(start=1, stop=20, num=1)],\n",
        "    'l2_leaf_reg':[0,1,2,3,4,5,6,7,8,9,10],\n",
        "    'learning_rate':[0.5, 0.4, 0.3, 0.2, 0.1, 0.05, 0.01, 0.005],\n",
        "    'bagging_temperature': [x/100 for x in np.linspace(start=0, stop=100, num=1)],\n",
        "    'random_strength': [x/100 for x in np.linspace(start=0, stop=100, num=1)],\n",
        "}\n",
        "\n",
        "cat_random_search = RandomizedSearchCV(estimator=cat_model,\n",
        "                                      param_distributions = params,\n",
        "                                      n_iter = 10,\n",
        "                                      cv=3,\n",
        "                                      verbose=2,\n",
        "                                      random_state=47,\n",
        "                                      n_jobs=2)\n",
        "\n",
        "cat_random_search.fit(X_train, y_train)\n",
        "print(cat_random_search.best_params_)\n"
      ],
      "execution_count": null,
      "outputs": []
    },
    {
      "cell_type": "code",
      "metadata": {
        "colab": {
          "base_uri": "https://localhost:8080/"
        },
        "id": "Vdf1vZDd6Ow_",
        "outputId": "9ea83b37-51d6-499d-869e-39258b81bf01"
      },
      "source": [
        "# rf_random.best_params_"
      ],
      "execution_count": null,
      "outputs": [
        {
          "output_type": "execute_result",
          "data": {
            "text/plain": [
              "{'max_depth': 30,\n",
              " 'min_samples_leaf': 4,\n",
              " 'min_samples_split': 2,\n",
              " 'n_estimators': 200}"
            ]
          },
          "metadata": {},
          "execution_count": 13
        }
      ]
    },
    {
      "cell_type": "code",
      "metadata": {
        "id": "WaFjK6u9m0mT"
      },
      "source": [
        "from sklearn.model_selection import train_test_split\n",
        "\n",
        "X_train, X_test, y_train , y_test = train_test_split(features ,target, test_size= 0.2)"
      ],
      "execution_count": null,
      "outputs": []
    },
    {
      "cell_type": "code",
      "metadata": {
        "id": "Z1U0uBpnnL-I"
      },
      "source": [
        "from sklearn.ensemble import RandomForestRegressor\n",
        "\n",
        "random_forest = RandomForestRegressor(n_estimators=200, max_depth = 30, random_state = 42, n_jobs= -1, min_samples_leaf= 4, min_samples_split= 2)\n",
        "\n",
        "rforest = random_forest.fit(X_train, y_train)"
      ],
      "execution_count": null,
      "outputs": []
    },
    {
      "cell_type": "code",
      "metadata": {
        "colab": {
          "base_uri": "https://localhost:8080/"
        },
        "id": "X9deLBCTngm2",
        "outputId": "26892c21-7c77-4a0a-da48-cb82229b0ab9"
      },
      "source": [
        "y_pred = rforest.predict(X_test)\n",
        "print (\"R2_score : \",rforest.score(X_test, y_test))\n",
        "print(\"MAE : \", mean_absolute_error(y_test, y_pred))\n",
        "print(\"MSE : \", mean_squared_error(y_test, y_pred))"
      ],
      "execution_count": null,
      "outputs": [
        {
          "output_type": "execute_result",
          "data": {
            "text/plain": [
              "0.7246347106132751"
            ]
          },
          "metadata": {},
          "execution_count": 59
        }
      ]
    },
    {
      "cell_type": "code",
      "metadata": {
        "id": "R5ZICVpzvpYh"
      },
      "source": [
        "import catboost as cb"
      ],
      "execution_count": null,
      "outputs": []
    },
    {
      "cell_type": "code",
      "metadata": {
        "id": "0Bhkqn69vfCN"
      },
      "source": [
        "train_dataset = cb.Pool(X_train, y_train) \n",
        "test_dataset = cb.Pool(X_test, y_test)"
      ],
      "execution_count": null,
      "outputs": []
    },
    {
      "cell_type": "code",
      "metadata": {
        "id": "fKFbq8Ttvvky"
      },
      "source": [
        "cat_model_new = CatBoostRegressor()"
      ],
      "execution_count": null,
      "outputs": []
    },
    {
      "cell_type": "code",
      "metadata": {
        "id": "HgGhZEg6cWAE"
      },
      "source": [
        "grid = {'iterations': [100, 150, 200],\n",
        "        'learning_rate': [0.03, 0.1],\n",
        "        'depth': [2, 4, 6, 8],\n",
        "        'l2_leaf_reg': [0.2, 0.5, 1, 3]}\n",
        "cat_model_new.grid_search(grid, train_dataset)"
      ],
      "execution_count": null,
      "outputs": []
    },
    {
      "cell_type": "code",
      "metadata": {
        "colab": {
          "base_uri": "https://localhost:8080/"
        },
        "id": "XYn3QpwC0xAj",
        "outputId": "2753a8bc-f4be-4747-db81-d54c6f22bae5"
      },
      "source": [
        "cat_model_new.get_all_params"
      ],
      "execution_count": null,
      "outputs": [
        {
          "output_type": "execute_result",
          "data": {
            "text/plain": [
              "<bound method CatBoost.get_all_params of <catboost.core.CatBoostRegressor object at 0x7f806306e790>>"
            ]
          },
          "metadata": {},
          "execution_count": 43
        }
      ]
    },
    {
      "cell_type": "code",
      "metadata": {
        "id": "pHlnVj-L0cqr"
      },
      "source": [
        "from sklearn.metrics import r2_score"
      ],
      "execution_count": null,
      "outputs": []
    },
    {
      "cell_type": "code",
      "metadata": {
        "colab": {
          "base_uri": "https://localhost:8080/"
        },
        "id": "nXqmHsDk0IxY",
        "outputId": "1a913fe9-c55c-4003-8517-fe35445b4a74"
      },
      "source": [
        "pred = cat_model_new.predict(X_test)\n",
        "mse = mean_squared_error(y_test, pred)\n",
        "r2 = r2_score(y_test, pred)\n",
        "r2\n"
      ],
      "execution_count": null,
      "outputs": [
        {
          "output_type": "execute_result",
          "data": {
            "text/plain": [
              "0.7219726229926424"
            ]
          },
          "metadata": {},
          "execution_count": 44
        }
      ]
    },
    {
      "cell_type": "markdown",
      "metadata": {
        "id": "RGdaD3XyLNEz"
      },
      "source": [
        "### Ensemble Regression VotingRegressor"
      ]
    },
    {
      "cell_type": "code",
      "metadata": {
        "id": "_vx9-ofPQ6Oj"
      },
      "source": [
        "from sklearn.ensemble import VotingRegressor\n",
        "\n",
        "\n",
        "er = VotingRegressor([('xgboost', xgb_model), ('rf', rforest), ('catboost',cat_model)])\n",
        "er.fit(X_train, y_train)\n",
        "\n",
        "y_pred_vr = er.predict(X_test)\n"
      ],
      "execution_count": null,
      "outputs": []
    },
    {
      "cell_type": "code",
      "metadata": {
        "colab": {
          "base_uri": "https://localhost:8080/"
        },
        "id": "_8byYGFUQ6RR",
        "outputId": "2776bb27-e626-4e4c-a039-2f74323416da"
      },
      "source": [
        "mse = mean_squared_error(y_test, y_pred_vr)\n",
        "r2_score =  r2_score(y_test, y_pred_vr)\n",
        "print (mse)\n",
        "print (r2_score)\n"
      ],
      "execution_count": null,
      "outputs": [
        {
          "output_type": "stream",
          "name": "stdout",
          "text": [
            "2.537649319559881\n",
            "0.7339130062176149\n"
          ]
        }
      ]
    },
    {
      "cell_type": "code",
      "metadata": {
        "id": "4Mo_TBbJpUyF"
      },
      "source": [
        "er_update = VotingRegressor ([ ('rf', rforest), ('catboost',cat_model)])\n",
        "er_update.fit(X_train, y_train)"
      ],
      "execution_count": null,
      "outputs": []
    },
    {
      "cell_type": "code",
      "metadata": {
        "id": "SoHy7vsHpiF8"
      },
      "source": [
        "y_pred_up = er_update.predict(X_test)\n",
        "mse = mean_squared_error(y_test, y_pred_up)\n",
        "r2_score =  r2_score(y_test, y_pred_up)\n",
        "print (mse)\n",
        "print (r2_score)\n"
      ],
      "execution_count": null,
      "outputs": []
    }
  ]
}