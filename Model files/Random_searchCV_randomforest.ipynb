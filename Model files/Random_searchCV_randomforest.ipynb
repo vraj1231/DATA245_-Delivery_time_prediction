{
  "nbformat": 4,
  "nbformat_minor": 0,
  "metadata": {
    "colab": {
      "name": "Random_searchCV_randomforest.ipynb",
      "provenance": [],
      "collapsed_sections": [
        "_PF0fWQAIsW1",
        "VZR936iBI3JB",
        "GPBWRRXKJEj7",
        "z4CtIobyIuTr",
        "mlDJOZReJuCE",
        "jOV1qLBAKCon",
        "ASWwk5KxKIh8",
        "1YF-v3FV3s3D",
        "1HFrzUmDKUnJ",
        "YClMtPjmKkqq",
        "1TvAHA9BJqK1",
        "PI4zsS1LJLzg",
        "h8vz1ExfOV0J"
      ],
      "machine_shape": "hm",
      "authorship_tag": "ABX9TyMuLHUqabhWaw7lR/YaER1H",
      "include_colab_link": true
    },
    "kernelspec": {
      "name": "python3",
      "display_name": "Python 3"
    },
    "language_info": {
      "name": "python"
    },
    "accelerator": "TPU"
  },
  "cells": [
    {
      "cell_type": "markdown",
      "metadata": {
        "id": "view-in-github",
        "colab_type": "text"
      },
      "source": [
        "<a href=\"https://colab.research.google.com/github/vraj1231/DATA245_-Delivery_time_prediction/blob/main/Model%20files/Random_searchCV_randomforest.ipynb\" target=\"_parent\"><img src=\"https://colab.research.google.com/assets/colab-badge.svg\" alt=\"Open In Colab\"/></a>"
      ]
    },
    {
      "cell_type": "markdown",
      "metadata": {
        "id": "_PF0fWQAIsW1"
      },
      "source": [
        "### Data Loading "
      ]
    },
    {
      "cell_type": "code",
      "metadata": {
        "colab": {
          "base_uri": "https://localhost:8080/"
        },
        "id": "7Ap1492-c15H",
        "outputId": "5e386702-8f00-47d8-eb4f-9a58b6fd740b"
      },
      "source": [
        "from google.colab import drive #using google drive for storage\n",
        "drive.mount('/content/gdrive')"
      ],
      "execution_count": 2,
      "outputs": [
        {
          "output_type": "stream",
          "name": "stdout",
          "text": [
            "Mounted at /content/gdrive\n"
          ]
        }
      ]
    },
    {
      "cell_type": "code",
      "metadata": {
        "id": "i6UFjRZreb51"
      },
      "source": [
        "import seaborn as sns #all libraries \n",
        "import pandas as pd\n",
        "import numpy as np\n",
        "import matplotlib.pyplot as plt\n",
        "from sklearn.preprocessing import LabelEncoder\n",
        "from sklearn.model_selection import train_test_split\n",
        "from sklearn.metrics import mean_squared_error, accuracy_score , r2_score, mean_absolute_error\n",
        "from sklearn.model_selection import RandomizedSearchCV\n",
        "from sklearn.model_selection import GridSearchCV"
      ],
      "execution_count": 3,
      "outputs": []
    },
    {
      "cell_type": "code",
      "metadata": {
        "colab": {
          "base_uri": "https://localhost:8080/",
          "height": 330
        },
        "id": "Lz8Qb8L5eqlT",
        "outputId": "62745500-b0c1-4887-ada4-12b2d3c49a6b"
      },
      "source": [
        "dataset = pd.read_csv(\"gdrive/My Drive/main.csv\")\n",
        "dataset.head()"
      ],
      "execution_count": 5,
      "outputs": [
        {
          "output_type": "execute_result",
          "data": {
            "text/html": [
              "<div>\n",
              "<style scoped>\n",
              "    .dataframe tbody tr th:only-of-type {\n",
              "        vertical-align: middle;\n",
              "    }\n",
              "\n",
              "    .dataframe tbody tr th {\n",
              "        vertical-align: top;\n",
              "    }\n",
              "\n",
              "    .dataframe thead th {\n",
              "        text-align: right;\n",
              "    }\n",
              "</style>\n",
              "<table border=\"1\" class=\"dataframe\">\n",
              "  <thead>\n",
              "    <tr style=\"text-align: right;\">\n",
              "      <th></th>\n",
              "      <th>Unnamed: 0</th>\n",
              "      <th>b2c_c2c</th>\n",
              "      <th>seller_id</th>\n",
              "      <th>declared_handling_days</th>\n",
              "      <th>acceptance_scan_timestamp</th>\n",
              "      <th>shipment_method_id</th>\n",
              "      <th>shipping_fee</th>\n",
              "      <th>carrier_min_estimate</th>\n",
              "      <th>carrier_max_estimate</th>\n",
              "      <th>item_zip</th>\n",
              "      <th>buyer_zip</th>\n",
              "      <th>category_id</th>\n",
              "      <th>item_price</th>\n",
              "      <th>quantity</th>\n",
              "      <th>payment_datetime</th>\n",
              "      <th>delivery_date</th>\n",
              "      <th>weight</th>\n",
              "      <th>weight_units</th>\n",
              "      <th>package_size</th>\n",
              "      <th>record_number</th>\n",
              "      <th>actual_delivery_time</th>\n",
              "    </tr>\n",
              "  </thead>\n",
              "  <tbody>\n",
              "    <tr>\n",
              "      <th>0</th>\n",
              "      <td>3373488</td>\n",
              "      <td>0</td>\n",
              "      <td>11930</td>\n",
              "      <td>1.0</td>\n",
              "      <td>3</td>\n",
              "      <td>4</td>\n",
              "      <td>0.0</td>\n",
              "      <td>2</td>\n",
              "      <td>9</td>\n",
              "      <td>11040.0</td>\n",
              "      <td>30907.0</td>\n",
              "      <td>9</td>\n",
              "      <td>12.60</td>\n",
              "      <td>1</td>\n",
              "      <td>2019-07-19 20:59:47+00:00</td>\n",
              "      <td>2019-07-25 00:00:00+00:00</td>\n",
              "      <td>0</td>\n",
              "      <td>1</td>\n",
              "      <td>5</td>\n",
              "      <td>3373489</td>\n",
              "      <td>6</td>\n",
              "    </tr>\n",
              "    <tr>\n",
              "      <th>1</th>\n",
              "      <td>5277493</td>\n",
              "      <td>0</td>\n",
              "      <td>39706</td>\n",
              "      <td>1.0</td>\n",
              "      <td>0</td>\n",
              "      <td>0</td>\n",
              "      <td>0.0</td>\n",
              "      <td>3</td>\n",
              "      <td>5</td>\n",
              "      <td>32926.0</td>\n",
              "      <td>55076.0</td>\n",
              "      <td>16</td>\n",
              "      <td>9.65</td>\n",
              "      <td>1</td>\n",
              "      <td>2018-01-08 22:34:11+00:00</td>\n",
              "      <td>2018-01-11 00:00:00+00:00</td>\n",
              "      <td>0</td>\n",
              "      <td>1</td>\n",
              "      <td>5</td>\n",
              "      <td>5277494</td>\n",
              "      <td>3</td>\n",
              "    </tr>\n",
              "    <tr>\n",
              "      <th>2</th>\n",
              "      <td>12103250</td>\n",
              "      <td>0</td>\n",
              "      <td>40783</td>\n",
              "      <td>0.0</td>\n",
              "      <td>3</td>\n",
              "      <td>0</td>\n",
              "      <td>0.0</td>\n",
              "      <td>3</td>\n",
              "      <td>5</td>\n",
              "      <td>7302.0</td>\n",
              "      <td>33166.0</td>\n",
              "      <td>8</td>\n",
              "      <td>79.95</td>\n",
              "      <td>1</td>\n",
              "      <td>2019-06-30 05:24:56+00:00</td>\n",
              "      <td>2019-07-06 00:00:00+00:00</td>\n",
              "      <td>0</td>\n",
              "      <td>1</td>\n",
              "      <td>5</td>\n",
              "      <td>12103251</td>\n",
              "      <td>6</td>\n",
              "    </tr>\n",
              "    <tr>\n",
              "      <th>3</th>\n",
              "      <td>5185474</td>\n",
              "      <td>1</td>\n",
              "      <td>228041</td>\n",
              "      <td>0.0</td>\n",
              "      <td>1</td>\n",
              "      <td>0</td>\n",
              "      <td>0.0</td>\n",
              "      <td>3</td>\n",
              "      <td>5</td>\n",
              "      <td>19711.0</td>\n",
              "      <td>6117.0</td>\n",
              "      <td>2</td>\n",
              "      <td>124.99</td>\n",
              "      <td>2</td>\n",
              "      <td>2019-08-27 03:38:34+00:00</td>\n",
              "      <td>2019-08-30 00:00:00+00:00</td>\n",
              "      <td>9</td>\n",
              "      <td>1</td>\n",
              "      <td>5</td>\n",
              "      <td>5185475</td>\n",
              "      <td>3</td>\n",
              "    </tr>\n",
              "    <tr>\n",
              "      <th>4</th>\n",
              "      <td>2655751</td>\n",
              "      <td>1</td>\n",
              "      <td>889688</td>\n",
              "      <td>2.0</td>\n",
              "      <td>2</td>\n",
              "      <td>0</td>\n",
              "      <td>0.0</td>\n",
              "      <td>3</td>\n",
              "      <td>5</td>\n",
              "      <td>28205.0</td>\n",
              "      <td>27292.0</td>\n",
              "      <td>1</td>\n",
              "      <td>13.97</td>\n",
              "      <td>1</td>\n",
              "      <td>2018-11-06 20:49:48+00:00</td>\n",
              "      <td>2018-11-10 00:00:00+00:00</td>\n",
              "      <td>14</td>\n",
              "      <td>1</td>\n",
              "      <td>5</td>\n",
              "      <td>2655752</td>\n",
              "      <td>4</td>\n",
              "    </tr>\n",
              "  </tbody>\n",
              "</table>\n",
              "</div>"
            ],
            "text/plain": [
              "   Unnamed: 0  b2c_c2c  ...  record_number  actual_delivery_time\n",
              "0     3373488        0  ...        3373489                     6\n",
              "1     5277493        0  ...        5277494                     3\n",
              "2    12103250        0  ...       12103251                     6\n",
              "3     5185474        1  ...        5185475                     3\n",
              "4     2655751        1  ...        2655752                     4\n",
              "\n",
              "[5 rows x 21 columns]"
            ]
          },
          "metadata": {},
          "execution_count": 5
        }
      ]
    },
    {
      "cell_type": "code",
      "metadata": {
        "id": "GTndhQMpRhMP"
      },
      "source": [
        "# df_train, df_test = train_test_split(dataset, test_size=0.6)\n",
        "# df_train.shape"
      ],
      "execution_count": null,
      "outputs": []
    },
    {
      "cell_type": "code",
      "metadata": {
        "id": "qEAKYiM7j9cO"
      },
      "source": [
        "# updated_dataset = dataset.drop([ \"Unnamed: 0\",\"delivery_date\", \"payment_datetime\"], axis =1)"
      ],
      "execution_count": null,
      "outputs": []
    },
    {
      "cell_type": "markdown",
      "metadata": {
        "id": "VZR936iBI3JB"
      },
      "source": [
        "### Standardilization "
      ]
    },
    {
      "cell_type": "code",
      "metadata": {
        "id": "zhZjRx7ShBZB"
      },
      "source": [
        "\n",
        "# from sklearn.preprocessing import MinMaxScaler\n",
        "  \n",
        "# \"\"\" MIN MAX SCALER \"\"\"\n",
        "  \n",
        "# min_max_scaler = MinMaxScaler(feature_range =(0, 1))\n",
        "\n",
        "# print(updated_dataset.columns)\n",
        "  \n",
        "# #Scaled feature\n",
        "# scaled_dataset = pd.DataFrame(min_max_scaler.fit_transform(updated_dataset))\n",
        "# scaled_dataset.columns = updated_dataset.columns\n",
        "# scaled_dataset\n",
        "  \n",
        "#Standardisation \n",
        "  \n",
        "# Standardisation = preprocessing.StandardScaler()\n",
        "  \n",
        "# #Scaled feature\n",
        "# x_after_Standardisation = Standardisation.fit_transform(x)\n",
        "  \n",
        "# print (\"\\nAfter Standardisation : \\n\", x_after_Standardisation)"
      ],
      "execution_count": 13,
      "outputs": []
    },
    {
      "cell_type": "code",
      "metadata": {
        "colab": {
          "base_uri": "https://localhost:8080/"
        },
        "id": "mVdZlUijeO0-",
        "outputId": "62ed90a0-906d-4433-a70a-7436c659f86f"
      },
      "source": [
        "# df_train.columns"
      ],
      "execution_count": null,
      "outputs": [
        {
          "output_type": "execute_result",
          "data": {
            "text/plain": [
              "Index(['Unnamed: 0', 'b2c_c2c', 'seller_id', 'declared_handling_days',\n",
              "       'acceptance_scan_timestamp', 'shipment_method_id', 'shipping_fee',\n",
              "       'carrier_min_estimate', 'carrier_max_estimate', 'item_zip', 'buyer_zip',\n",
              "       'category_id', 'item_price', 'quantity', 'payment_datetime',\n",
              "       'delivery_date', 'weight', 'weight_units', 'package_size',\n",
              "       'record_number', 'actual_delivery_time'],\n",
              "      dtype='object')"
            ]
          },
          "metadata": {},
          "execution_count": 32
        }
      ]
    },
    {
      "cell_type": "markdown",
      "metadata": {
        "id": "GPBWRRXKJEj7"
      },
      "source": [
        "### Features and Labels of Dataset"
      ]
    },
    {
      "cell_type": "code",
      "metadata": {
        "id": "dZSK1lXHbjaB"
      },
      "source": [
        "features = dataset.drop([ \"Unnamed: 0\",\"delivery_date\", \"payment_datetime\", \"actual_delivery_time\", \"seller_id\",\"record_number\", \"item_price\", \"quantity\",'weight', \"weight_units\", \"shipping_fee\"], axis =1)\n",
        "target = dataset[\"actual_delivery_time\"]"
      ],
      "execution_count": 6,
      "outputs": []
    },
    {
      "cell_type": "code",
      "metadata": {
        "id": "6PU49Yezbk0L"
      },
      "source": [
        "from sklearn.model_selection import train_test_split\n",
        "\n",
        "X_train, X_test, y_train , y_test = train_test_split(features ,target, test_size= 0.2)"
      ],
      "execution_count": 7,
      "outputs": []
    },
    {
      "cell_type": "code",
      "metadata": {
        "colab": {
          "base_uri": "https://localhost:8080/"
        },
        "id": "WuYYEcEHa7Co",
        "outputId": "dc4e7e5c-15f8-4450-dc57-3bab54b0c425"
      },
      "source": [
        "for col, i in enumerate(X_train):\n",
        "    print( \"\\033[1m\" + f'{X_train.columns[col]} has {X_train[i].isna().sum()} missing values')"
      ],
      "execution_count": null,
      "outputs": [
        {
          "output_type": "stream",
          "name": "stdout",
          "text": [
            "\u001b[1mb2c_c2c has 0 missing values\n",
            "\u001b[1mdeclared_handling_days has 0 missing values\n",
            "\u001b[1macceptance_scan_timestamp has 0 missing values\n",
            "\u001b[1mshipment_method_id has 0 missing values\n",
            "\u001b[1mcarrier_min_estimate has 0 missing values\n",
            "\u001b[1mcarrier_max_estimate has 0 missing values\n",
            "\u001b[1mitem_zip has 0 missing values\n",
            "\u001b[1mbuyer_zip has 0 missing values\n",
            "\u001b[1mcategory_id has 0 missing values\n",
            "\u001b[1mpackage_size has 0 missing values\n"
          ]
        }
      ]
    },
    {
      "cell_type": "code",
      "metadata": {
        "colab": {
          "base_uri": "https://localhost:8080/"
        },
        "id": "qRUpjNLlbOZE",
        "outputId": "d03c4ab2-170b-410c-81e6-3415aaff0c47"
      },
      "source": [
        "for col, i in enumerate(X_test):\n",
        "    print( \"\\033[1m\" + f'{X_test.columns[col]} has {X_test[i].isna().sum()} missing values')"
      ],
      "execution_count": null,
      "outputs": [
        {
          "output_type": "stream",
          "name": "stdout",
          "text": [
            "\u001b[1mb2c_c2c has 0 missing values\n",
            "\u001b[1mdeclared_handling_days has 0 missing values\n",
            "\u001b[1macceptance_scan_timestamp has 0 missing values\n",
            "\u001b[1mshipment_method_id has 0 missing values\n",
            "\u001b[1mcarrier_min_estimate has 0 missing values\n",
            "\u001b[1mcarrier_max_estimate has 0 missing values\n",
            "\u001b[1mitem_zip has 0 missing values\n",
            "\u001b[1mbuyer_zip has 0 missing values\n",
            "\u001b[1mcategory_id has 0 missing values\n",
            "\u001b[1mpackage_size has 0 missing values\n"
          ]
        }
      ]
    },
    {
      "cell_type": "markdown",
      "metadata": {
        "id": "z4CtIobyIuTr"
      },
      "source": [
        "### Random-Forest-Regresssor "
      ]
    },
    {
      "cell_type": "code",
      "metadata": {
        "id": "Gh3vxO3xIuTv"
      },
      "source": [
        "from sklearn.ensemble import RandomForestRegressor\n",
        "\n",
        "random_forest_base= RandomForestRegressor(random_state = 42, n_jobs= -1)\n",
        "\n",
        "rforest_base = random_forest_base.fit(X_train, y_train)"
      ],
      "execution_count": null,
      "outputs": []
    },
    {
      "cell_type": "code",
      "metadata": {
        "colab": {
          "base_uri": "https://localhost:8080/"
        },
        "id": "Cl55k9kjIuTv",
        "outputId": "879d54d4-2a27-48ea-e758-cbcd3b0448a5"
      },
      "source": [
        "y_pred_rfbase = rforest_base.predict(X_test)\n",
        "\n",
        "y_pred.shape"
      ],
      "execution_count": null,
      "outputs": [
        {
          "output_type": "execute_result",
          "data": {
            "text/plain": [
              "(1128864,)"
            ]
          },
          "metadata": {},
          "execution_count": 33
        }
      ]
    },
    {
      "cell_type": "code",
      "metadata": {
        "colab": {
          "base_uri": "https://localhost:8080/"
        },
        "id": "kPXy-aHZIuTw",
        "outputId": "50cea159-04bc-49d6-a538-eca6c18943c9"
      },
      "source": [
        "rmse_rfbase = np.sqrt( mean_squared_error(y_test, y_pred_rfbase))\n",
        "rmse_rfbase\n"
      ],
      "execution_count": null,
      "outputs": [
        {
          "output_type": "execute_result",
          "data": {
            "text/plain": [
              "1.5894681355975795"
            ]
          },
          "metadata": {},
          "execution_count": 34
        }
      ]
    },
    {
      "cell_type": "code",
      "metadata": {
        "colab": {
          "base_uri": "https://localhost:8080/"
        },
        "id": "p7DCIl-7IuTw",
        "outputId": "dba563de-fa83-4bd2-9bb9-95df98ccf3ec"
      },
      "source": [
        "rforest_base.score(X_test, y_test)"
      ],
      "execution_count": null,
      "outputs": [
        {
          "output_type": "execute_result",
          "data": {
            "text/plain": [
              "0.7376648329561326"
            ]
          },
          "metadata": {},
          "execution_count": 35
        }
      ]
    },
    {
      "cell_type": "code",
      "metadata": {
        "colab": {
          "base_uri": "https://localhost:8080/"
        },
        "id": "a3gprz9YIuTw",
        "outputId": "88115de5-a849-4078-aab6-b4e3ab8e534a"
      },
      "source": [
        "mean_absolute_error(y_test, y_pred_rfbase)"
      ],
      "execution_count": null,
      "outputs": [
        {
          "output_type": "execute_result",
          "data": {
            "text/plain": [
              "0.9842940312766925"
            ]
          },
          "metadata": {},
          "execution_count": 36
        }
      ]
    },
    {
      "cell_type": "code",
      "metadata": {
        "colab": {
          "base_uri": "https://localhost:8080/"
        },
        "id": "LG2JCIy7IuTw",
        "outputId": "84706614-05d9-406a-9211-5f8bb62dbe63"
      },
      "source": [
        "rforest.decision_path"
      ],
      "execution_count": null,
      "outputs": [
        {
          "output_type": "execute_result",
          "data": {
            "text/plain": [
              "<bound method BaseForest.decision_path of RandomForestRegressor(bootstrap=True, ccp_alpha=0.0, criterion='mse',\n",
              "                      max_depth=60, max_features='auto', max_leaf_nodes=None,\n",
              "                      max_samples=None, min_impurity_decrease=0.0,\n",
              "                      min_impurity_split=None, min_samples_leaf=40,\n",
              "                      min_samples_split=2, min_weight_fraction_leaf=0.0,\n",
              "                      n_estimators=1000, n_jobs=-1, oob_score=False,\n",
              "                      random_state=42, verbose=0, warm_start=False)>"
            ]
          },
          "metadata": {},
          "execution_count": 80
        }
      ]
    },
    {
      "cell_type": "code",
      "metadata": {
        "colab": {
          "base_uri": "https://localhost:8080/"
        },
        "id": "NGyeQHPgIuTw",
        "outputId": "49c4b4a5-f1a3-4128-8c8c-25eea90a5861"
      },
      "source": [
        "from sklearn.metrics import r2_score\n",
        "\n",
        "r2_score = r2_score(y_test, y_pred)\n",
        "\n",
        "r2_score"
      ],
      "execution_count": null,
      "outputs": [
        {
          "output_type": "execute_result",
          "data": {
            "text/plain": [
              "0.7260060941609469"
            ]
          },
          "metadata": {},
          "execution_count": 47
        }
      ]
    },
    {
      "cell_type": "code",
      "metadata": {
        "id": "QCtYKj-pIuTw"
      },
      "source": [
        "# features = scaled_dataset.drop([\"actual_delivery_time\", \"seller_id\",\"record_number\", \"item_price\", \"quantity\",'weight', \"weight_units\", \"shipping_fee\"], axis =1)\n",
        "# target = scaled_dataset[\"actual_delivery_time\"]"
      ],
      "execution_count": null,
      "outputs": []
    },
    {
      "cell_type": "markdown",
      "metadata": {
        "id": "mlDJOZReJuCE"
      },
      "source": [
        "### KNeighbors Regressor"
      ]
    },
    {
      "cell_type": "code",
      "metadata": {
        "id": "KGCDomXBZgg2"
      },
      "source": [
        "from sklearn.linear_model import Ridge\n",
        "from sklearn.linear_model import Lasso\n",
        "from sklearn.linear_model import ElasticNet\n",
        "from sklearn.neighbors import KNeighborsRegressor\n",
        "from sklearn.tree import DecisionTreeRegressor"
      ],
      "execution_count": null,
      "outputs": []
    },
    {
      "cell_type": "markdown",
      "metadata": {
        "id": "sTk5R4hSJ7z9"
      },
      "source": [
        ""
      ]
    },
    {
      "cell_type": "code",
      "metadata": {
        "colab": {
          "base_uri": "https://localhost:8080/"
        },
        "id": "oz1L88UpZXBe",
        "outputId": "990e9dd0-bf9b-47ae-9c1c-76c11986187a"
      },
      "source": [
        "knn = KNeighborsRegressor(n_neighbors=5)  \n",
        "knn.fit(X_train, y_train)\n",
        "y_pred = knn.predict(X_test)\n",
        "\n",
        "print('Root Mean Squared Error for knn:', np.sqrt(mean_squared_error(y_test, y_pred)))"
      ],
      "execution_count": null,
      "outputs": [
        {
          "output_type": "stream",
          "name": "stdout",
          "text": [
            "Root Mean Squared Error for knn: 3.0982491704443196\n"
          ]
        }
      ]
    },
    {
      "cell_type": "code",
      "metadata": {
        "colab": {
          "base_uri": "https://localhost:8080/"
        },
        "id": "p196dSdT94wx",
        "outputId": "dec998b6-2cf0-47ae-e387-45fd6adf061e"
      },
      "source": [
        "mean_squared_error(y_test, y_pred)"
      ],
      "execution_count": null,
      "outputs": [
        {
          "output_type": "execute_result",
          "data": {
            "text/plain": [
              "9.599147922158913"
            ]
          },
          "metadata": {},
          "execution_count": 61
        }
      ]
    },
    {
      "cell_type": "code",
      "metadata": {
        "colab": {
          "base_uri": "https://localhost:8080/"
        },
        "id": "e1LKqR9c9g0c",
        "outputId": "72edbcd6-9870-40c1-b7be-be71a7d16781"
      },
      "source": [
        "from sklearn.metrics import mean_absolute_error\n",
        "\n",
        "\n",
        "mean_absolute_error(y_test,y_pred)"
      ],
      "execution_count": null,
      "outputs": [
        {
          "output_type": "execute_result",
          "data": {
            "text/plain": [
              "1.0944787184954472"
            ]
          },
          "metadata": {},
          "execution_count": 56
        }
      ]
    },
    {
      "cell_type": "code",
      "metadata": {
        "colab": {
          "base_uri": "https://localhost:8080/"
        },
        "id": "gOQsfv7daeII",
        "outputId": "c79cd407-1666-4742-b6fa-8d224eb5571c"
      },
      "source": [
        "r2_score(y_test, y_pred)"
      ],
      "execution_count": null,
      "outputs": [
        {
          "output_type": "execute_result",
          "data": {
            "text/plain": [
              "0.6837823446995501"
            ]
          },
          "metadata": {},
          "execution_count": 55
        }
      ]
    },
    {
      "cell_type": "code",
      "metadata": {
        "id": "hMV4vUYsZ9kM"
      },
      "source": [
        "knn.score(X_test, y_test)"
      ],
      "execution_count": null,
      "outputs": []
    },
    {
      "cell_type": "markdown",
      "metadata": {
        "id": "jOV1qLBAKCon"
      },
      "source": [
        "### Decision Tree Regressor\n"
      ]
    },
    {
      "cell_type": "code",
      "metadata": {
        "colab": {
          "base_uri": "https://localhost:8080/"
        },
        "id": "fEoC-d4TaIB-",
        "outputId": "b4a24567-ce05-402b-87a6-b4363780d467"
      },
      "source": [
        "dt = DecisionTreeRegressor()  \n",
        "dt.fit(X_train, y_train)\n",
        "y_pred_dt = dt.predict(X_test)\n",
        "print('Root Mean Squared Error for DecisionTree:', np.sqrt(mean_squared_error(y_test, y_pred_dt)))"
      ],
      "execution_count": null,
      "outputs": [
        {
          "output_type": "stream",
          "name": "stdout",
          "text": [
            "Root Mean Squared Error for DecisionTree: 2.2997063969463096\n"
          ]
        }
      ]
    },
    {
      "cell_type": "code",
      "metadata": {
        "colab": {
          "base_uri": "https://localhost:8080/"
        },
        "id": "ePZCks9manto",
        "outputId": "41b32eca-0f5b-483c-e3a9-ea7720b74124"
      },
      "source": [
        "mean_squared_error(y_test, y_pred_dt)"
      ],
      "execution_count": null,
      "outputs": [
        {
          "output_type": "execute_result",
          "data": {
            "text/plain": [
              "5.321518560631234"
            ]
          },
          "metadata": {},
          "execution_count": 63
        }
      ]
    },
    {
      "cell_type": "code",
      "metadata": {
        "colab": {
          "base_uri": "https://localhost:8080/"
        },
        "id": "W7e-i-VK-Hdu",
        "outputId": "d1b36672-300b-40a9-fad9-e909f1e1c0f2"
      },
      "source": [
        "mean_absolute_error(y_test, y_pred_dt)"
      ],
      "execution_count": null,
      "outputs": [
        {
          "output_type": "execute_result",
          "data": {
            "text/plain": [
              "1.3303472538670102"
            ]
          },
          "metadata": {},
          "execution_count": 64
        }
      ]
    },
    {
      "cell_type": "code",
      "metadata": {
        "colab": {
          "base_uri": "https://localhost:8080/"
        },
        "id": "ADfh6nG4-Lfz",
        "outputId": "4183ed70-a58d-415f-e1c7-5c5f99326e05"
      },
      "source": [
        "r2_score(y_test, y_pred_dt)"
      ],
      "execution_count": null,
      "outputs": [
        {
          "output_type": "execute_result",
          "data": {
            "text/plain": [
              "0.43923041896664894"
            ]
          },
          "metadata": {},
          "execution_count": 65
        }
      ]
    },
    {
      "cell_type": "markdown",
      "metadata": {
        "id": "ASWwk5KxKIh8"
      },
      "source": [
        "### XGBoost Regressor"
      ]
    },
    {
      "cell_type": "code",
      "metadata": {
        "id": "BAAQVuaBa3RQ"
      },
      "source": [
        "import xgboost as xgb"
      ],
      "execution_count": null,
      "outputs": []
    },
    {
      "cell_type": "code",
      "metadata": {
        "id": "2pQp3UcMa38a",
        "colab": {
          "base_uri": "https://localhost:8080/"
        },
        "outputId": "4fc06bc5-e507-4d87-f28c-0c0b3d8264c9"
      },
      "source": [
        "xgb_model = xgb.XGBRegressor(objective=\"reg:linear\", random_state=42)\n",
        "\n",
        "xgb_model.fit(X_train, y_train)\n",
        "\n",
        "y_pred_xgb = xgb_model.predict(X_test)\n",
        "\n",
        "mse=mean_squared_error(y_test, y_pred_xgb)\n",
        "\n"
      ],
      "execution_count": null,
      "outputs": [
        {
          "output_type": "stream",
          "name": "stdout",
          "text": [
            "[19:39:04] WARNING: /workspace/src/objective/regression_obj.cu:152: reg:linear is now deprecated in favor of reg:squarederror.\n",
            "[19:39:04] WARNING: /workspace/src/learner.cc:686: Tree method is automatically selected to be 'approx' for faster speed. To use old behavior (exact greedy algorithm on single machine), set tree_method to 'exact'.\n"
          ]
        }
      ]
    },
    {
      "cell_type": "code",
      "metadata": {
        "colab": {
          "base_uri": "https://localhost:8080/"
        },
        "id": "mjzJQRHdaOg8",
        "outputId": "6e027248-c28b-4358-8f7b-4427de3dfc27"
      },
      "source": [
        "print(np.sqrt(mse))"
      ],
      "execution_count": null,
      "outputs": [
        {
          "output_type": "stream",
          "name": "stdout",
          "text": [
            "1.7164877303216026\n"
          ]
        }
      ]
    },
    {
      "cell_type": "code",
      "metadata": {
        "colab": {
          "base_uri": "https://localhost:8080/"
        },
        "id": "pxkBKFkm_pId",
        "outputId": "3e5ff965-0565-45b6-8b48-c0259a178f44"
      },
      "source": [
        "mean_absolute_error(y_test, y_pred_xgb)"
      ],
      "execution_count": null,
      "outputs": [
        {
          "output_type": "execute_result",
          "data": {
            "text/plain": [
              "1.037252240908544"
            ]
          },
          "metadata": {},
          "execution_count": 40
        }
      ]
    },
    {
      "cell_type": "code",
      "metadata": {
        "colab": {
          "base_uri": "https://localhost:8080/"
        },
        "id": "HKZU9XgTC4GC",
        "outputId": "492d8a81-bc01-49db-a47a-f7af3be28c0e"
      },
      "source": [
        "print (\"score: \", xgb_model.score(X_test,y_test))\n",
        "print(\"RMSE: \",np.sqrt(mse))"
      ],
      "execution_count": null,
      "outputs": [
        {
          "output_type": "stream",
          "name": "stdout",
          "text": [
            "score:  0.6940614047708238\n",
            "RMSE:  1.7164877303216026\n"
          ]
        }
      ]
    },
    {
      "cell_type": "markdown",
      "metadata": {
        "id": "1YF-v3FV3s3D"
      },
      "source": [
        "### Linear Regression"
      ]
    },
    {
      "cell_type": "code",
      "metadata": {
        "id": "nEHWdxlm3rny"
      },
      "source": [
        "from sklearn.linear_model import LinearRegression\n",
        "\n",
        "ln_reg = LinearRegression().fit(X_train,y_train)\n"
      ],
      "execution_count": null,
      "outputs": []
    },
    {
      "cell_type": "code",
      "metadata": {
        "id": "ltpy15tw4HTH"
      },
      "source": [
        "r2_score = ln_reg.score(X_train, y_train)"
      ],
      "execution_count": null,
      "outputs": []
    },
    {
      "cell_type": "code",
      "metadata": {
        "id": "9As_6nwB4OvV"
      },
      "source": [
        "y_pred = ln_reg.predict(X_test)"
      ],
      "execution_count": null,
      "outputs": []
    },
    {
      "cell_type": "code",
      "metadata": {
        "colab": {
          "base_uri": "https://localhost:8080/"
        },
        "id": "60iF5VvD4ZI7",
        "outputId": "8302701a-c2b5-42d5-bbf7-4562e48cee5f"
      },
      "source": [
        "rounded_preds = [round(pred) for pred in y_pred]\n",
        "mse = mean_squared_error(y_test, y_pred)\n",
        "\n",
        "mae = mean_absolute_error(y_test, y_pred)\n",
        "\n",
        "print (\"MSE: \", mse)\n",
        "print(\"RMSE: \", np.sqrt(mse))\n",
        "print(\"R2_score: \", r2_score)\n",
        "print(\"MAE: \", mae)"
      ],
      "execution_count": null,
      "outputs": [
        {
          "output_type": "stream",
          "name": "stdout",
          "text": [
            "MSE:  3.000494505108081\n",
            "RMSE:  1.73219355301539\n",
            "R2_score:  0.6655157313249177\n",
            "MAE:  1.0862989712694853\n"
          ]
        }
      ]
    },
    {
      "cell_type": "code",
      "metadata": {
        "id": "hV5DBV1R4ij_"
      },
      "source": [
        ""
      ],
      "execution_count": null,
      "outputs": []
    },
    {
      "cell_type": "markdown",
      "metadata": {
        "id": "1HFrzUmDKUnJ"
      },
      "source": [
        "### CatBoost Regressor"
      ]
    },
    {
      "cell_type": "code",
      "metadata": {
        "id": "RqwJfzmGaTKa",
        "colab": {
          "base_uri": "https://localhost:8080/"
        },
        "outputId": "bd819fe4-ef6a-49ff-ae9d-e7beb1a4e276"
      },
      "source": [
        "pip install catboost"
      ],
      "execution_count": null,
      "outputs": [
        {
          "output_type": "stream",
          "name": "stdout",
          "text": [
            "Collecting catboost\n",
            "  Downloading catboost-1.0.3-cp37-none-manylinux1_x86_64.whl (76.3 MB)\n",
            "\u001b[K     |████████████████████████████████| 76.3 MB 111 kB/s \n",
            "\u001b[?25hRequirement already satisfied: graphviz in /usr/local/lib/python3.7/dist-packages (from catboost) (0.10.1)\n",
            "Requirement already satisfied: matplotlib in /usr/local/lib/python3.7/dist-packages (from catboost) (3.2.2)\n",
            "Requirement already satisfied: six in /usr/local/lib/python3.7/dist-packages (from catboost) (1.15.0)\n",
            "Requirement already satisfied: numpy>=1.16.0 in /usr/local/lib/python3.7/dist-packages (from catboost) (1.19.5)\n",
            "Requirement already satisfied: pandas>=0.24.0 in /usr/local/lib/python3.7/dist-packages (from catboost) (1.1.5)\n",
            "Requirement already satisfied: scipy in /usr/local/lib/python3.7/dist-packages (from catboost) (1.4.1)\n",
            "Requirement already satisfied: plotly in /usr/local/lib/python3.7/dist-packages (from catboost) (4.4.1)\n",
            "Requirement already satisfied: python-dateutil>=2.7.3 in /usr/local/lib/python3.7/dist-packages (from pandas>=0.24.0->catboost) (2.8.2)\n",
            "Requirement already satisfied: pytz>=2017.2 in /usr/local/lib/python3.7/dist-packages (from pandas>=0.24.0->catboost) (2018.9)\n",
            "Requirement already satisfied: kiwisolver>=1.0.1 in /usr/local/lib/python3.7/dist-packages (from matplotlib->catboost) (1.3.2)\n",
            "Requirement already satisfied: cycler>=0.10 in /usr/local/lib/python3.7/dist-packages (from matplotlib->catboost) (0.11.0)\n",
            "Requirement already satisfied: pyparsing!=2.0.4,!=2.1.2,!=2.1.6,>=2.0.1 in /usr/local/lib/python3.7/dist-packages (from matplotlib->catboost) (3.0.6)\n",
            "Requirement already satisfied: retrying>=1.3.3 in /usr/local/lib/python3.7/dist-packages (from plotly->catboost) (1.3.3)\n",
            "Installing collected packages: catboost\n",
            "Successfully installed catboost-1.0.3\n"
          ]
        }
      ]
    },
    {
      "cell_type": "code",
      "metadata": {
        "id": "08uoP6VrkbG6",
        "colab": {
          "base_uri": "https://localhost:8080/"
        },
        "outputId": "e329d879-72d7-4002-c05c-726678042e17"
      },
      "source": [
        "from catboost import CatBoostRegressor\n",
        "\n",
        "\n",
        "cat_model=CatBoostRegressor()\n",
        "cat_model.fit(X_train, y_train)\n",
        "\n",
        "y_pred = cat_model.predict(X_test)\n"
      ],
      "execution_count": null,
      "outputs": [
        {
          "output_type": "stream",
          "name": "stdout",
          "text": [
            "Learning rate set to 0.154747\n",
            "0:\tlearn: 2.8060026\ttotal: 153ms\tremaining: 2m 32s\n",
            "1:\tlearn: 2.5648647\ttotal: 228ms\tremaining: 1m 53s\n",
            "2:\tlearn: 2.3710889\ttotal: 302ms\tremaining: 1m 40s\n",
            "3:\tlearn: 2.2197545\ttotal: 381ms\tremaining: 1m 34s\n",
            "4:\tlearn: 2.1002508\ttotal: 460ms\tremaining: 1m 31s\n",
            "5:\tlearn: 2.0072473\ttotal: 528ms\tremaining: 1m 27s\n",
            "6:\tlearn: 1.9375893\ttotal: 602ms\tremaining: 1m 25s\n",
            "7:\tlearn: 1.8836385\ttotal: 668ms\tremaining: 1m 22s\n",
            "8:\tlearn: 1.8434694\ttotal: 741ms\tremaining: 1m 21s\n",
            "9:\tlearn: 1.8124325\ttotal: 807ms\tremaining: 1m 19s\n",
            "10:\tlearn: 1.7890535\ttotal: 871ms\tremaining: 1m 18s\n",
            "11:\tlearn: 1.7689178\ttotal: 944ms\tremaining: 1m 17s\n",
            "12:\tlearn: 1.7540443\ttotal: 1.01s\tremaining: 1m 16s\n",
            "13:\tlearn: 1.7431989\ttotal: 1.08s\tremaining: 1m 16s\n",
            "14:\tlearn: 1.7332544\ttotal: 1.16s\tremaining: 1m 16s\n",
            "15:\tlearn: 1.7247575\ttotal: 1.23s\tremaining: 1m 15s\n",
            "16:\tlearn: 1.7195056\ttotal: 1.29s\tremaining: 1m 14s\n",
            "17:\tlearn: 1.7139225\ttotal: 1.36s\tremaining: 1m 14s\n",
            "18:\tlearn: 1.7088845\ttotal: 1.45s\tremaining: 1m 14s\n",
            "19:\tlearn: 1.7037174\ttotal: 1.52s\tremaining: 1m 14s\n",
            "20:\tlearn: 1.7007336\ttotal: 1.59s\tremaining: 1m 14s\n",
            "21:\tlearn: 1.6967356\ttotal: 1.67s\tremaining: 1m 14s\n",
            "22:\tlearn: 1.6948016\ttotal: 1.73s\tremaining: 1m 13s\n",
            "23:\tlearn: 1.6925111\ttotal: 1.81s\tremaining: 1m 13s\n",
            "24:\tlearn: 1.6888510\ttotal: 1.88s\tremaining: 1m 13s\n",
            "25:\tlearn: 1.6866515\ttotal: 1.94s\tremaining: 1m 12s\n",
            "26:\tlearn: 1.6838124\ttotal: 2.02s\tremaining: 1m 12s\n",
            "27:\tlearn: 1.6811234\ttotal: 2.1s\tremaining: 1m 12s\n",
            "28:\tlearn: 1.6792311\ttotal: 2.18s\tremaining: 1m 12s\n",
            "29:\tlearn: 1.6759012\ttotal: 2.26s\tremaining: 1m 13s\n",
            "30:\tlearn: 1.6737085\ttotal: 2.34s\tremaining: 1m 13s\n",
            "31:\tlearn: 1.6719163\ttotal: 2.41s\tremaining: 1m 13s\n",
            "32:\tlearn: 1.6693598\ttotal: 2.49s\tremaining: 1m 12s\n",
            "33:\tlearn: 1.6677362\ttotal: 2.56s\tremaining: 1m 12s\n",
            "34:\tlearn: 1.6656250\ttotal: 2.65s\tremaining: 1m 12s\n",
            "35:\tlearn: 1.6644042\ttotal: 2.71s\tremaining: 1m 12s\n",
            "36:\tlearn: 1.6627563\ttotal: 2.78s\tremaining: 1m 12s\n",
            "37:\tlearn: 1.6609741\ttotal: 2.86s\tremaining: 1m 12s\n",
            "38:\tlearn: 1.6596262\ttotal: 2.93s\tremaining: 1m 12s\n",
            "39:\tlearn: 1.6582380\ttotal: 3.02s\tremaining: 1m 12s\n",
            "40:\tlearn: 1.6571642\ttotal: 3.08s\tremaining: 1m 12s\n",
            "41:\tlearn: 1.6560784\ttotal: 3.17s\tremaining: 1m 12s\n",
            "42:\tlearn: 1.6552185\ttotal: 3.25s\tremaining: 1m 12s\n",
            "43:\tlearn: 1.6542201\ttotal: 3.31s\tremaining: 1m 11s\n",
            "44:\tlearn: 1.6527368\ttotal: 3.4s\tremaining: 1m 12s\n",
            "45:\tlearn: 1.6519646\ttotal: 3.48s\tremaining: 1m 12s\n",
            "46:\tlearn: 1.6513061\ttotal: 3.56s\tremaining: 1m 12s\n",
            "47:\tlearn: 1.6502016\ttotal: 3.65s\tremaining: 1m 12s\n",
            "48:\tlearn: 1.6492628\ttotal: 3.72s\tremaining: 1m 12s\n",
            "49:\tlearn: 1.6481443\ttotal: 3.81s\tremaining: 1m 12s\n",
            "50:\tlearn: 1.6475075\ttotal: 3.89s\tremaining: 1m 12s\n",
            "51:\tlearn: 1.6463683\ttotal: 3.99s\tremaining: 1m 12s\n",
            "52:\tlearn: 1.6458008\ttotal: 4.07s\tremaining: 1m 12s\n",
            "53:\tlearn: 1.6451275\ttotal: 4.16s\tremaining: 1m 12s\n",
            "54:\tlearn: 1.6442298\ttotal: 4.24s\tremaining: 1m 12s\n",
            "55:\tlearn: 1.6429153\ttotal: 4.33s\tremaining: 1m 13s\n",
            "56:\tlearn: 1.6424825\ttotal: 4.42s\tremaining: 1m 13s\n",
            "57:\tlearn: 1.6421233\ttotal: 4.5s\tremaining: 1m 13s\n",
            "58:\tlearn: 1.6413703\ttotal: 4.6s\tremaining: 1m 13s\n",
            "59:\tlearn: 1.6404878\ttotal: 4.68s\tremaining: 1m 13s\n",
            "60:\tlearn: 1.6398652\ttotal: 4.76s\tremaining: 1m 13s\n",
            "61:\tlearn: 1.6392587\ttotal: 4.85s\tremaining: 1m 13s\n",
            "62:\tlearn: 1.6389910\ttotal: 4.91s\tremaining: 1m 13s\n",
            "63:\tlearn: 1.6383687\ttotal: 5s\tremaining: 1m 13s\n",
            "64:\tlearn: 1.6378133\ttotal: 5.08s\tremaining: 1m 13s\n",
            "65:\tlearn: 1.6369519\ttotal: 5.17s\tremaining: 1m 13s\n",
            "66:\tlearn: 1.6362325\ttotal: 5.27s\tremaining: 1m 13s\n",
            "67:\tlearn: 1.6357162\ttotal: 5.35s\tremaining: 1m 13s\n",
            "68:\tlearn: 1.6353277\ttotal: 5.42s\tremaining: 1m 13s\n",
            "69:\tlearn: 1.6348157\ttotal: 5.5s\tremaining: 1m 13s\n",
            "70:\tlearn: 1.6341917\ttotal: 5.57s\tremaining: 1m 12s\n",
            "71:\tlearn: 1.6334184\ttotal: 5.66s\tremaining: 1m 12s\n",
            "72:\tlearn: 1.6328236\ttotal: 5.74s\tremaining: 1m 12s\n",
            "73:\tlearn: 1.6322553\ttotal: 5.83s\tremaining: 1m 12s\n",
            "74:\tlearn: 1.6316750\ttotal: 5.91s\tremaining: 1m 12s\n",
            "75:\tlearn: 1.6315225\ttotal: 5.96s\tremaining: 1m 12s\n",
            "76:\tlearn: 1.6310030\ttotal: 6.06s\tremaining: 1m 12s\n",
            "77:\tlearn: 1.6304368\ttotal: 6.14s\tremaining: 1m 12s\n",
            "78:\tlearn: 1.6299271\ttotal: 6.23s\tremaining: 1m 12s\n",
            "79:\tlearn: 1.6294852\ttotal: 6.31s\tremaining: 1m 12s\n",
            "80:\tlearn: 1.6290659\ttotal: 6.39s\tremaining: 1m 12s\n",
            "81:\tlearn: 1.6285689\ttotal: 6.47s\tremaining: 1m 12s\n",
            "82:\tlearn: 1.6282120\ttotal: 6.55s\tremaining: 1m 12s\n",
            "83:\tlearn: 1.6279516\ttotal: 6.64s\tremaining: 1m 12s\n",
            "84:\tlearn: 1.6274037\ttotal: 6.73s\tremaining: 1m 12s\n",
            "85:\tlearn: 1.6270139\ttotal: 6.82s\tremaining: 1m 12s\n",
            "86:\tlearn: 1.6265819\ttotal: 6.9s\tremaining: 1m 12s\n",
            "87:\tlearn: 1.6262443\ttotal: 6.98s\tremaining: 1m 12s\n",
            "88:\tlearn: 1.6257513\ttotal: 7.07s\tremaining: 1m 12s\n",
            "89:\tlearn: 1.6253930\ttotal: 7.16s\tremaining: 1m 12s\n",
            "90:\tlearn: 1.6249770\ttotal: 7.24s\tremaining: 1m 12s\n",
            "91:\tlearn: 1.6247930\ttotal: 7.3s\tremaining: 1m 12s\n",
            "92:\tlearn: 1.6245757\ttotal: 7.38s\tremaining: 1m 11s\n",
            "93:\tlearn: 1.6242293\ttotal: 7.45s\tremaining: 1m 11s\n",
            "94:\tlearn: 1.6238104\ttotal: 7.53s\tremaining: 1m 11s\n",
            "95:\tlearn: 1.6235643\ttotal: 7.61s\tremaining: 1m 11s\n",
            "96:\tlearn: 1.6231085\ttotal: 7.68s\tremaining: 1m 11s\n",
            "97:\tlearn: 1.6227864\ttotal: 7.75s\tremaining: 1m 11s\n",
            "98:\tlearn: 1.6222488\ttotal: 7.85s\tremaining: 1m 11s\n",
            "99:\tlearn: 1.6221118\ttotal: 7.91s\tremaining: 1m 11s\n",
            "100:\tlearn: 1.6217459\ttotal: 7.99s\tremaining: 1m 11s\n",
            "101:\tlearn: 1.6215030\ttotal: 8.05s\tremaining: 1m 10s\n",
            "102:\tlearn: 1.6211227\ttotal: 8.12s\tremaining: 1m 10s\n",
            "103:\tlearn: 1.6207202\ttotal: 8.2s\tremaining: 1m 10s\n",
            "104:\tlearn: 1.6203815\ttotal: 8.29s\tremaining: 1m 10s\n",
            "105:\tlearn: 1.6197504\ttotal: 8.36s\tremaining: 1m 10s\n",
            "106:\tlearn: 1.6192998\ttotal: 8.46s\tremaining: 1m 10s\n",
            "107:\tlearn: 1.6189535\ttotal: 8.52s\tremaining: 1m 10s\n",
            "108:\tlearn: 1.6186408\ttotal: 8.61s\tremaining: 1m 10s\n",
            "109:\tlearn: 1.6182569\ttotal: 8.7s\tremaining: 1m 10s\n",
            "110:\tlearn: 1.6180723\ttotal: 8.77s\tremaining: 1m 10s\n",
            "111:\tlearn: 1.6177795\ttotal: 8.84s\tremaining: 1m 10s\n",
            "112:\tlearn: 1.6176355\ttotal: 8.9s\tremaining: 1m 9s\n",
            "113:\tlearn: 1.6173756\ttotal: 8.98s\tremaining: 1m 9s\n",
            "114:\tlearn: 1.6171210\ttotal: 9.06s\tremaining: 1m 9s\n",
            "115:\tlearn: 1.6168375\ttotal: 9.12s\tremaining: 1m 9s\n",
            "116:\tlearn: 1.6164985\ttotal: 9.21s\tremaining: 1m 9s\n",
            "117:\tlearn: 1.6163116\ttotal: 9.28s\tremaining: 1m 9s\n",
            "118:\tlearn: 1.6159710\ttotal: 9.38s\tremaining: 1m 9s\n",
            "119:\tlearn: 1.6157594\ttotal: 9.45s\tremaining: 1m 9s\n",
            "120:\tlearn: 1.6155169\ttotal: 9.52s\tremaining: 1m 9s\n",
            "121:\tlearn: 1.6150873\ttotal: 9.6s\tremaining: 1m 9s\n",
            "122:\tlearn: 1.6149730\ttotal: 9.66s\tremaining: 1m 8s\n",
            "123:\tlearn: 1.6145838\ttotal: 9.73s\tremaining: 1m 8s\n",
            "124:\tlearn: 1.6142637\ttotal: 9.81s\tremaining: 1m 8s\n",
            "125:\tlearn: 1.6139405\ttotal: 9.89s\tremaining: 1m 8s\n",
            "126:\tlearn: 1.6137217\ttotal: 9.97s\tremaining: 1m 8s\n",
            "127:\tlearn: 1.6133993\ttotal: 10s\tremaining: 1m 8s\n",
            "128:\tlearn: 1.6132918\ttotal: 10.1s\tremaining: 1m 8s\n",
            "129:\tlearn: 1.6129569\ttotal: 10.2s\tremaining: 1m 8s\n",
            "130:\tlearn: 1.6125920\ttotal: 10.3s\tremaining: 1m 8s\n",
            "131:\tlearn: 1.6123617\ttotal: 10.3s\tremaining: 1m 7s\n",
            "132:\tlearn: 1.6121379\ttotal: 10.4s\tremaining: 1m 7s\n",
            "133:\tlearn: 1.6118632\ttotal: 10.5s\tremaining: 1m 7s\n",
            "134:\tlearn: 1.6116894\ttotal: 10.5s\tremaining: 1m 7s\n",
            "135:\tlearn: 1.6113666\ttotal: 10.6s\tremaining: 1m 7s\n",
            "136:\tlearn: 1.6112574\ttotal: 10.7s\tremaining: 1m 7s\n",
            "137:\tlearn: 1.6111468\ttotal: 10.7s\tremaining: 1m 7s\n",
            "138:\tlearn: 1.6110391\ttotal: 10.8s\tremaining: 1m 6s\n",
            "139:\tlearn: 1.6103150\ttotal: 10.9s\tremaining: 1m 6s\n",
            "140:\tlearn: 1.6101213\ttotal: 10.9s\tremaining: 1m 6s\n",
            "141:\tlearn: 1.6098211\ttotal: 11s\tremaining: 1m 6s\n",
            "142:\tlearn: 1.6096122\ttotal: 11.1s\tremaining: 1m 6s\n",
            "143:\tlearn: 1.6093948\ttotal: 11.2s\tremaining: 1m 6s\n",
            "144:\tlearn: 1.6091991\ttotal: 11.3s\tremaining: 1m 6s\n",
            "145:\tlearn: 1.6090651\ttotal: 11.4s\tremaining: 1m 6s\n",
            "146:\tlearn: 1.6089878\ttotal: 11.4s\tremaining: 1m 6s\n",
            "147:\tlearn: 1.6087568\ttotal: 11.5s\tremaining: 1m 6s\n",
            "148:\tlearn: 1.6083563\ttotal: 11.6s\tremaining: 1m 6s\n",
            "149:\tlearn: 1.6082068\ttotal: 11.7s\tremaining: 1m 6s\n",
            "150:\tlearn: 1.6080055\ttotal: 11.8s\tremaining: 1m 6s\n",
            "151:\tlearn: 1.6074808\ttotal: 11.9s\tremaining: 1m 6s\n",
            "152:\tlearn: 1.6072497\ttotal: 11.9s\tremaining: 1m 6s\n",
            "153:\tlearn: 1.6071068\ttotal: 12s\tremaining: 1m 6s\n",
            "154:\tlearn: 1.6069019\ttotal: 12.1s\tremaining: 1m 5s\n",
            "155:\tlearn: 1.6065752\ttotal: 12.2s\tremaining: 1m 5s\n",
            "156:\tlearn: 1.6061455\ttotal: 12.3s\tremaining: 1m 5s\n",
            "157:\tlearn: 1.6059573\ttotal: 12.4s\tremaining: 1m 5s\n",
            "158:\tlearn: 1.6055553\ttotal: 12.4s\tremaining: 1m 5s\n",
            "159:\tlearn: 1.6054283\ttotal: 12.5s\tremaining: 1m 5s\n",
            "160:\tlearn: 1.6051336\ttotal: 12.6s\tremaining: 1m 5s\n",
            "161:\tlearn: 1.6049463\ttotal: 12.7s\tremaining: 1m 5s\n",
            "162:\tlearn: 1.6046316\ttotal: 12.8s\tremaining: 1m 5s\n",
            "163:\tlearn: 1.6045115\ttotal: 12.9s\tremaining: 1m 5s\n",
            "164:\tlearn: 1.6044182\ttotal: 12.9s\tremaining: 1m 5s\n",
            "165:\tlearn: 1.6042033\ttotal: 13s\tremaining: 1m 5s\n",
            "166:\tlearn: 1.6040237\ttotal: 13.1s\tremaining: 1m 5s\n",
            "167:\tlearn: 1.6037399\ttotal: 13.2s\tremaining: 1m 5s\n",
            "168:\tlearn: 1.6034373\ttotal: 13.3s\tremaining: 1m 5s\n",
            "169:\tlearn: 1.6031999\ttotal: 13.4s\tremaining: 1m 5s\n",
            "170:\tlearn: 1.6029396\ttotal: 13.4s\tremaining: 1m 5s\n",
            "171:\tlearn: 1.6026982\ttotal: 13.5s\tremaining: 1m 5s\n",
            "172:\tlearn: 1.6024774\ttotal: 13.6s\tremaining: 1m 5s\n",
            "173:\tlearn: 1.6022796\ttotal: 13.7s\tremaining: 1m 5s\n",
            "174:\tlearn: 1.6020856\ttotal: 13.8s\tremaining: 1m 5s\n",
            "175:\tlearn: 1.6018873\ttotal: 13.9s\tremaining: 1m 4s\n",
            "176:\tlearn: 1.6018086\ttotal: 13.9s\tremaining: 1m 4s\n",
            "177:\tlearn: 1.6014669\ttotal: 14.1s\tremaining: 1m 4s\n",
            "178:\tlearn: 1.6012999\ttotal: 14.1s\tremaining: 1m 4s\n",
            "179:\tlearn: 1.6010135\ttotal: 14.2s\tremaining: 1m 4s\n",
            "180:\tlearn: 1.6008324\ttotal: 14.3s\tremaining: 1m 4s\n",
            "181:\tlearn: 1.6007115\ttotal: 14.4s\tremaining: 1m 4s\n",
            "182:\tlearn: 1.6005267\ttotal: 14.5s\tremaining: 1m 4s\n",
            "183:\tlearn: 1.6002440\ttotal: 14.5s\tremaining: 1m 4s\n",
            "184:\tlearn: 1.6000516\ttotal: 14.6s\tremaining: 1m 4s\n",
            "185:\tlearn: 1.5998343\ttotal: 14.7s\tremaining: 1m 4s\n",
            "186:\tlearn: 1.5995396\ttotal: 14.8s\tremaining: 1m 4s\n",
            "187:\tlearn: 1.5993174\ttotal: 14.9s\tremaining: 1m 4s\n",
            "188:\tlearn: 1.5989977\ttotal: 15s\tremaining: 1m 4s\n",
            "189:\tlearn: 1.5988435\ttotal: 15.1s\tremaining: 1m 4s\n",
            "190:\tlearn: 1.5985815\ttotal: 15.2s\tremaining: 1m 4s\n",
            "191:\tlearn: 1.5984030\ttotal: 15.2s\tremaining: 1m 4s\n",
            "192:\tlearn: 1.5980012\ttotal: 15.3s\tremaining: 1m 4s\n",
            "193:\tlearn: 1.5978420\ttotal: 15.4s\tremaining: 1m 4s\n",
            "194:\tlearn: 1.5976512\ttotal: 15.5s\tremaining: 1m 4s\n",
            "195:\tlearn: 1.5975051\ttotal: 15.6s\tremaining: 1m 3s\n",
            "196:\tlearn: 1.5974365\ttotal: 15.7s\tremaining: 1m 3s\n",
            "197:\tlearn: 1.5973688\ttotal: 15.7s\tremaining: 1m 3s\n",
            "198:\tlearn: 1.5972384\ttotal: 15.8s\tremaining: 1m 3s\n",
            "199:\tlearn: 1.5971563\ttotal: 15.9s\tremaining: 1m 3s\n",
            "200:\tlearn: 1.5970066\ttotal: 16s\tremaining: 1m 3s\n",
            "201:\tlearn: 1.5967479\ttotal: 16s\tremaining: 1m 3s\n",
            "202:\tlearn: 1.5965873\ttotal: 16.1s\tremaining: 1m 3s\n",
            "203:\tlearn: 1.5964538\ttotal: 16.2s\tremaining: 1m 3s\n",
            "204:\tlearn: 1.5962712\ttotal: 16.3s\tremaining: 1m 3s\n",
            "205:\tlearn: 1.5961615\ttotal: 16.4s\tremaining: 1m 3s\n",
            "206:\tlearn: 1.5959910\ttotal: 16.4s\tremaining: 1m 2s\n",
            "207:\tlearn: 1.5958751\ttotal: 16.5s\tremaining: 1m 2s\n",
            "208:\tlearn: 1.5955534\ttotal: 16.6s\tremaining: 1m 2s\n",
            "209:\tlearn: 1.5954137\ttotal: 16.7s\tremaining: 1m 2s\n",
            "210:\tlearn: 1.5952798\ttotal: 16.8s\tremaining: 1m 2s\n",
            "211:\tlearn: 1.5950797\ttotal: 16.8s\tremaining: 1m 2s\n",
            "212:\tlearn: 1.5949570\ttotal: 16.9s\tremaining: 1m 2s\n",
            "213:\tlearn: 1.5946775\ttotal: 17s\tremaining: 1m 2s\n",
            "214:\tlearn: 1.5944240\ttotal: 17.1s\tremaining: 1m 2s\n",
            "215:\tlearn: 1.5942997\ttotal: 17.2s\tremaining: 1m 2s\n",
            "216:\tlearn: 1.5941684\ttotal: 17.3s\tremaining: 1m 2s\n",
            "217:\tlearn: 1.5939747\ttotal: 17.4s\tremaining: 1m 2s\n",
            "218:\tlearn: 1.5937367\ttotal: 17.5s\tremaining: 1m 2s\n",
            "219:\tlearn: 1.5936816\ttotal: 17.5s\tremaining: 1m 2s\n",
            "220:\tlearn: 1.5936413\ttotal: 17.6s\tremaining: 1m 2s\n",
            "221:\tlearn: 1.5935219\ttotal: 17.7s\tremaining: 1m 1s\n",
            "222:\tlearn: 1.5933777\ttotal: 17.8s\tremaining: 1m 1s\n",
            "223:\tlearn: 1.5932346\ttotal: 17.8s\tremaining: 1m 1s\n",
            "224:\tlearn: 1.5931385\ttotal: 17.9s\tremaining: 1m 1s\n",
            "225:\tlearn: 1.5929049\ttotal: 18s\tremaining: 1m 1s\n",
            "226:\tlearn: 1.5926991\ttotal: 18.1s\tremaining: 1m 1s\n",
            "227:\tlearn: 1.5925455\ttotal: 18.2s\tremaining: 1m 1s\n",
            "228:\tlearn: 1.5924281\ttotal: 18.2s\tremaining: 1m 1s\n",
            "229:\tlearn: 1.5921507\ttotal: 18.3s\tremaining: 1m 1s\n",
            "230:\tlearn: 1.5919494\ttotal: 18.4s\tremaining: 1m 1s\n",
            "231:\tlearn: 1.5918368\ttotal: 18.5s\tremaining: 1m 1s\n",
            "232:\tlearn: 1.5916341\ttotal: 18.6s\tremaining: 1m 1s\n",
            "233:\tlearn: 1.5915182\ttotal: 18.6s\tremaining: 1m 1s\n",
            "234:\tlearn: 1.5913917\ttotal: 18.7s\tremaining: 1m\n",
            "235:\tlearn: 1.5913295\ttotal: 18.8s\tremaining: 1m\n",
            "236:\tlearn: 1.5912006\ttotal: 18.9s\tremaining: 1m\n",
            "237:\tlearn: 1.5911451\ttotal: 18.9s\tremaining: 1m\n",
            "238:\tlearn: 1.5910262\ttotal: 19s\tremaining: 1m\n",
            "239:\tlearn: 1.5907718\ttotal: 19.1s\tremaining: 1m\n",
            "240:\tlearn: 1.5905649\ttotal: 19.2s\tremaining: 1m\n",
            "241:\tlearn: 1.5904419\ttotal: 19.3s\tremaining: 1m\n",
            "242:\tlearn: 1.5902351\ttotal: 19.4s\tremaining: 1m\n",
            "243:\tlearn: 1.5901089\ttotal: 19.5s\tremaining: 1m\n",
            "244:\tlearn: 1.5899058\ttotal: 19.6s\tremaining: 1m\n",
            "245:\tlearn: 1.5897606\ttotal: 19.6s\tremaining: 1m\n",
            "246:\tlearn: 1.5896529\ttotal: 19.7s\tremaining: 1m\n",
            "247:\tlearn: 1.5895739\ttotal: 19.8s\tremaining: 1m\n",
            "248:\tlearn: 1.5894588\ttotal: 19.9s\tremaining: 60s\n",
            "249:\tlearn: 1.5893333\ttotal: 20s\tremaining: 59.9s\n",
            "250:\tlearn: 1.5891766\ttotal: 20s\tremaining: 59.8s\n",
            "251:\tlearn: 1.5890644\ttotal: 20.1s\tremaining: 59.7s\n",
            "252:\tlearn: 1.5889328\ttotal: 20.2s\tremaining: 59.6s\n",
            "253:\tlearn: 1.5888498\ttotal: 20.3s\tremaining: 59.6s\n",
            "254:\tlearn: 1.5887368\ttotal: 20.3s\tremaining: 59.5s\n",
            "255:\tlearn: 1.5884454\ttotal: 20.4s\tremaining: 59.4s\n",
            "256:\tlearn: 1.5882687\ttotal: 20.5s\tremaining: 59.3s\n",
            "257:\tlearn: 1.5880567\ttotal: 20.6s\tremaining: 59.3s\n",
            "258:\tlearn: 1.5878815\ttotal: 20.7s\tremaining: 59.2s\n",
            "259:\tlearn: 1.5878217\ttotal: 20.8s\tremaining: 59.1s\n",
            "260:\tlearn: 1.5877165\ttotal: 20.8s\tremaining: 58.9s\n",
            "261:\tlearn: 1.5876258\ttotal: 20.9s\tremaining: 58.8s\n",
            "262:\tlearn: 1.5874355\ttotal: 21s\tremaining: 58.8s\n",
            "263:\tlearn: 1.5872276\ttotal: 21s\tremaining: 58.7s\n",
            "264:\tlearn: 1.5871092\ttotal: 21.1s\tremaining: 58.6s\n",
            "265:\tlearn: 1.5870127\ttotal: 21.2s\tremaining: 58.5s\n",
            "266:\tlearn: 1.5869257\ttotal: 21.3s\tremaining: 58.4s\n",
            "267:\tlearn: 1.5867759\ttotal: 21.3s\tremaining: 58.3s\n",
            "268:\tlearn: 1.5866710\ttotal: 21.4s\tremaining: 58.2s\n",
            "269:\tlearn: 1.5866120\ttotal: 21.5s\tremaining: 58s\n",
            "270:\tlearn: 1.5865165\ttotal: 21.5s\tremaining: 57.9s\n",
            "271:\tlearn: 1.5864524\ttotal: 21.6s\tremaining: 57.8s\n",
            "272:\tlearn: 1.5863457\ttotal: 21.7s\tremaining: 57.7s\n",
            "273:\tlearn: 1.5862310\ttotal: 21.7s\tremaining: 57.6s\n",
            "274:\tlearn: 1.5860339\ttotal: 21.8s\tremaining: 57.5s\n",
            "275:\tlearn: 1.5859420\ttotal: 21.9s\tremaining: 57.4s\n",
            "276:\tlearn: 1.5857985\ttotal: 22s\tremaining: 57.3s\n",
            "277:\tlearn: 1.5857702\ttotal: 22s\tremaining: 57.2s\n",
            "278:\tlearn: 1.5856352\ttotal: 22.1s\tremaining: 57.1s\n",
            "279:\tlearn: 1.5855851\ttotal: 22.2s\tremaining: 57s\n",
            "280:\tlearn: 1.5854137\ttotal: 22.2s\tremaining: 56.9s\n",
            "281:\tlearn: 1.5853628\ttotal: 22.3s\tremaining: 56.8s\n",
            "282:\tlearn: 1.5852517\ttotal: 22.4s\tremaining: 56.7s\n",
            "283:\tlearn: 1.5849384\ttotal: 22.5s\tremaining: 56.6s\n",
            "284:\tlearn: 1.5847897\ttotal: 22.5s\tremaining: 56.6s\n",
            "285:\tlearn: 1.5846030\ttotal: 22.6s\tremaining: 56.4s\n",
            "286:\tlearn: 1.5844062\ttotal: 22.7s\tremaining: 56.3s\n",
            "287:\tlearn: 1.5843274\ttotal: 22.7s\tremaining: 56.2s\n",
            "288:\tlearn: 1.5841135\ttotal: 22.8s\tremaining: 56.2s\n",
            "289:\tlearn: 1.5839871\ttotal: 22.9s\tremaining: 56.1s\n",
            "290:\tlearn: 1.5837780\ttotal: 23s\tremaining: 56s\n",
            "291:\tlearn: 1.5833916\ttotal: 23.1s\tremaining: 56s\n",
            "292:\tlearn: 1.5832968\ttotal: 23.2s\tremaining: 55.9s\n",
            "293:\tlearn: 1.5832180\ttotal: 23.2s\tremaining: 55.8s\n",
            "294:\tlearn: 1.5831774\ttotal: 23.3s\tremaining: 55.7s\n",
            "295:\tlearn: 1.5830998\ttotal: 23.4s\tremaining: 55.6s\n",
            "296:\tlearn: 1.5829842\ttotal: 23.5s\tremaining: 55.6s\n",
            "297:\tlearn: 1.5828738\ttotal: 23.6s\tremaining: 55.5s\n",
            "298:\tlearn: 1.5827123\ttotal: 23.7s\tremaining: 55.5s\n",
            "299:\tlearn: 1.5826514\ttotal: 23.7s\tremaining: 55.4s\n",
            "300:\tlearn: 1.5825977\ttotal: 23.8s\tremaining: 55.3s\n",
            "301:\tlearn: 1.5825085\ttotal: 23.9s\tremaining: 55.2s\n",
            "302:\tlearn: 1.5823540\ttotal: 24s\tremaining: 55.1s\n",
            "303:\tlearn: 1.5821406\ttotal: 24.1s\tremaining: 55.1s\n",
            "304:\tlearn: 1.5819866\ttotal: 24.1s\tremaining: 55s\n",
            "305:\tlearn: 1.5817884\ttotal: 24.2s\tremaining: 54.9s\n",
            "306:\tlearn: 1.5816992\ttotal: 24.3s\tremaining: 54.9s\n",
            "307:\tlearn: 1.5816331\ttotal: 24.4s\tremaining: 54.8s\n",
            "308:\tlearn: 1.5815302\ttotal: 24.5s\tremaining: 54.7s\n",
            "309:\tlearn: 1.5813727\ttotal: 24.5s\tremaining: 54.6s\n",
            "310:\tlearn: 1.5812407\ttotal: 24.6s\tremaining: 54.5s\n",
            "311:\tlearn: 1.5811685\ttotal: 24.7s\tremaining: 54.4s\n",
            "312:\tlearn: 1.5809265\ttotal: 24.8s\tremaining: 54.4s\n",
            "313:\tlearn: 1.5805080\ttotal: 24.9s\tremaining: 54.3s\n",
            "314:\tlearn: 1.5804390\ttotal: 24.9s\tremaining: 54.2s\n",
            "315:\tlearn: 1.5803148\ttotal: 25s\tremaining: 54.1s\n",
            "316:\tlearn: 1.5801765\ttotal: 25.1s\tremaining: 54s\n",
            "317:\tlearn: 1.5801058\ttotal: 25.2s\tremaining: 54s\n",
            "318:\tlearn: 1.5800160\ttotal: 25.2s\tremaining: 53.9s\n",
            "319:\tlearn: 1.5798950\ttotal: 25.3s\tremaining: 53.8s\n",
            "320:\tlearn: 1.5797549\ttotal: 25.4s\tremaining: 53.8s\n",
            "321:\tlearn: 1.5796495\ttotal: 25.5s\tremaining: 53.7s\n",
            "322:\tlearn: 1.5794512\ttotal: 25.6s\tremaining: 53.6s\n",
            "323:\tlearn: 1.5794145\ttotal: 25.6s\tremaining: 53.5s\n",
            "324:\tlearn: 1.5792108\ttotal: 25.7s\tremaining: 53.4s\n",
            "325:\tlearn: 1.5790750\ttotal: 25.8s\tremaining: 53.3s\n",
            "326:\tlearn: 1.5789783\ttotal: 25.9s\tremaining: 53.2s\n",
            "327:\tlearn: 1.5788428\ttotal: 25.9s\tremaining: 53.1s\n",
            "328:\tlearn: 1.5786029\ttotal: 26s\tremaining: 53s\n",
            "329:\tlearn: 1.5785200\ttotal: 26.1s\tremaining: 52.9s\n",
            "330:\tlearn: 1.5783484\ttotal: 26.2s\tremaining: 52.9s\n",
            "331:\tlearn: 1.5781879\ttotal: 26.2s\tremaining: 52.8s\n",
            "332:\tlearn: 1.5781020\ttotal: 26.3s\tremaining: 52.6s\n",
            "333:\tlearn: 1.5780250\ttotal: 26.4s\tremaining: 52.6s\n",
            "334:\tlearn: 1.5778473\ttotal: 26.4s\tremaining: 52.5s\n",
            "335:\tlearn: 1.5777864\ttotal: 26.5s\tremaining: 52.4s\n",
            "336:\tlearn: 1.5777221\ttotal: 26.6s\tremaining: 52.3s\n",
            "337:\tlearn: 1.5775810\ttotal: 26.6s\tremaining: 52.2s\n",
            "338:\tlearn: 1.5774798\ttotal: 26.7s\tremaining: 52.1s\n",
            "339:\tlearn: 1.5773334\ttotal: 26.8s\tremaining: 52s\n",
            "340:\tlearn: 1.5772156\ttotal: 26.9s\tremaining: 51.9s\n",
            "341:\tlearn: 1.5770518\ttotal: 26.9s\tremaining: 51.8s\n",
            "342:\tlearn: 1.5769837\ttotal: 27s\tremaining: 51.8s\n",
            "343:\tlearn: 1.5768718\ttotal: 27.1s\tremaining: 51.7s\n",
            "344:\tlearn: 1.5768066\ttotal: 27.2s\tremaining: 51.6s\n",
            "345:\tlearn: 1.5766629\ttotal: 27.3s\tremaining: 51.5s\n",
            "346:\tlearn: 1.5764323\ttotal: 27.3s\tremaining: 51.4s\n",
            "347:\tlearn: 1.5763117\ttotal: 27.4s\tremaining: 51.3s\n",
            "348:\tlearn: 1.5761902\ttotal: 27.5s\tremaining: 51.2s\n",
            "349:\tlearn: 1.5761488\ttotal: 27.5s\tremaining: 51.2s\n",
            "350:\tlearn: 1.5760131\ttotal: 27.6s\tremaining: 51.1s\n",
            "351:\tlearn: 1.5759121\ttotal: 27.7s\tremaining: 50.9s\n",
            "352:\tlearn: 1.5757770\ttotal: 27.7s\tremaining: 50.8s\n",
            "353:\tlearn: 1.5756971\ttotal: 27.8s\tremaining: 50.7s\n",
            "354:\tlearn: 1.5756188\ttotal: 27.9s\tremaining: 50.6s\n",
            "355:\tlearn: 1.5754896\ttotal: 27.9s\tremaining: 50.5s\n",
            "356:\tlearn: 1.5753317\ttotal: 28s\tremaining: 50.5s\n",
            "357:\tlearn: 1.5751726\ttotal: 28.1s\tremaining: 50.4s\n",
            "358:\tlearn: 1.5750906\ttotal: 28.2s\tremaining: 50.3s\n",
            "359:\tlearn: 1.5749766\ttotal: 28.2s\tremaining: 50.2s\n",
            "360:\tlearn: 1.5748805\ttotal: 28.3s\tremaining: 50.1s\n",
            "361:\tlearn: 1.5747652\ttotal: 28.4s\tremaining: 50s\n",
            "362:\tlearn: 1.5746736\ttotal: 28.5s\tremaining: 50s\n",
            "363:\tlearn: 1.5745927\ttotal: 28.5s\tremaining: 49.9s\n",
            "364:\tlearn: 1.5745086\ttotal: 28.6s\tremaining: 49.8s\n",
            "365:\tlearn: 1.5743752\ttotal: 28.7s\tremaining: 49.7s\n",
            "366:\tlearn: 1.5743069\ttotal: 28.8s\tremaining: 49.6s\n",
            "367:\tlearn: 1.5742700\ttotal: 28.8s\tremaining: 49.5s\n",
            "368:\tlearn: 1.5741584\ttotal: 28.9s\tremaining: 49.4s\n",
            "369:\tlearn: 1.5740879\ttotal: 29s\tremaining: 49.3s\n",
            "370:\tlearn: 1.5739460\ttotal: 29s\tremaining: 49.3s\n",
            "371:\tlearn: 1.5738262\ttotal: 29.1s\tremaining: 49.2s\n",
            "372:\tlearn: 1.5737614\ttotal: 29.2s\tremaining: 49.1s\n",
            "373:\tlearn: 1.5736477\ttotal: 29.3s\tremaining: 49.1s\n",
            "374:\tlearn: 1.5735938\ttotal: 29.4s\tremaining: 49s\n",
            "375:\tlearn: 1.5734511\ttotal: 29.5s\tremaining: 48.9s\n",
            "376:\tlearn: 1.5733496\ttotal: 29.6s\tremaining: 48.8s\n",
            "377:\tlearn: 1.5732139\ttotal: 29.6s\tremaining: 48.8s\n",
            "378:\tlearn: 1.5731827\ttotal: 29.7s\tremaining: 48.7s\n",
            "379:\tlearn: 1.5730949\ttotal: 29.8s\tremaining: 48.6s\n",
            "380:\tlearn: 1.5728770\ttotal: 29.9s\tremaining: 48.5s\n",
            "381:\tlearn: 1.5728138\ttotal: 30s\tremaining: 48.5s\n",
            "382:\tlearn: 1.5726902\ttotal: 30s\tremaining: 48.4s\n",
            "383:\tlearn: 1.5725494\ttotal: 30.1s\tremaining: 48.3s\n",
            "384:\tlearn: 1.5724129\ttotal: 30.2s\tremaining: 48.3s\n",
            "385:\tlearn: 1.5722264\ttotal: 30.3s\tremaining: 48.2s\n",
            "386:\tlearn: 1.5721497\ttotal: 30.4s\tremaining: 48.2s\n",
            "387:\tlearn: 1.5719051\ttotal: 30.5s\tremaining: 48.1s\n",
            "388:\tlearn: 1.5717238\ttotal: 30.5s\tremaining: 48s\n",
            "389:\tlearn: 1.5716419\ttotal: 30.6s\tremaining: 47.9s\n",
            "390:\tlearn: 1.5715330\ttotal: 30.7s\tremaining: 47.8s\n",
            "391:\tlearn: 1.5714301\ttotal: 30.8s\tremaining: 47.7s\n",
            "392:\tlearn: 1.5713546\ttotal: 30.9s\tremaining: 47.7s\n",
            "393:\tlearn: 1.5711861\ttotal: 30.9s\tremaining: 47.6s\n",
            "394:\tlearn: 1.5709900\ttotal: 31s\tremaining: 47.5s\n",
            "395:\tlearn: 1.5708527\ttotal: 31.1s\tremaining: 47.4s\n",
            "396:\tlearn: 1.5707437\ttotal: 31.2s\tremaining: 47.3s\n",
            "397:\tlearn: 1.5706649\ttotal: 31.2s\tremaining: 47.3s\n",
            "398:\tlearn: 1.5705619\ttotal: 31.3s\tremaining: 47.2s\n",
            "399:\tlearn: 1.5704615\ttotal: 31.4s\tremaining: 47.1s\n",
            "400:\tlearn: 1.5702819\ttotal: 31.5s\tremaining: 47s\n",
            "401:\tlearn: 1.5702275\ttotal: 31.6s\tremaining: 46.9s\n",
            "402:\tlearn: 1.5701657\ttotal: 31.6s\tremaining: 46.9s\n",
            "403:\tlearn: 1.5700738\ttotal: 31.7s\tremaining: 46.8s\n",
            "404:\tlearn: 1.5700287\ttotal: 31.8s\tremaining: 46.7s\n",
            "405:\tlearn: 1.5699017\ttotal: 31.9s\tremaining: 46.6s\n",
            "406:\tlearn: 1.5698056\ttotal: 31.9s\tremaining: 46.5s\n",
            "407:\tlearn: 1.5697298\ttotal: 32s\tremaining: 46.4s\n",
            "408:\tlearn: 1.5696382\ttotal: 32.1s\tremaining: 46.4s\n",
            "409:\tlearn: 1.5695648\ttotal: 32.2s\tremaining: 46.3s\n",
            "410:\tlearn: 1.5694738\ttotal: 32.2s\tremaining: 46.2s\n",
            "411:\tlearn: 1.5694535\ttotal: 32.3s\tremaining: 46.1s\n",
            "412:\tlearn: 1.5693713\ttotal: 32.4s\tremaining: 46s\n",
            "413:\tlearn: 1.5693326\ttotal: 32.4s\tremaining: 45.9s\n",
            "414:\tlearn: 1.5692870\ttotal: 32.5s\tremaining: 45.8s\n",
            "415:\tlearn: 1.5692213\ttotal: 32.6s\tremaining: 45.7s\n",
            "416:\tlearn: 1.5691053\ttotal: 32.7s\tremaining: 45.7s\n",
            "417:\tlearn: 1.5689657\ttotal: 32.8s\tremaining: 45.6s\n",
            "418:\tlearn: 1.5689479\ttotal: 32.8s\tremaining: 45.5s\n",
            "419:\tlearn: 1.5688128\ttotal: 32.9s\tremaining: 45.4s\n",
            "420:\tlearn: 1.5686614\ttotal: 33s\tremaining: 45.4s\n",
            "421:\tlearn: 1.5685733\ttotal: 33.1s\tremaining: 45.3s\n",
            "422:\tlearn: 1.5684619\ttotal: 33.1s\tremaining: 45.2s\n",
            "423:\tlearn: 1.5683889\ttotal: 33.2s\tremaining: 45.1s\n",
            "424:\tlearn: 1.5682814\ttotal: 33.3s\tremaining: 45s\n",
            "425:\tlearn: 1.5681653\ttotal: 33.4s\tremaining: 44.9s\n",
            "426:\tlearn: 1.5680846\ttotal: 33.4s\tremaining: 44.9s\n",
            "427:\tlearn: 1.5679906\ttotal: 33.5s\tremaining: 44.8s\n",
            "428:\tlearn: 1.5678825\ttotal: 33.6s\tremaining: 44.7s\n",
            "429:\tlearn: 1.5677696\ttotal: 33.6s\tremaining: 44.6s\n",
            "430:\tlearn: 1.5677032\ttotal: 33.7s\tremaining: 44.5s\n",
            "431:\tlearn: 1.5676298\ttotal: 33.8s\tremaining: 44.4s\n",
            "432:\tlearn: 1.5675545\ttotal: 33.8s\tremaining: 44.3s\n",
            "433:\tlearn: 1.5674948\ttotal: 33.9s\tremaining: 44.2s\n",
            "434:\tlearn: 1.5674119\ttotal: 34s\tremaining: 44.2s\n",
            "435:\tlearn: 1.5673122\ttotal: 34.1s\tremaining: 44.1s\n",
            "436:\tlearn: 1.5671961\ttotal: 34.1s\tremaining: 44s\n",
            "437:\tlearn: 1.5671801\ttotal: 34.2s\tremaining: 43.9s\n",
            "438:\tlearn: 1.5671025\ttotal: 34.3s\tremaining: 43.8s\n",
            "439:\tlearn: 1.5670130\ttotal: 34.3s\tremaining: 43.7s\n",
            "440:\tlearn: 1.5669798\ttotal: 34.4s\tremaining: 43.6s\n",
            "441:\tlearn: 1.5669246\ttotal: 34.5s\tremaining: 43.5s\n",
            "442:\tlearn: 1.5668140\ttotal: 34.6s\tremaining: 43.5s\n",
            "443:\tlearn: 1.5667321\ttotal: 34.6s\tremaining: 43.4s\n",
            "444:\tlearn: 1.5666647\ttotal: 34.7s\tremaining: 43.3s\n",
            "445:\tlearn: 1.5666369\ttotal: 34.8s\tremaining: 43.2s\n",
            "446:\tlearn: 1.5665355\ttotal: 34.8s\tremaining: 43.1s\n",
            "447:\tlearn: 1.5664746\ttotal: 34.9s\tremaining: 43s\n",
            "448:\tlearn: 1.5664532\ttotal: 35s\tremaining: 42.9s\n",
            "449:\tlearn: 1.5663597\ttotal: 35s\tremaining: 42.8s\n",
            "450:\tlearn: 1.5662766\ttotal: 35.1s\tremaining: 42.7s\n",
            "451:\tlearn: 1.5662160\ttotal: 35.2s\tremaining: 42.6s\n",
            "452:\tlearn: 1.5661472\ttotal: 35.2s\tremaining: 42.5s\n",
            "453:\tlearn: 1.5660507\ttotal: 35.3s\tremaining: 42.5s\n",
            "454:\tlearn: 1.5660267\ttotal: 35.4s\tremaining: 42.4s\n",
            "455:\tlearn: 1.5659622\ttotal: 35.5s\tremaining: 42.3s\n",
            "456:\tlearn: 1.5658422\ttotal: 35.5s\tremaining: 42.2s\n",
            "457:\tlearn: 1.5657210\ttotal: 35.6s\tremaining: 42.1s\n",
            "458:\tlearn: 1.5656590\ttotal: 35.7s\tremaining: 42s\n",
            "459:\tlearn: 1.5655635\ttotal: 35.8s\tremaining: 42s\n",
            "460:\tlearn: 1.5654827\ttotal: 35.8s\tremaining: 41.9s\n",
            "461:\tlearn: 1.5653884\ttotal: 35.9s\tremaining: 41.8s\n",
            "462:\tlearn: 1.5652738\ttotal: 36s\tremaining: 41.7s\n",
            "463:\tlearn: 1.5651859\ttotal: 36.1s\tremaining: 41.7s\n",
            "464:\tlearn: 1.5651667\ttotal: 36.1s\tremaining: 41.6s\n",
            "465:\tlearn: 1.5650816\ttotal: 36.2s\tremaining: 41.5s\n",
            "466:\tlearn: 1.5650454\ttotal: 36.3s\tremaining: 41.4s\n",
            "467:\tlearn: 1.5649843\ttotal: 36.4s\tremaining: 41.4s\n",
            "468:\tlearn: 1.5649353\ttotal: 36.5s\tremaining: 41.3s\n",
            "469:\tlearn: 1.5648438\ttotal: 36.5s\tremaining: 41.2s\n",
            "470:\tlearn: 1.5648316\ttotal: 36.6s\tremaining: 41.1s\n",
            "471:\tlearn: 1.5647091\ttotal: 36.7s\tremaining: 41.1s\n",
            "472:\tlearn: 1.5646024\ttotal: 36.8s\tremaining: 41s\n",
            "473:\tlearn: 1.5644086\ttotal: 36.9s\tremaining: 40.9s\n",
            "474:\tlearn: 1.5643594\ttotal: 37s\tremaining: 40.9s\n",
            "475:\tlearn: 1.5642153\ttotal: 37.1s\tremaining: 40.8s\n",
            "476:\tlearn: 1.5641369\ttotal: 37.1s\tremaining: 40.7s\n",
            "477:\tlearn: 1.5640554\ttotal: 37.2s\tremaining: 40.7s\n",
            "478:\tlearn: 1.5640032\ttotal: 37.3s\tremaining: 40.6s\n",
            "479:\tlearn: 1.5638993\ttotal: 37.4s\tremaining: 40.5s\n",
            "480:\tlearn: 1.5638389\ttotal: 37.5s\tremaining: 40.5s\n",
            "481:\tlearn: 1.5637810\ttotal: 37.6s\tremaining: 40.4s\n",
            "482:\tlearn: 1.5637528\ttotal: 37.6s\tremaining: 40.3s\n",
            "483:\tlearn: 1.5635962\ttotal: 37.7s\tremaining: 40.2s\n",
            "484:\tlearn: 1.5635197\ttotal: 37.8s\tremaining: 40.1s\n",
            "485:\tlearn: 1.5634303\ttotal: 37.9s\tremaining: 40.1s\n",
            "486:\tlearn: 1.5633558\ttotal: 38s\tremaining: 40s\n",
            "487:\tlearn: 1.5632272\ttotal: 38.1s\tremaining: 40s\n",
            "488:\tlearn: 1.5631397\ttotal: 38.2s\tremaining: 39.9s\n",
            "489:\tlearn: 1.5630526\ttotal: 38.2s\tremaining: 39.8s\n",
            "490:\tlearn: 1.5629657\ttotal: 38.3s\tremaining: 39.7s\n",
            "491:\tlearn: 1.5628991\ttotal: 38.4s\tremaining: 39.7s\n",
            "492:\tlearn: 1.5627620\ttotal: 38.5s\tremaining: 39.6s\n",
            "493:\tlearn: 1.5626793\ttotal: 38.6s\tremaining: 39.5s\n",
            "494:\tlearn: 1.5626446\ttotal: 38.6s\tremaining: 39.4s\n",
            "495:\tlearn: 1.5625923\ttotal: 38.7s\tremaining: 39.3s\n",
            "496:\tlearn: 1.5625482\ttotal: 38.8s\tremaining: 39.3s\n",
            "497:\tlearn: 1.5624423\ttotal: 38.9s\tremaining: 39.2s\n",
            "498:\tlearn: 1.5623698\ttotal: 38.9s\tremaining: 39.1s\n",
            "499:\tlearn: 1.5622790\ttotal: 39s\tremaining: 39s\n",
            "500:\tlearn: 1.5622260\ttotal: 39.1s\tremaining: 39s\n",
            "501:\tlearn: 1.5621116\ttotal: 39.2s\tremaining: 38.9s\n",
            "502:\tlearn: 1.5620766\ttotal: 39.3s\tremaining: 38.8s\n",
            "503:\tlearn: 1.5619692\ttotal: 39.3s\tremaining: 38.7s\n",
            "504:\tlearn: 1.5618510\ttotal: 39.4s\tremaining: 38.7s\n",
            "505:\tlearn: 1.5618198\ttotal: 39.5s\tremaining: 38.6s\n",
            "506:\tlearn: 1.5616870\ttotal: 39.6s\tremaining: 38.5s\n",
            "507:\tlearn: 1.5616289\ttotal: 39.7s\tremaining: 38.4s\n",
            "508:\tlearn: 1.5615586\ttotal: 39.8s\tremaining: 38.4s\n",
            "509:\tlearn: 1.5614402\ttotal: 39.9s\tremaining: 38.3s\n",
            "510:\tlearn: 1.5613840\ttotal: 39.9s\tremaining: 38.2s\n",
            "511:\tlearn: 1.5613444\ttotal: 40s\tremaining: 38.1s\n",
            "512:\tlearn: 1.5612981\ttotal: 40.1s\tremaining: 38.1s\n",
            "513:\tlearn: 1.5612136\ttotal: 40.2s\tremaining: 38s\n",
            "514:\tlearn: 1.5610236\ttotal: 40.2s\tremaining: 37.9s\n",
            "515:\tlearn: 1.5609824\ttotal: 40.3s\tremaining: 37.8s\n",
            "516:\tlearn: 1.5609165\ttotal: 40.4s\tremaining: 37.7s\n",
            "517:\tlearn: 1.5608196\ttotal: 40.5s\tremaining: 37.7s\n",
            "518:\tlearn: 1.5607273\ttotal: 40.6s\tremaining: 37.6s\n",
            "519:\tlearn: 1.5606253\ttotal: 40.6s\tremaining: 37.5s\n",
            "520:\tlearn: 1.5605837\ttotal: 40.7s\tremaining: 37.4s\n",
            "521:\tlearn: 1.5605380\ttotal: 40.8s\tremaining: 37.3s\n",
            "522:\tlearn: 1.5604830\ttotal: 40.8s\tremaining: 37.2s\n",
            "523:\tlearn: 1.5603854\ttotal: 40.9s\tremaining: 37.2s\n",
            "524:\tlearn: 1.5602120\ttotal: 41s\tremaining: 37.1s\n",
            "525:\tlearn: 1.5601851\ttotal: 41.1s\tremaining: 37s\n",
            "526:\tlearn: 1.5601124\ttotal: 41.2s\tremaining: 36.9s\n",
            "527:\tlearn: 1.5600587\ttotal: 41.2s\tremaining: 36.9s\n",
            "528:\tlearn: 1.5600080\ttotal: 41.3s\tremaining: 36.8s\n",
            "529:\tlearn: 1.5599737\ttotal: 41.4s\tremaining: 36.7s\n",
            "530:\tlearn: 1.5599198\ttotal: 41.4s\tremaining: 36.6s\n",
            "531:\tlearn: 1.5597816\ttotal: 41.5s\tremaining: 36.5s\n",
            "532:\tlearn: 1.5596880\ttotal: 41.6s\tremaining: 36.5s\n",
            "533:\tlearn: 1.5596629\ttotal: 41.7s\tremaining: 36.4s\n",
            "534:\tlearn: 1.5596082\ttotal: 41.8s\tremaining: 36.3s\n",
            "535:\tlearn: 1.5595266\ttotal: 41.8s\tremaining: 36.2s\n",
            "536:\tlearn: 1.5594776\ttotal: 41.9s\tremaining: 36.1s\n",
            "537:\tlearn: 1.5594305\ttotal: 42s\tremaining: 36.1s\n",
            "538:\tlearn: 1.5593363\ttotal: 42.1s\tremaining: 36s\n",
            "539:\tlearn: 1.5593137\ttotal: 42.1s\tremaining: 35.9s\n",
            "540:\tlearn: 1.5592397\ttotal: 42.2s\tremaining: 35.8s\n",
            "541:\tlearn: 1.5591172\ttotal: 42.3s\tremaining: 35.8s\n",
            "542:\tlearn: 1.5590547\ttotal: 42.4s\tremaining: 35.7s\n",
            "543:\tlearn: 1.5589312\ttotal: 42.5s\tremaining: 35.6s\n",
            "544:\tlearn: 1.5588283\ttotal: 42.6s\tremaining: 35.5s\n",
            "545:\tlearn: 1.5587502\ttotal: 42.6s\tremaining: 35.5s\n",
            "546:\tlearn: 1.5586975\ttotal: 42.7s\tremaining: 35.4s\n",
            "547:\tlearn: 1.5586656\ttotal: 42.8s\tremaining: 35.3s\n",
            "548:\tlearn: 1.5586141\ttotal: 42.9s\tremaining: 35.2s\n",
            "549:\tlearn: 1.5585312\ttotal: 42.9s\tremaining: 35.1s\n",
            "550:\tlearn: 1.5584469\ttotal: 43s\tremaining: 35.1s\n",
            "551:\tlearn: 1.5583425\ttotal: 43.1s\tremaining: 35s\n",
            "552:\tlearn: 1.5582484\ttotal: 43.2s\tremaining: 34.9s\n",
            "553:\tlearn: 1.5581698\ttotal: 43.3s\tremaining: 34.8s\n",
            "554:\tlearn: 1.5581162\ttotal: 43.4s\tremaining: 34.8s\n",
            "555:\tlearn: 1.5580281\ttotal: 43.4s\tremaining: 34.7s\n",
            "556:\tlearn: 1.5579716\ttotal: 43.5s\tremaining: 34.6s\n",
            "557:\tlearn: 1.5578810\ttotal: 43.6s\tremaining: 34.5s\n",
            "558:\tlearn: 1.5578421\ttotal: 43.7s\tremaining: 34.5s\n",
            "559:\tlearn: 1.5577899\ttotal: 43.7s\tremaining: 34.4s\n",
            "560:\tlearn: 1.5576827\ttotal: 43.8s\tremaining: 34.3s\n",
            "561:\tlearn: 1.5575947\ttotal: 43.9s\tremaining: 34.2s\n",
            "562:\tlearn: 1.5575155\ttotal: 44s\tremaining: 34.2s\n",
            "563:\tlearn: 1.5574823\ttotal: 44.1s\tremaining: 34.1s\n",
            "564:\tlearn: 1.5573905\ttotal: 44.1s\tremaining: 34s\n",
            "565:\tlearn: 1.5572685\ttotal: 44.2s\tremaining: 33.9s\n",
            "566:\tlearn: 1.5571779\ttotal: 44.3s\tremaining: 33.8s\n",
            "567:\tlearn: 1.5570743\ttotal: 44.4s\tremaining: 33.8s\n",
            "568:\tlearn: 1.5570042\ttotal: 44.5s\tremaining: 33.7s\n",
            "569:\tlearn: 1.5569387\ttotal: 44.5s\tremaining: 33.6s\n",
            "570:\tlearn: 1.5568862\ttotal: 44.6s\tremaining: 33.5s\n",
            "571:\tlearn: 1.5568219\ttotal: 44.7s\tremaining: 33.5s\n",
            "572:\tlearn: 1.5567980\ttotal: 44.8s\tremaining: 33.4s\n",
            "573:\tlearn: 1.5567109\ttotal: 44.8s\tremaining: 33.3s\n",
            "574:\tlearn: 1.5566702\ttotal: 44.9s\tremaining: 33.2s\n",
            "575:\tlearn: 1.5566363\ttotal: 45s\tremaining: 33.1s\n",
            "576:\tlearn: 1.5565612\ttotal: 45.1s\tremaining: 33.1s\n",
            "577:\tlearn: 1.5564524\ttotal: 45.2s\tremaining: 33s\n",
            "578:\tlearn: 1.5563181\ttotal: 45.3s\tremaining: 32.9s\n",
            "579:\tlearn: 1.5562216\ttotal: 45.4s\tremaining: 32.8s\n",
            "580:\tlearn: 1.5562049\ttotal: 45.4s\tremaining: 32.8s\n",
            "581:\tlearn: 1.5561211\ttotal: 45.5s\tremaining: 32.7s\n",
            "582:\tlearn: 1.5560974\ttotal: 45.6s\tremaining: 32.6s\n",
            "583:\tlearn: 1.5560428\ttotal: 45.6s\tremaining: 32.5s\n",
            "584:\tlearn: 1.5560058\ttotal: 45.7s\tremaining: 32.4s\n",
            "585:\tlearn: 1.5559714\ttotal: 45.8s\tremaining: 32.3s\n",
            "586:\tlearn: 1.5559149\ttotal: 45.9s\tremaining: 32.3s\n",
            "587:\tlearn: 1.5557988\ttotal: 46s\tremaining: 32.2s\n",
            "588:\tlearn: 1.5557787\ttotal: 46s\tremaining: 32.1s\n",
            "589:\tlearn: 1.5557202\ttotal: 46.1s\tremaining: 32.1s\n",
            "590:\tlearn: 1.5556476\ttotal: 46.2s\tremaining: 32s\n",
            "591:\tlearn: 1.5555940\ttotal: 46.3s\tremaining: 31.9s\n",
            "592:\tlearn: 1.5555594\ttotal: 46.4s\tremaining: 31.8s\n",
            "593:\tlearn: 1.5554912\ttotal: 46.4s\tremaining: 31.7s\n",
            "594:\tlearn: 1.5554132\ttotal: 46.5s\tremaining: 31.7s\n",
            "595:\tlearn: 1.5553488\ttotal: 46.6s\tremaining: 31.6s\n",
            "596:\tlearn: 1.5553006\ttotal: 46.7s\tremaining: 31.5s\n",
            "597:\tlearn: 1.5552593\ttotal: 46.7s\tremaining: 31.4s\n",
            "598:\tlearn: 1.5552262\ttotal: 46.8s\tremaining: 31.3s\n",
            "599:\tlearn: 1.5551350\ttotal: 46.9s\tremaining: 31.3s\n",
            "600:\tlearn: 1.5550473\ttotal: 47s\tremaining: 31.2s\n",
            "601:\tlearn: 1.5549880\ttotal: 47s\tremaining: 31.1s\n",
            "602:\tlearn: 1.5549568\ttotal: 47.1s\tremaining: 31s\n",
            "603:\tlearn: 1.5549190\ttotal: 47.2s\tremaining: 31s\n",
            "604:\tlearn: 1.5548393\ttotal: 47.3s\tremaining: 30.9s\n",
            "605:\tlearn: 1.5548075\ttotal: 47.4s\tremaining: 30.8s\n",
            "606:\tlearn: 1.5547614\ttotal: 47.4s\tremaining: 30.7s\n",
            "607:\tlearn: 1.5546756\ttotal: 47.5s\tremaining: 30.6s\n",
            "608:\tlearn: 1.5545370\ttotal: 47.6s\tremaining: 30.6s\n",
            "609:\tlearn: 1.5544391\ttotal: 47.7s\tremaining: 30.5s\n",
            "610:\tlearn: 1.5543562\ttotal: 47.8s\tremaining: 30.4s\n",
            "611:\tlearn: 1.5542799\ttotal: 47.9s\tremaining: 30.4s\n",
            "612:\tlearn: 1.5541681\ttotal: 48s\tremaining: 30.3s\n",
            "613:\tlearn: 1.5541041\ttotal: 48.1s\tremaining: 30.2s\n",
            "614:\tlearn: 1.5540324\ttotal: 48.1s\tremaining: 30.1s\n",
            "615:\tlearn: 1.5539888\ttotal: 48.2s\tremaining: 30.1s\n",
            "616:\tlearn: 1.5539159\ttotal: 48.3s\tremaining: 30s\n",
            "617:\tlearn: 1.5538847\ttotal: 48.4s\tremaining: 29.9s\n",
            "618:\tlearn: 1.5537989\ttotal: 48.5s\tremaining: 29.8s\n",
            "619:\tlearn: 1.5537373\ttotal: 48.6s\tremaining: 29.8s\n",
            "620:\tlearn: 1.5536712\ttotal: 48.7s\tremaining: 29.7s\n",
            "621:\tlearn: 1.5536122\ttotal: 48.8s\tremaining: 29.6s\n",
            "622:\tlearn: 1.5535620\ttotal: 48.8s\tremaining: 29.6s\n",
            "623:\tlearn: 1.5535119\ttotal: 48.9s\tremaining: 29.5s\n",
            "624:\tlearn: 1.5534494\ttotal: 49s\tremaining: 29.4s\n",
            "625:\tlearn: 1.5533284\ttotal: 49.1s\tremaining: 29.3s\n",
            "626:\tlearn: 1.5532669\ttotal: 49.2s\tremaining: 29.2s\n",
            "627:\tlearn: 1.5532259\ttotal: 49.2s\tremaining: 29.2s\n",
            "628:\tlearn: 1.5531601\ttotal: 49.3s\tremaining: 29.1s\n",
            "629:\tlearn: 1.5530916\ttotal: 49.4s\tremaining: 29s\n",
            "630:\tlearn: 1.5530611\ttotal: 49.5s\tremaining: 28.9s\n",
            "631:\tlearn: 1.5529953\ttotal: 49.6s\tremaining: 28.9s\n",
            "632:\tlearn: 1.5529406\ttotal: 49.6s\tremaining: 28.8s\n",
            "633:\tlearn: 1.5528598\ttotal: 49.7s\tremaining: 28.7s\n",
            "634:\tlearn: 1.5528164\ttotal: 49.8s\tremaining: 28.6s\n",
            "635:\tlearn: 1.5527171\ttotal: 49.9s\tremaining: 28.6s\n",
            "636:\tlearn: 1.5526624\ttotal: 50s\tremaining: 28.5s\n",
            "637:\tlearn: 1.5525681\ttotal: 50.1s\tremaining: 28.4s\n",
            "638:\tlearn: 1.5524977\ttotal: 50.2s\tremaining: 28.3s\n",
            "639:\tlearn: 1.5524509\ttotal: 50.2s\tremaining: 28.3s\n",
            "640:\tlearn: 1.5524291\ttotal: 50.3s\tremaining: 28.2s\n",
            "641:\tlearn: 1.5523390\ttotal: 50.4s\tremaining: 28.1s\n",
            "642:\tlearn: 1.5522421\ttotal: 50.5s\tremaining: 28s\n",
            "643:\tlearn: 1.5521943\ttotal: 50.6s\tremaining: 28s\n",
            "644:\tlearn: 1.5521486\ttotal: 50.6s\tremaining: 27.9s\n",
            "645:\tlearn: 1.5520998\ttotal: 50.7s\tremaining: 27.8s\n",
            "646:\tlearn: 1.5520732\ttotal: 50.8s\tremaining: 27.7s\n",
            "647:\tlearn: 1.5519972\ttotal: 50.9s\tremaining: 27.6s\n",
            "648:\tlearn: 1.5519630\ttotal: 51s\tremaining: 27.6s\n",
            "649:\tlearn: 1.5518995\ttotal: 51s\tremaining: 27.5s\n",
            "650:\tlearn: 1.5518620\ttotal: 51.1s\tremaining: 27.4s\n",
            "651:\tlearn: 1.5518001\ttotal: 51.2s\tremaining: 27.3s\n",
            "652:\tlearn: 1.5517012\ttotal: 51.3s\tremaining: 27.3s\n",
            "653:\tlearn: 1.5516429\ttotal: 51.4s\tremaining: 27.2s\n",
            "654:\tlearn: 1.5515287\ttotal: 51.5s\tremaining: 27.1s\n",
            "655:\tlearn: 1.5514789\ttotal: 51.5s\tremaining: 27s\n",
            "656:\tlearn: 1.5513987\ttotal: 51.6s\tremaining: 27s\n",
            "657:\tlearn: 1.5513218\ttotal: 51.7s\tremaining: 26.9s\n",
            "658:\tlearn: 1.5512063\ttotal: 51.8s\tremaining: 26.8s\n",
            "659:\tlearn: 1.5511298\ttotal: 51.9s\tremaining: 26.7s\n",
            "660:\tlearn: 1.5510893\ttotal: 52s\tremaining: 26.6s\n",
            "661:\tlearn: 1.5510426\ttotal: 52s\tremaining: 26.6s\n",
            "662:\tlearn: 1.5510086\ttotal: 52.1s\tremaining: 26.5s\n",
            "663:\tlearn: 1.5509438\ttotal: 52.2s\tremaining: 26.4s\n",
            "664:\tlearn: 1.5509036\ttotal: 52.3s\tremaining: 26.3s\n",
            "665:\tlearn: 1.5508177\ttotal: 52.4s\tremaining: 26.3s\n",
            "666:\tlearn: 1.5507527\ttotal: 52.5s\tremaining: 26.2s\n",
            "667:\tlearn: 1.5507291\ttotal: 52.6s\tremaining: 26.1s\n",
            "668:\tlearn: 1.5506727\ttotal: 52.6s\tremaining: 26s\n",
            "669:\tlearn: 1.5506203\ttotal: 52.7s\tremaining: 26s\n",
            "670:\tlearn: 1.5505626\ttotal: 52.8s\tremaining: 25.9s\n",
            "671:\tlearn: 1.5505045\ttotal: 52.9s\tremaining: 25.8s\n",
            "672:\tlearn: 1.5504419\ttotal: 53s\tremaining: 25.7s\n",
            "673:\tlearn: 1.5504078\ttotal: 53s\tremaining: 25.6s\n",
            "674:\tlearn: 1.5503536\ttotal: 53.1s\tremaining: 25.6s\n",
            "675:\tlearn: 1.5503163\ttotal: 53.2s\tremaining: 25.5s\n",
            "676:\tlearn: 1.5502646\ttotal: 53.2s\tremaining: 25.4s\n",
            "677:\tlearn: 1.5502194\ttotal: 53.3s\tremaining: 25.3s\n",
            "678:\tlearn: 1.5501805\ttotal: 53.4s\tremaining: 25.2s\n",
            "679:\tlearn: 1.5500998\ttotal: 53.5s\tremaining: 25.2s\n",
            "680:\tlearn: 1.5499463\ttotal: 53.6s\tremaining: 25.1s\n",
            "681:\tlearn: 1.5498994\ttotal: 53.6s\tremaining: 25s\n",
            "682:\tlearn: 1.5498714\ttotal: 53.7s\tremaining: 24.9s\n",
            "683:\tlearn: 1.5498229\ttotal: 53.8s\tremaining: 24.8s\n",
            "684:\tlearn: 1.5497995\ttotal: 53.9s\tremaining: 24.8s\n",
            "685:\tlearn: 1.5497770\ttotal: 53.9s\tremaining: 24.7s\n",
            "686:\tlearn: 1.5497385\ttotal: 54s\tremaining: 24.6s\n",
            "687:\tlearn: 1.5496706\ttotal: 54.1s\tremaining: 24.5s\n",
            "688:\tlearn: 1.5496232\ttotal: 54.2s\tremaining: 24.5s\n",
            "689:\tlearn: 1.5495366\ttotal: 54.2s\tremaining: 24.4s\n",
            "690:\tlearn: 1.5494628\ttotal: 54.3s\tremaining: 24.3s\n",
            "691:\tlearn: 1.5493999\ttotal: 54.4s\tremaining: 24.2s\n",
            "692:\tlearn: 1.5493438\ttotal: 54.5s\tremaining: 24.2s\n",
            "693:\tlearn: 1.5492970\ttotal: 54.6s\tremaining: 24.1s\n",
            "694:\tlearn: 1.5492412\ttotal: 54.7s\tremaining: 24s\n",
            "695:\tlearn: 1.5492107\ttotal: 54.8s\tremaining: 23.9s\n",
            "696:\tlearn: 1.5491836\ttotal: 54.8s\tremaining: 23.8s\n",
            "697:\tlearn: 1.5491433\ttotal: 54.9s\tremaining: 23.8s\n",
            "698:\tlearn: 1.5490943\ttotal: 55s\tremaining: 23.7s\n",
            "699:\tlearn: 1.5490263\ttotal: 55.1s\tremaining: 23.6s\n",
            "700:\tlearn: 1.5489423\ttotal: 55.2s\tremaining: 23.5s\n",
            "701:\tlearn: 1.5488720\ttotal: 55.2s\tremaining: 23.4s\n",
            "702:\tlearn: 1.5488504\ttotal: 55.3s\tremaining: 23.4s\n",
            "703:\tlearn: 1.5487927\ttotal: 55.4s\tremaining: 23.3s\n",
            "704:\tlearn: 1.5487365\ttotal: 55.5s\tremaining: 23.2s\n",
            "705:\tlearn: 1.5486691\ttotal: 55.6s\tremaining: 23.1s\n",
            "706:\tlearn: 1.5486237\ttotal: 55.7s\tremaining: 23.1s\n",
            "707:\tlearn: 1.5485731\ttotal: 55.7s\tremaining: 23s\n",
            "708:\tlearn: 1.5485389\ttotal: 55.8s\tremaining: 22.9s\n",
            "709:\tlearn: 1.5484896\ttotal: 55.9s\tremaining: 22.8s\n",
            "710:\tlearn: 1.5484339\ttotal: 56s\tremaining: 22.8s\n",
            "711:\tlearn: 1.5483623\ttotal: 56.1s\tremaining: 22.7s\n",
            "712:\tlearn: 1.5483123\ttotal: 56.2s\tremaining: 22.6s\n",
            "713:\tlearn: 1.5482718\ttotal: 56.2s\tremaining: 22.5s\n",
            "714:\tlearn: 1.5482501\ttotal: 56.3s\tremaining: 22.4s\n",
            "715:\tlearn: 1.5482368\ttotal: 56.4s\tremaining: 22.4s\n",
            "716:\tlearn: 1.5482117\ttotal: 56.4s\tremaining: 22.3s\n",
            "717:\tlearn: 1.5481645\ttotal: 56.5s\tremaining: 22.2s\n",
            "718:\tlearn: 1.5481233\ttotal: 56.6s\tremaining: 22.1s\n",
            "719:\tlearn: 1.5479902\ttotal: 56.7s\tremaining: 22s\n",
            "720:\tlearn: 1.5479459\ttotal: 56.8s\tremaining: 22s\n",
            "721:\tlearn: 1.5479211\ttotal: 56.8s\tremaining: 21.9s\n",
            "722:\tlearn: 1.5478831\ttotal: 56.9s\tremaining: 21.8s\n",
            "723:\tlearn: 1.5478354\ttotal: 57s\tremaining: 21.7s\n",
            "724:\tlearn: 1.5478204\ttotal: 57s\tremaining: 21.6s\n",
            "725:\tlearn: 1.5477853\ttotal: 57.1s\tremaining: 21.6s\n",
            "726:\tlearn: 1.5477548\ttotal: 57.2s\tremaining: 21.5s\n",
            "727:\tlearn: 1.5477311\ttotal: 57.3s\tremaining: 21.4s\n",
            "728:\tlearn: 1.5476736\ttotal: 57.4s\tremaining: 21.3s\n",
            "729:\tlearn: 1.5476479\ttotal: 57.4s\tremaining: 21.2s\n",
            "730:\tlearn: 1.5476035\ttotal: 57.5s\tremaining: 21.2s\n",
            "731:\tlearn: 1.5475325\ttotal: 57.6s\tremaining: 21.1s\n",
            "732:\tlearn: 1.5474778\ttotal: 57.7s\tremaining: 21s\n",
            "733:\tlearn: 1.5474482\ttotal: 57.7s\tremaining: 20.9s\n",
            "734:\tlearn: 1.5473946\ttotal: 57.8s\tremaining: 20.8s\n",
            "735:\tlearn: 1.5473209\ttotal: 57.9s\tremaining: 20.8s\n",
            "736:\tlearn: 1.5471931\ttotal: 58s\tremaining: 20.7s\n",
            "737:\tlearn: 1.5471451\ttotal: 58.1s\tremaining: 20.6s\n",
            "738:\tlearn: 1.5471091\ttotal: 58.1s\tremaining: 20.5s\n",
            "739:\tlearn: 1.5470502\ttotal: 58.2s\tremaining: 20.5s\n",
            "740:\tlearn: 1.5469905\ttotal: 58.3s\tremaining: 20.4s\n",
            "741:\tlearn: 1.5469470\ttotal: 58.4s\tremaining: 20.3s\n",
            "742:\tlearn: 1.5469092\ttotal: 58.4s\tremaining: 20.2s\n",
            "743:\tlearn: 1.5468765\ttotal: 58.5s\tremaining: 20.1s\n",
            "744:\tlearn: 1.5468241\ttotal: 58.6s\tremaining: 20s\n",
            "745:\tlearn: 1.5467491\ttotal: 58.7s\tremaining: 20s\n",
            "746:\tlearn: 1.5467066\ttotal: 58.7s\tremaining: 19.9s\n",
            "747:\tlearn: 1.5466908\ttotal: 58.8s\tremaining: 19.8s\n",
            "748:\tlearn: 1.5466176\ttotal: 58.9s\tremaining: 19.7s\n",
            "749:\tlearn: 1.5465615\ttotal: 59s\tremaining: 19.7s\n",
            "750:\tlearn: 1.5465139\ttotal: 59s\tremaining: 19.6s\n",
            "751:\tlearn: 1.5464582\ttotal: 59.1s\tremaining: 19.5s\n",
            "752:\tlearn: 1.5464041\ttotal: 59.2s\tremaining: 19.4s\n",
            "753:\tlearn: 1.5463653\ttotal: 59.3s\tremaining: 19.3s\n",
            "754:\tlearn: 1.5463398\ttotal: 59.4s\tremaining: 19.3s\n",
            "755:\tlearn: 1.5462361\ttotal: 59.5s\tremaining: 19.2s\n",
            "756:\tlearn: 1.5461426\ttotal: 59.6s\tremaining: 19.1s\n",
            "757:\tlearn: 1.5460777\ttotal: 59.7s\tremaining: 19s\n",
            "758:\tlearn: 1.5460543\ttotal: 59.8s\tremaining: 19s\n",
            "759:\tlearn: 1.5460276\ttotal: 59.8s\tremaining: 18.9s\n",
            "760:\tlearn: 1.5459822\ttotal: 59.9s\tremaining: 18.8s\n",
            "761:\tlearn: 1.5459378\ttotal: 60s\tremaining: 18.7s\n",
            "762:\tlearn: 1.5459065\ttotal: 1m\tremaining: 18.7s\n",
            "763:\tlearn: 1.5458505\ttotal: 1m\tremaining: 18.6s\n",
            "764:\tlearn: 1.5457822\ttotal: 1m\tremaining: 18.5s\n",
            "765:\tlearn: 1.5457239\ttotal: 1m\tremaining: 18.4s\n",
            "766:\tlearn: 1.5457002\ttotal: 1m\tremaining: 18.4s\n",
            "767:\tlearn: 1.5456809\ttotal: 1m\tremaining: 18.3s\n",
            "768:\tlearn: 1.5456412\ttotal: 1m\tremaining: 18.2s\n",
            "769:\tlearn: 1.5455861\ttotal: 1m\tremaining: 18.1s\n",
            "770:\tlearn: 1.5455595\ttotal: 1m\tremaining: 18.1s\n",
            "771:\tlearn: 1.5455194\ttotal: 1m\tremaining: 18s\n",
            "772:\tlearn: 1.5454913\ttotal: 1m\tremaining: 17.9s\n",
            "773:\tlearn: 1.5454212\ttotal: 1m 1s\tremaining: 17.8s\n",
            "774:\tlearn: 1.5453876\ttotal: 1m 1s\tremaining: 17.7s\n",
            "775:\tlearn: 1.5453506\ttotal: 1m 1s\tremaining: 17.7s\n",
            "776:\tlearn: 1.5452871\ttotal: 1m 1s\tremaining: 17.6s\n",
            "777:\tlearn: 1.5452446\ttotal: 1m 1s\tremaining: 17.5s\n",
            "778:\tlearn: 1.5451934\ttotal: 1m 1s\tremaining: 17.4s\n",
            "779:\tlearn: 1.5451092\ttotal: 1m 1s\tremaining: 17.3s\n",
            "780:\tlearn: 1.5450509\ttotal: 1m 1s\tremaining: 17.3s\n",
            "781:\tlearn: 1.5450305\ttotal: 1m 1s\tremaining: 17.2s\n",
            "782:\tlearn: 1.5449738\ttotal: 1m 1s\tremaining: 17.1s\n",
            "783:\tlearn: 1.5449411\ttotal: 1m 1s\tremaining: 17s\n",
            "784:\tlearn: 1.5449208\ttotal: 1m 1s\tremaining: 16.9s\n",
            "785:\tlearn: 1.5448483\ttotal: 1m 1s\tremaining: 16.9s\n",
            "786:\tlearn: 1.5448116\ttotal: 1m 2s\tremaining: 16.8s\n",
            "787:\tlearn: 1.5447852\ttotal: 1m 2s\tremaining: 16.7s\n",
            "788:\tlearn: 1.5447262\ttotal: 1m 2s\tremaining: 16.6s\n",
            "789:\tlearn: 1.5446889\ttotal: 1m 2s\tremaining: 16.6s\n",
            "790:\tlearn: 1.5446310\ttotal: 1m 2s\tremaining: 16.5s\n",
            "791:\tlearn: 1.5445322\ttotal: 1m 2s\tremaining: 16.4s\n",
            "792:\tlearn: 1.5445027\ttotal: 1m 2s\tremaining: 16.3s\n",
            "793:\tlearn: 1.5444589\ttotal: 1m 2s\tremaining: 16.2s\n",
            "794:\tlearn: 1.5444081\ttotal: 1m 2s\tremaining: 16.2s\n",
            "795:\tlearn: 1.5443732\ttotal: 1m 2s\tremaining: 16.1s\n",
            "796:\tlearn: 1.5443070\ttotal: 1m 2s\tremaining: 16s\n",
            "797:\tlearn: 1.5442769\ttotal: 1m 2s\tremaining: 15.9s\n",
            "798:\tlearn: 1.5442440\ttotal: 1m 2s\tremaining: 15.8s\n",
            "799:\tlearn: 1.5442080\ttotal: 1m 3s\tremaining: 15.8s\n",
            "800:\tlearn: 1.5441784\ttotal: 1m 3s\tremaining: 15.7s\n",
            "801:\tlearn: 1.5441424\ttotal: 1m 3s\tremaining: 15.6s\n",
            "802:\tlearn: 1.5440674\ttotal: 1m 3s\tremaining: 15.5s\n",
            "803:\tlearn: 1.5440517\ttotal: 1m 3s\tremaining: 15.4s\n",
            "804:\tlearn: 1.5439681\ttotal: 1m 3s\tremaining: 15.4s\n",
            "805:\tlearn: 1.5439052\ttotal: 1m 3s\tremaining: 15.3s\n",
            "806:\tlearn: 1.5438858\ttotal: 1m 3s\tremaining: 15.2s\n",
            "807:\tlearn: 1.5438123\ttotal: 1m 3s\tremaining: 15.1s\n",
            "808:\tlearn: 1.5437850\ttotal: 1m 3s\tremaining: 15.1s\n",
            "809:\tlearn: 1.5436836\ttotal: 1m 3s\tremaining: 15s\n",
            "810:\tlearn: 1.5436266\ttotal: 1m 3s\tremaining: 14.9s\n",
            "811:\tlearn: 1.5436029\ttotal: 1m 4s\tremaining: 14.8s\n",
            "812:\tlearn: 1.5435471\ttotal: 1m 4s\tremaining: 14.8s\n",
            "813:\tlearn: 1.5435115\ttotal: 1m 4s\tremaining: 14.7s\n",
            "814:\tlearn: 1.5434840\ttotal: 1m 4s\tremaining: 14.6s\n",
            "815:\tlearn: 1.5434367\ttotal: 1m 4s\tremaining: 14.5s\n",
            "816:\tlearn: 1.5434002\ttotal: 1m 4s\tremaining: 14.4s\n",
            "817:\tlearn: 1.5433361\ttotal: 1m 4s\tremaining: 14.4s\n",
            "818:\tlearn: 1.5431797\ttotal: 1m 4s\tremaining: 14.3s\n",
            "819:\tlearn: 1.5431468\ttotal: 1m 4s\tremaining: 14.2s\n",
            "820:\tlearn: 1.5431099\ttotal: 1m 4s\tremaining: 14.1s\n",
            "821:\tlearn: 1.5430852\ttotal: 1m 4s\tremaining: 14.1s\n",
            "822:\tlearn: 1.5430478\ttotal: 1m 4s\tremaining: 14s\n",
            "823:\tlearn: 1.5429992\ttotal: 1m 5s\tremaining: 13.9s\n",
            "824:\tlearn: 1.5429703\ttotal: 1m 5s\tremaining: 13.8s\n",
            "825:\tlearn: 1.5429326\ttotal: 1m 5s\tremaining: 13.7s\n",
            "826:\tlearn: 1.5428852\ttotal: 1m 5s\tremaining: 13.7s\n",
            "827:\tlearn: 1.5428615\ttotal: 1m 5s\tremaining: 13.6s\n",
            "828:\tlearn: 1.5428226\ttotal: 1m 5s\tremaining: 13.5s\n",
            "829:\tlearn: 1.5428036\ttotal: 1m 5s\tremaining: 13.4s\n",
            "830:\tlearn: 1.5427418\ttotal: 1m 5s\tremaining: 13.3s\n",
            "831:\tlearn: 1.5426856\ttotal: 1m 5s\tremaining: 13.3s\n",
            "832:\tlearn: 1.5426519\ttotal: 1m 5s\tremaining: 13.2s\n",
            "833:\tlearn: 1.5426036\ttotal: 1m 5s\tremaining: 13.1s\n",
            "834:\tlearn: 1.5425703\ttotal: 1m 5s\tremaining: 13s\n",
            "835:\tlearn: 1.5425263\ttotal: 1m 5s\tremaining: 12.9s\n",
            "836:\tlearn: 1.5424631\ttotal: 1m 6s\tremaining: 12.9s\n",
            "837:\tlearn: 1.5424081\ttotal: 1m 6s\tremaining: 12.8s\n",
            "838:\tlearn: 1.5423246\ttotal: 1m 6s\tremaining: 12.7s\n",
            "839:\tlearn: 1.5422974\ttotal: 1m 6s\tremaining: 12.6s\n",
            "840:\tlearn: 1.5422792\ttotal: 1m 6s\tremaining: 12.5s\n",
            "841:\tlearn: 1.5422563\ttotal: 1m 6s\tremaining: 12.5s\n",
            "842:\tlearn: 1.5422358\ttotal: 1m 6s\tremaining: 12.4s\n",
            "843:\tlearn: 1.5421961\ttotal: 1m 6s\tremaining: 12.3s\n",
            "844:\tlearn: 1.5421512\ttotal: 1m 6s\tremaining: 12.2s\n",
            "845:\tlearn: 1.5421097\ttotal: 1m 6s\tremaining: 12.1s\n",
            "846:\tlearn: 1.5420440\ttotal: 1m 6s\tremaining: 12.1s\n",
            "847:\tlearn: 1.5419937\ttotal: 1m 6s\tremaining: 12s\n",
            "848:\tlearn: 1.5418920\ttotal: 1m 6s\tremaining: 11.9s\n",
            "849:\tlearn: 1.5418419\ttotal: 1m 7s\tremaining: 11.8s\n",
            "850:\tlearn: 1.5417485\ttotal: 1m 7s\tremaining: 11.7s\n",
            "851:\tlearn: 1.5417196\ttotal: 1m 7s\tremaining: 11.7s\n",
            "852:\tlearn: 1.5416694\ttotal: 1m 7s\tremaining: 11.6s\n",
            "853:\tlearn: 1.5416154\ttotal: 1m 7s\tremaining: 11.5s\n",
            "854:\tlearn: 1.5415860\ttotal: 1m 7s\tremaining: 11.4s\n",
            "855:\tlearn: 1.5415371\ttotal: 1m 7s\tremaining: 11.3s\n",
            "856:\tlearn: 1.5414869\ttotal: 1m 7s\tremaining: 11.3s\n",
            "857:\tlearn: 1.5414482\ttotal: 1m 7s\tremaining: 11.2s\n",
            "858:\tlearn: 1.5413928\ttotal: 1m 7s\tremaining: 11.1s\n",
            "859:\tlearn: 1.5413595\ttotal: 1m 7s\tremaining: 11s\n",
            "860:\tlearn: 1.5413432\ttotal: 1m 7s\tremaining: 10.9s\n",
            "861:\tlearn: 1.5413277\ttotal: 1m 7s\tremaining: 10.9s\n",
            "862:\tlearn: 1.5412936\ttotal: 1m 7s\tremaining: 10.8s\n",
            "863:\tlearn: 1.5412634\ttotal: 1m 8s\tremaining: 10.7s\n",
            "864:\tlearn: 1.5412069\ttotal: 1m 8s\tremaining: 10.6s\n",
            "865:\tlearn: 1.5411559\ttotal: 1m 8s\tremaining: 10.5s\n",
            "866:\tlearn: 1.5411129\ttotal: 1m 8s\tremaining: 10.5s\n",
            "867:\tlearn: 1.5410502\ttotal: 1m 8s\tremaining: 10.4s\n",
            "868:\tlearn: 1.5409601\ttotal: 1m 8s\tremaining: 10.3s\n",
            "869:\tlearn: 1.5409471\ttotal: 1m 8s\tremaining: 10.2s\n",
            "870:\tlearn: 1.5409204\ttotal: 1m 8s\tremaining: 10.1s\n",
            "871:\tlearn: 1.5408721\ttotal: 1m 8s\tremaining: 10.1s\n",
            "872:\tlearn: 1.5408236\ttotal: 1m 8s\tremaining: 9.99s\n",
            "873:\tlearn: 1.5408097\ttotal: 1m 8s\tremaining: 9.91s\n",
            "874:\tlearn: 1.5407473\ttotal: 1m 8s\tremaining: 9.83s\n",
            "875:\tlearn: 1.5407192\ttotal: 1m 8s\tremaining: 9.75s\n",
            "876:\tlearn: 1.5406635\ttotal: 1m 8s\tremaining: 9.67s\n",
            "877:\tlearn: 1.5406322\ttotal: 1m 9s\tremaining: 9.59s\n",
            "878:\tlearn: 1.5405841\ttotal: 1m 9s\tremaining: 9.51s\n",
            "879:\tlearn: 1.5405475\ttotal: 1m 9s\tremaining: 9.43s\n",
            "880:\tlearn: 1.5405208\ttotal: 1m 9s\tremaining: 9.35s\n",
            "881:\tlearn: 1.5404860\ttotal: 1m 9s\tremaining: 9.27s\n",
            "882:\tlearn: 1.5404350\ttotal: 1m 9s\tremaining: 9.19s\n",
            "883:\tlearn: 1.5403916\ttotal: 1m 9s\tremaining: 9.11s\n",
            "884:\tlearn: 1.5403583\ttotal: 1m 9s\tremaining: 9.03s\n",
            "885:\tlearn: 1.5403091\ttotal: 1m 9s\tremaining: 8.95s\n",
            "886:\tlearn: 1.5402704\ttotal: 1m 9s\tremaining: 8.87s\n",
            "887:\tlearn: 1.5402315\ttotal: 1m 9s\tremaining: 8.79s\n",
            "888:\tlearn: 1.5401954\ttotal: 1m 9s\tremaining: 8.71s\n",
            "889:\tlearn: 1.5401248\ttotal: 1m 9s\tremaining: 8.63s\n",
            "890:\tlearn: 1.5400771\ttotal: 1m 9s\tremaining: 8.56s\n",
            "891:\tlearn: 1.5400209\ttotal: 1m 10s\tremaining: 8.48s\n",
            "892:\tlearn: 1.5400008\ttotal: 1m 10s\tremaining: 8.4s\n",
            "893:\tlearn: 1.5399773\ttotal: 1m 10s\tremaining: 8.32s\n",
            "894:\tlearn: 1.5399526\ttotal: 1m 10s\tremaining: 8.24s\n",
            "895:\tlearn: 1.5398888\ttotal: 1m 10s\tremaining: 8.16s\n",
            "896:\tlearn: 1.5398360\ttotal: 1m 10s\tremaining: 8.08s\n",
            "897:\tlearn: 1.5397550\ttotal: 1m 10s\tremaining: 8s\n",
            "898:\tlearn: 1.5397374\ttotal: 1m 10s\tremaining: 7.92s\n",
            "899:\tlearn: 1.5397003\ttotal: 1m 10s\tremaining: 7.84s\n",
            "900:\tlearn: 1.5396335\ttotal: 1m 10s\tremaining: 7.77s\n",
            "901:\tlearn: 1.5395707\ttotal: 1m 10s\tremaining: 7.69s\n",
            "902:\tlearn: 1.5395174\ttotal: 1m 10s\tremaining: 7.61s\n",
            "903:\tlearn: 1.5394652\ttotal: 1m 10s\tremaining: 7.53s\n",
            "904:\tlearn: 1.5393966\ttotal: 1m 11s\tremaining: 7.45s\n",
            "905:\tlearn: 1.5393615\ttotal: 1m 11s\tremaining: 7.38s\n",
            "906:\tlearn: 1.5393234\ttotal: 1m 11s\tremaining: 7.3s\n",
            "907:\tlearn: 1.5392655\ttotal: 1m 11s\tremaining: 7.22s\n",
            "908:\tlearn: 1.5392419\ttotal: 1m 11s\tremaining: 7.14s\n",
            "909:\tlearn: 1.5391628\ttotal: 1m 11s\tremaining: 7.06s\n",
            "910:\tlearn: 1.5391175\ttotal: 1m 11s\tremaining: 6.99s\n",
            "911:\tlearn: 1.5390830\ttotal: 1m 11s\tremaining: 6.91s\n",
            "912:\tlearn: 1.5390369\ttotal: 1m 11s\tremaining: 6.83s\n",
            "913:\tlearn: 1.5389429\ttotal: 1m 11s\tremaining: 6.75s\n",
            "914:\tlearn: 1.5389122\ttotal: 1m 11s\tremaining: 6.67s\n",
            "915:\tlearn: 1.5388561\ttotal: 1m 11s\tremaining: 6.59s\n",
            "916:\tlearn: 1.5387844\ttotal: 1m 11s\tremaining: 6.51s\n",
            "917:\tlearn: 1.5387474\ttotal: 1m 12s\tremaining: 6.43s\n",
            "918:\tlearn: 1.5387085\ttotal: 1m 12s\tremaining: 6.36s\n",
            "919:\tlearn: 1.5386661\ttotal: 1m 12s\tremaining: 6.28s\n",
            "920:\tlearn: 1.5386508\ttotal: 1m 12s\tremaining: 6.2s\n",
            "921:\tlearn: 1.5386150\ttotal: 1m 12s\tremaining: 6.12s\n",
            "922:\tlearn: 1.5385691\ttotal: 1m 12s\tremaining: 6.04s\n",
            "923:\tlearn: 1.5385158\ttotal: 1m 12s\tremaining: 5.96s\n",
            "924:\tlearn: 1.5384893\ttotal: 1m 12s\tremaining: 5.89s\n",
            "925:\tlearn: 1.5384597\ttotal: 1m 12s\tremaining: 5.81s\n",
            "926:\tlearn: 1.5383580\ttotal: 1m 12s\tremaining: 5.73s\n",
            "927:\tlearn: 1.5383039\ttotal: 1m 12s\tremaining: 5.65s\n",
            "928:\tlearn: 1.5382779\ttotal: 1m 12s\tremaining: 5.57s\n",
            "929:\tlearn: 1.5382381\ttotal: 1m 12s\tremaining: 5.49s\n",
            "930:\tlearn: 1.5381961\ttotal: 1m 13s\tremaining: 5.41s\n",
            "931:\tlearn: 1.5381459\ttotal: 1m 13s\tremaining: 5.33s\n",
            "932:\tlearn: 1.5381282\ttotal: 1m 13s\tremaining: 5.25s\n",
            "933:\tlearn: 1.5380778\ttotal: 1m 13s\tremaining: 5.17s\n",
            "934:\tlearn: 1.5380416\ttotal: 1m 13s\tremaining: 5.1s\n",
            "935:\tlearn: 1.5379677\ttotal: 1m 13s\tremaining: 5.02s\n",
            "936:\tlearn: 1.5379248\ttotal: 1m 13s\tremaining: 4.94s\n",
            "937:\tlearn: 1.5378964\ttotal: 1m 13s\tremaining: 4.86s\n",
            "938:\tlearn: 1.5378585\ttotal: 1m 13s\tremaining: 4.78s\n",
            "939:\tlearn: 1.5377909\ttotal: 1m 13s\tremaining: 4.7s\n",
            "940:\tlearn: 1.5377392\ttotal: 1m 13s\tremaining: 4.63s\n",
            "941:\tlearn: 1.5376615\ttotal: 1m 13s\tremaining: 4.55s\n",
            "942:\tlearn: 1.5376479\ttotal: 1m 13s\tremaining: 4.47s\n",
            "943:\tlearn: 1.5375645\ttotal: 1m 14s\tremaining: 4.39s\n",
            "944:\tlearn: 1.5375456\ttotal: 1m 14s\tremaining: 4.31s\n",
            "945:\tlearn: 1.5374973\ttotal: 1m 14s\tremaining: 4.23s\n",
            "946:\tlearn: 1.5374720\ttotal: 1m 14s\tremaining: 4.16s\n",
            "947:\tlearn: 1.5374276\ttotal: 1m 14s\tremaining: 4.08s\n",
            "948:\tlearn: 1.5373898\ttotal: 1m 14s\tremaining: 4s\n",
            "949:\tlearn: 1.5373366\ttotal: 1m 14s\tremaining: 3.92s\n",
            "950:\tlearn: 1.5372867\ttotal: 1m 14s\tremaining: 3.84s\n",
            "951:\tlearn: 1.5372520\ttotal: 1m 14s\tremaining: 3.76s\n",
            "952:\tlearn: 1.5372310\ttotal: 1m 14s\tremaining: 3.69s\n",
            "953:\tlearn: 1.5371923\ttotal: 1m 14s\tremaining: 3.61s\n",
            "954:\tlearn: 1.5371309\ttotal: 1m 14s\tremaining: 3.53s\n",
            "955:\tlearn: 1.5370683\ttotal: 1m 14s\tremaining: 3.45s\n",
            "956:\tlearn: 1.5370154\ttotal: 1m 15s\tremaining: 3.37s\n",
            "957:\tlearn: 1.5370063\ttotal: 1m 15s\tremaining: 3.29s\n",
            "958:\tlearn: 1.5369496\ttotal: 1m 15s\tremaining: 3.21s\n",
            "959:\tlearn: 1.5368969\ttotal: 1m 15s\tremaining: 3.14s\n",
            "960:\tlearn: 1.5368238\ttotal: 1m 15s\tremaining: 3.06s\n",
            "961:\tlearn: 1.5367843\ttotal: 1m 15s\tremaining: 2.98s\n",
            "962:\tlearn: 1.5367557\ttotal: 1m 15s\tremaining: 2.9s\n",
            "963:\tlearn: 1.5367180\ttotal: 1m 15s\tremaining: 2.82s\n",
            "964:\tlearn: 1.5367113\ttotal: 1m 15s\tremaining: 2.75s\n",
            "965:\tlearn: 1.5366943\ttotal: 1m 15s\tremaining: 2.67s\n",
            "966:\tlearn: 1.5366589\ttotal: 1m 15s\tremaining: 2.59s\n",
            "967:\tlearn: 1.5366096\ttotal: 1m 15s\tremaining: 2.51s\n",
            "968:\tlearn: 1.5365352\ttotal: 1m 16s\tremaining: 2.43s\n",
            "969:\tlearn: 1.5364656\ttotal: 1m 16s\tremaining: 2.35s\n",
            "970:\tlearn: 1.5364255\ttotal: 1m 16s\tremaining: 2.27s\n",
            "971:\tlearn: 1.5363946\ttotal: 1m 16s\tremaining: 2.2s\n",
            "972:\tlearn: 1.5363729\ttotal: 1m 16s\tremaining: 2.12s\n",
            "973:\tlearn: 1.5363058\ttotal: 1m 16s\tremaining: 2.04s\n",
            "974:\tlearn: 1.5362621\ttotal: 1m 16s\tremaining: 1.96s\n",
            "975:\tlearn: 1.5362179\ttotal: 1m 16s\tremaining: 1.88s\n",
            "976:\tlearn: 1.5361987\ttotal: 1m 16s\tremaining: 1.8s\n",
            "977:\tlearn: 1.5361294\ttotal: 1m 16s\tremaining: 1.73s\n",
            "978:\tlearn: 1.5360794\ttotal: 1m 16s\tremaining: 1.65s\n",
            "979:\tlearn: 1.5360338\ttotal: 1m 16s\tremaining: 1.57s\n",
            "980:\tlearn: 1.5359775\ttotal: 1m 16s\tremaining: 1.49s\n",
            "981:\tlearn: 1.5359015\ttotal: 1m 17s\tremaining: 1.41s\n",
            "982:\tlearn: 1.5358720\ttotal: 1m 17s\tremaining: 1.33s\n",
            "983:\tlearn: 1.5358494\ttotal: 1m 17s\tremaining: 1.26s\n",
            "984:\tlearn: 1.5358053\ttotal: 1m 17s\tremaining: 1.18s\n",
            "985:\tlearn: 1.5357263\ttotal: 1m 17s\tremaining: 1.1s\n",
            "986:\tlearn: 1.5357011\ttotal: 1m 17s\tremaining: 1.02s\n",
            "987:\tlearn: 1.5356364\ttotal: 1m 17s\tremaining: 942ms\n",
            "988:\tlearn: 1.5355573\ttotal: 1m 17s\tremaining: 864ms\n",
            "989:\tlearn: 1.5354929\ttotal: 1m 17s\tremaining: 785ms\n",
            "990:\tlearn: 1.5354680\ttotal: 1m 17s\tremaining: 707ms\n",
            "991:\tlearn: 1.5354340\ttotal: 1m 17s\tremaining: 628ms\n",
            "992:\tlearn: 1.5354134\ttotal: 1m 17s\tremaining: 550ms\n",
            "993:\tlearn: 1.5353587\ttotal: 1m 18s\tremaining: 471ms\n",
            "994:\tlearn: 1.5353305\ttotal: 1m 18s\tremaining: 393ms\n",
            "995:\tlearn: 1.5353092\ttotal: 1m 18s\tremaining: 314ms\n",
            "996:\tlearn: 1.5352847\ttotal: 1m 18s\tremaining: 236ms\n",
            "997:\tlearn: 1.5352745\ttotal: 1m 18s\tremaining: 157ms\n",
            "998:\tlearn: 1.5352521\ttotal: 1m 18s\tremaining: 78.5ms\n",
            "999:\tlearn: 1.5352243\ttotal: 1m 18s\tremaining: 0us\n"
          ]
        }
      ]
    },
    {
      "cell_type": "code",
      "metadata": {
        "id": "Ret47ugS6iUZ"
      },
      "source": [
        "pred_cat = cat_model.predict(X_test)\n",
        "mse_cat = mean_squared_error(y_test, pred_cat)"
      ],
      "execution_count": null,
      "outputs": []
    },
    {
      "cell_type": "code",
      "metadata": {
        "colab": {
          "base_uri": "https://localhost:8080/"
        },
        "id": "GmvfaIoSSYAq",
        "outputId": "bfc02207-0474-4b69-e5ec-2a573eefac8c"
      },
      "source": [
        "print (\"MSE: \",mse_cat)\n",
        "print (\"score: \", cat_model.score(X_test, y_test) )\n",
        "print (\"MAE: \", mean_absolute_error(y_test, pred_cat))\n",
        "print (\"RMSE: \", np.sqrt (mse_cat))"
      ],
      "execution_count": null,
      "outputs": [
        {
          "output_type": "stream",
          "name": "stdout",
          "text": [
            "MSE:  2.59341369034431\n",
            "score:  0.7274861153997411\n",
            "MAE:  0.9878351753825875\n",
            "RMSE:  1.6104079266894802\n"
          ]
        }
      ]
    },
    {
      "cell_type": "markdown",
      "metadata": {
        "id": "YClMtPjmKkqq"
      },
      "source": [
        "### Fine-tuning Hyperparameters"
      ]
    },
    {
      "cell_type": "code",
      "metadata": {
        "id": "TfYhum8Cu4lR"
      },
      "source": [
        "from sklearn.model_selection import RandomizedSearchCV\n",
        "# Number of trees in random forest\n",
        "n_estimators = [int(x) for x in np.linspace(start = 200, stop = 1000, num = 3)]\n",
        "# Number of features to consider at every split\n",
        "# Maximum number of levels in tree\n",
        "max_depth = [int(x) for x in np.linspace(10, 50, num = 3)]\n",
        "max_depth.append(None)\n",
        "# Minimum number of samples required to split a node\n",
        "min_samples_split = [2, 5, 10]\n",
        "# Minimum number of samples required at each leaf node\n",
        "min_samples_leaf = [1, 2, 4]\n",
        "# Method of selecting samples for training each tree\n",
        "# Create the random grid\n",
        "random_grid = {'n_estimators': n_estimators,\n",
        "               'max_depth': max_depth,\n",
        "               'min_samples_split': min_samples_split,\n",
        "               'min_samples_leaf': min_samples_leaf}\n",
        "print(random_grid)"
      ],
      "execution_count": null,
      "outputs": []
    },
    {
      "cell_type": "code",
      "metadata": {
        "colab": {
          "base_uri": "https://localhost:8080/"
        },
        "id": "nBlonM4f3CPH",
        "outputId": "7cbe5897-92d9-48e7-dd63-e56f497b9a0f"
      },
      "source": [
        "rf = RandomForestRegressor()\n",
        "rf_random = RandomizedSearchCV(estimator = rf, param_distributions = random_grid, n_iter = 10, cv = 3, verbose=2, random_state=42, n_jobs = -1)\n",
        "\n",
        "rf_random.fit(X_train,y_train)"
      ],
      "execution_count": null,
      "outputs": [
        {
          "output_type": "stream",
          "name": "stdout",
          "text": [
            "Fitting 3 folds for each of 10 candidates, totalling 30 fits\n"
          ]
        },
        {
          "output_type": "stream",
          "name": "stderr",
          "text": [
            "[Parallel(n_jobs=-1)]: Using backend LokyBackend with 40 concurrent workers.\n",
            "[Parallel(n_jobs=-1)]: Done  15 out of  30 | elapsed: 16.3min remaining: 16.3min\n",
            "[Parallel(n_jobs=-1)]: Done  30 out of  30 | elapsed: 21.2min finished\n"
          ]
        },
        {
          "output_type": "execute_result",
          "data": {
            "text/plain": [
              "RandomizedSearchCV(cv=3, error_score=nan,\n",
              "                   estimator=RandomForestRegressor(bootstrap=True,\n",
              "                                                   ccp_alpha=0.0,\n",
              "                                                   criterion='mse',\n",
              "                                                   max_depth=None,\n",
              "                                                   max_features='auto',\n",
              "                                                   max_leaf_nodes=None,\n",
              "                                                   max_samples=None,\n",
              "                                                   min_impurity_decrease=0.0,\n",
              "                                                   min_impurity_split=None,\n",
              "                                                   min_samples_leaf=1,\n",
              "                                                   min_samples_split=2,\n",
              "                                                   min_weight_fraction_leaf=0.0,\n",
              "                                                   n_estimators=100,\n",
              "                                                   n_jobs=None, oob_score=False,\n",
              "                                                   random_state=None, verbose=0,\n",
              "                                                   warm_start=False),\n",
              "                   iid='deprecated', n_iter=10, n_jobs=-1,\n",
              "                   param_distributions={'max_depth': [10, 30, 50, None],\n",
              "                                        'min_samples_leaf': [1, 2, 4],\n",
              "                                        'min_samples_split': [2, 5, 10],\n",
              "                                        'n_estimators': [200, 600, 1000]},\n",
              "                   pre_dispatch='2*n_jobs', random_state=42, refit=True,\n",
              "                   return_train_score=False, scoring=None, verbose=2)"
            ]
          },
          "metadata": {},
          "execution_count": 12
        }
      ]
    },
    {
      "cell_type": "code",
      "metadata": {
        "colab": {
          "base_uri": "https://localhost:8080/"
        },
        "id": "Vdf1vZDd6Ow_",
        "outputId": "9ea83b37-51d6-499d-869e-39258b81bf01"
      },
      "source": [
        "# rf_random.best_params_"
      ],
      "execution_count": null,
      "outputs": [
        {
          "output_type": "execute_result",
          "data": {
            "text/plain": [
              "{'max_depth': 30,\n",
              " 'min_samples_leaf': 4,\n",
              " 'min_samples_split': 2,\n",
              " 'n_estimators': 200}"
            ]
          },
          "metadata": {},
          "execution_count": 13
        }
      ]
    },
    {
      "cell_type": "code",
      "metadata": {
        "id": "OdtsBgJ5ETP0",
        "colab": {
          "base_uri": "https://localhost:8080/"
        },
        "outputId": "971c935c-e46b-4715-b578-25874540e44e"
      },
      "source": [
        "param_test3 = {\n",
        " 'gamma':[i/10.0 for i in range(0,2)]\n",
        "}\n",
        "gsearch3 = GridSearchCV(estimator = xgb.XGBRegressor( learning_rate =0.1, n_estimators=140, max_depth=4,\n",
        " min_child_weight=6, gamma=0, subsample=0.8, colsample_bytree=0.8,\n",
        " objective= 'reg:linear', nthread=4, scale_pos_weight=1,seed=27), \n",
        " param_grid = param_test3, scoring='roc_auc',n_jobs=4, cv=5)\n",
        "gsearch3.fit(X_train, y_train)\n"
      ],
      "execution_count": null,
      "outputs": [
        {
          "output_type": "stream",
          "name": "stderr",
          "text": [
            "/usr/local/lib/python3.7/dist-packages/joblib/externals/loky/process_executor.py:705: UserWarning: A worker stopped while some jobs were given to the executor. This can be caused by a too short worker timeout or by a memory leak.\n",
            "  \"timeout or by a memory leak.\", UserWarning\n",
            "/usr/local/lib/python3.7/dist-packages/sklearn/model_selection/_search.py:972: UserWarning: One or more of the test scores are non-finite: [nan nan]\n",
            "  category=UserWarning,\n"
          ]
        },
        {
          "output_type": "stream",
          "name": "stdout",
          "text": [
            "[22:44:00] WARNING: /workspace/src/objective/regression_obj.cu:152: reg:linear is now deprecated in favor of reg:squarederror.\n",
            "[22:44:00] WARNING: /workspace/src/learner.cc:686: Tree method is automatically selected to be 'approx' for faster speed. To use old behavior (exact greedy algorithm on single machine), set tree_method to 'exact'.\n"
          ]
        },
        {
          "output_type": "execute_result",
          "data": {
            "text/plain": [
              "GridSearchCV(cv=5,\n",
              "             estimator=XGBRegressor(colsample_bytree=0.8, max_depth=4,\n",
              "                                    min_child_weight=6, n_estimators=140,\n",
              "                                    nthread=4, seed=27, subsample=0.8),\n",
              "             n_jobs=4, param_grid={'gamma': [0.0, 0.1]}, scoring='roc_auc')"
            ]
          },
          "metadata": {},
          "execution_count": 19
        }
      ]
    },
    {
      "cell_type": "code",
      "metadata": {
        "id": "T7VTMyAoOM20",
        "colab": {
          "base_uri": "https://localhost:8080/"
        },
        "outputId": "daf38186-9f71-41c7-e569-d855f8f25b38"
      },
      "source": [
        " gsearch3.best_params_, gsearch3.best_score_"
      ],
      "execution_count": null,
      "outputs": [
        {
          "output_type": "execute_result",
          "data": {
            "text/plain": [
              "({'gamma': 0.0}, nan)"
            ]
          },
          "metadata": {},
          "execution_count": 64
        }
      ]
    },
    {
      "cell_type": "code",
      "metadata": {
        "id": "-xWTTZYr4kXP"
      },
      "source": [
        "from sklearn.model_selection import RandomizedSearchCV\n",
        "print(\"Tuning\")\n",
        "\n",
        "params = {\n",
        "    # Parameters that we are going to tune.\n",
        "    'depth':[int(x) for x in np.linspace(start=1, stop=20, num=1)],\n",
        "    'l2_leaf_reg':[0,1,2,3,4,5,6,7,8,9,10],\n",
        "    'learning_rate':[0.5, 0.4, 0.3, 0.2, 0.1, 0.05, 0.01, 0.005],\n",
        "    'bagging_temperature': [x/100 for x in np.linspace(start=0, stop=100, num=1)],\n",
        "    'random_strength': [x/100 for x in np.linspace(start=0, stop=100, num=1)],\n",
        "}\n",
        "\n",
        "cat_random_search = RandomizedSearchCV(estimator=cat_model,\n",
        "                                      param_distributions = params,\n",
        "                                      n_iter = 10,\n",
        "                                      cv=3,\n",
        "                                      verbose=2,\n",
        "                                      random_state=47,\n",
        "                                      n_jobs=2)\n",
        "\n",
        "cat_random_search.fit(X_train, y_train)\n",
        "print(cat_random_search.best_params_)\n"
      ],
      "execution_count": null,
      "outputs": []
    },
    {
      "cell_type": "code",
      "metadata": {
        "id": "WaFjK6u9m0mT"
      },
      "source": [
        "from sklearn.model_selection import train_test_split\n",
        "\n",
        "X_train, X_test, y_train , y_test = train_test_split(features ,target, test_size= 0.2)"
      ],
      "execution_count": null,
      "outputs": []
    },
    {
      "cell_type": "markdown",
      "metadata": {
        "id": "1TvAHA9BJqK1"
      },
      "source": [
        "### CatRegressor fine-tune"
      ]
    },
    {
      "cell_type": "code",
      "metadata": {
        "id": "R5ZICVpzvpYh"
      },
      "source": [
        "import catboost as cb"
      ],
      "execution_count": null,
      "outputs": []
    },
    {
      "cell_type": "code",
      "metadata": {
        "id": "0Bhkqn69vfCN"
      },
      "source": [
        "train_dataset = cb.Pool(X_train, y_train) \n",
        "test_dataset = cb.Pool(X_test, y_test)"
      ],
      "execution_count": null,
      "outputs": []
    },
    {
      "cell_type": "code",
      "metadata": {
        "id": "fKFbq8Ttvvky"
      },
      "source": [
        "cat_model_new = CatBoostRegressor()"
      ],
      "execution_count": null,
      "outputs": []
    },
    {
      "cell_type": "code",
      "metadata": {
        "id": "HgGhZEg6cWAE"
      },
      "source": [
        "grid = {'iterations': [100, 150, 200],\n",
        "        'learning_rate': [0.03, 0.1],\n",
        "        'depth': [2, 4, 6, 8],\n",
        "        'l2_leaf_reg': [0.2, 0.5, 1, 3]}\n",
        "cat_model_new.grid_search(grid, train_dataset)"
      ],
      "execution_count": null,
      "outputs": []
    },
    {
      "cell_type": "code",
      "metadata": {
        "colab": {
          "base_uri": "https://localhost:8080/"
        },
        "id": "XYn3QpwC0xAj",
        "outputId": "2753a8bc-f4be-4747-db81-d54c6f22bae5"
      },
      "source": [
        "cat_model_new.get_all_params"
      ],
      "execution_count": null,
      "outputs": [
        {
          "output_type": "execute_result",
          "data": {
            "text/plain": [
              "<bound method CatBoost.get_all_params of <catboost.core.CatBoostRegressor object at 0x7f806306e790>>"
            ]
          },
          "metadata": {},
          "execution_count": 43
        }
      ]
    },
    {
      "cell_type": "code",
      "metadata": {
        "id": "pHlnVj-L0cqr"
      },
      "source": [
        "from sklearn.metrics import r2_score"
      ],
      "execution_count": null,
      "outputs": []
    },
    {
      "cell_type": "code",
      "metadata": {
        "colab": {
          "base_uri": "https://localhost:8080/"
        },
        "id": "nXqmHsDk0IxY",
        "outputId": "1a913fe9-c55c-4003-8517-fe35445b4a74"
      },
      "source": [
        "pred = cat_model_new.predict(X_test)\n",
        "mse = mean_squared_error(y_test, pred)\n",
        "r2 = r2_score(y_test, pred)\n",
        "r2\n"
      ],
      "execution_count": null,
      "outputs": [
        {
          "output_type": "execute_result",
          "data": {
            "text/plain": [
              "0.7219726229926424"
            ]
          },
          "metadata": {},
          "execution_count": 44
        }
      ]
    },
    {
      "cell_type": "markdown",
      "metadata": {
        "id": "PI4zsS1LJLzg"
      },
      "source": [
        "### Random-Forest-Regresssor After Hyper-Tuning"
      ]
    },
    {
      "cell_type": "code",
      "metadata": {
        "id": "kp_3x-F5aJyS"
      },
      "source": [
        "from sklearn.ensemble import RandomForestRegressor\n",
        "\n",
        "random_forest = RandomForestRegressor(n_estimators=200, max_depth = 30, random_state = 42, n_jobs= -1, min_samples_leaf= 4, min_samples_split= 2)\n",
        "\n",
        "rforest = random_forest.fit(X_train, y_train)"
      ],
      "execution_count": null,
      "outputs": []
    },
    {
      "cell_type": "code",
      "metadata": {
        "colab": {
          "base_uri": "https://localhost:8080/"
        },
        "id": "7R1wCAcKbVYZ",
        "outputId": "ed62b921-161e-4c1f-cbcc-17117ecde9a1"
      },
      "source": [
        "y_pred_rf = rforest.predict(X_test)\n",
        "\n",
        "y_pred.shape"
      ],
      "execution_count": null,
      "outputs": [
        {
          "output_type": "execute_result",
          "data": {
            "text/plain": [
              "(1128864,)"
            ]
          },
          "metadata": {},
          "execution_count": 21
        }
      ]
    },
    {
      "cell_type": "code",
      "metadata": {
        "colab": {
          "base_uri": "https://localhost:8080/"
        },
        "id": "skkFq4kEbaQI",
        "outputId": "1d498e99-3a25-4ceb-e26f-875fe6254fa2"
      },
      "source": [
        "rmse_rf = np.sqrt( mean_squared_error(y_test, y_pred_rf))\n",
        "rmse_rf\n"
      ],
      "execution_count": null,
      "outputs": [
        {
          "output_type": "execute_result",
          "data": {
            "text/plain": [
              "1.607545989329327"
            ]
          },
          "metadata": {},
          "execution_count": 22
        }
      ]
    },
    {
      "cell_type": "code",
      "metadata": {
        "colab": {
          "base_uri": "https://localhost:8080/"
        },
        "id": "GW1nxUT95hqg",
        "outputId": "b6739a15-538d-445d-848c-748ec702eee6"
      },
      "source": [
        "rforest.score(X_test, y_test)"
      ],
      "execution_count": null,
      "outputs": [
        {
          "output_type": "execute_result",
          "data": {
            "text/plain": [
              "0.7284538511380236"
            ]
          },
          "metadata": {},
          "execution_count": 23
        }
      ]
    },
    {
      "cell_type": "code",
      "metadata": {
        "colab": {
          "base_uri": "https://localhost:8080/"
        },
        "id": "1y_jz6kx0WtI",
        "outputId": "64bdf44e-9e08-46c1-98ca-5fbee8a1e868"
      },
      "source": [
        "mean_absolute_error(y_test, y_pred_rf)"
      ],
      "execution_count": null,
      "outputs": [
        {
          "output_type": "execute_result",
          "data": {
            "text/plain": [
              "0.9842098788209619"
            ]
          },
          "metadata": {},
          "execution_count": 24
        }
      ]
    },
    {
      "cell_type": "code",
      "metadata": {
        "colab": {
          "base_uri": "https://localhost:8080/"
        },
        "id": "9Rwb02VyS36f",
        "outputId": "7b385440-9425-4062-9cc9-048ff3ed25bf"
      },
      "source": [
        "rforest.decision_path"
      ],
      "execution_count": null,
      "outputs": [
        {
          "output_type": "execute_result",
          "data": {
            "text/plain": [
              "<bound method BaseForest.decision_path of RandomForestRegressor(max_depth=30, min_samples_leaf=4, n_estimators=200,\n",
              "                      n_jobs=-1, random_state=42)>"
            ]
          },
          "metadata": {},
          "execution_count": 25
        }
      ]
    },
    {
      "cell_type": "code",
      "metadata": {
        "colab": {
          "base_uri": "https://localhost:8080/"
        },
        "id": "HR5iwtZaciU8",
        "outputId": "b390c3de-744a-4fba-a13f-c193fbcee21f"
      },
      "source": [
        "from sklearn.metrics import r2_score\n",
        "\n",
        "r2_score = r2_score(y_test, y_pred)\n",
        "\n",
        "r2_score"
      ],
      "execution_count": null,
      "outputs": [
        {
          "output_type": "execute_result",
          "data": {
            "text/plain": [
              "0.7274861153997411"
            ]
          },
          "metadata": {},
          "execution_count": 26
        }
      ]
    },
    {
      "cell_type": "code",
      "metadata": {
        "id": "Hr012_KInMfY"
      },
      "source": [
        "# features = scaled_dataset.drop([\"actual_delivery_time\", \"seller_id\",\"record_number\", \"item_price\", \"quantity\",'weight', \"weight_units\", \"shipping_fee\"], axis =1)\n",
        "# target = scaled_dataset[\"actual_delivery_time\"]"
      ],
      "execution_count": null,
      "outputs": []
    },
    {
      "cell_type": "markdown",
      "metadata": {
        "id": "h8vz1ExfOV0J"
      },
      "source": [
        "### XGBoost Regressor"
      ]
    },
    {
      "cell_type": "code",
      "metadata": {
        "id": "cx9BvyhKOV0J"
      },
      "source": [
        "y_pred_xgb_fine = gsearch3.predict(X_test)\n",
        "mse=mean_squared_error(y_test, y_pred_xgb_fine)"
      ],
      "execution_count": null,
      "outputs": []
    },
    {
      "cell_type": "code",
      "metadata": {
        "colab": {
          "base_uri": "https://localhost:8080/"
        },
        "id": "grRCdSrjOV0J",
        "outputId": "9cb1caa8-080d-46a7-e21b-06836f2c7a4b"
      },
      "source": [
        "print (\"MSE: \", mse)\n",
        "print(\"RMSE: \", np.sqrt(mse))\n",
        "print(\"MAE: \", mean_absolute_error(y_test, y_pred_xgb_fine))\n",
        "print(\"score: \", r2_score(y_test, y_pred_xgb_fine))"
      ],
      "execution_count": null,
      "outputs": [
        {
          "output_type": "stream",
          "name": "stdout",
          "text": [
            "MSE:  2.8597042187263857\n",
            "RMSE:  1.6910660007008556\n",
            "MAE:  1.0252490165570345\n",
            "score:  0.7030563944510666\n"
          ]
        }
      ]
    },
    {
      "cell_type": "markdown",
      "metadata": {
        "id": "RGdaD3XyLNEz"
      },
      "source": [
        "### Ensemble Regression VotingRegressor"
      ]
    },
    {
      "cell_type": "code",
      "metadata": {
        "id": "_vx9-ofPQ6Oj"
      },
      "source": [
        "from sklearn.ensemble import VotingRegressor\n",
        "\n",
        "\n",
        "er = VotingRegressor([('xgboost', gsearch3), ('rf', rforest), ('catboost',cat_model)])\n",
        "er.fit(X_train, y_train)\n",
        "\n",
        "y_pred_vr = er.predict(X_test)\n"
      ],
      "execution_count": null,
      "outputs": []
    },
    {
      "cell_type": "code",
      "metadata": {
        "id": "_8byYGFUQ6RR"
      },
      "source": [
        "mse = mean_squared_error(y_test, y_pred_vr)\n",
        "r2_score =  r2_score(y_test, y_pred_vr)\n",
        "print (\"MSE: \", mse)\n",
        "print (\"R2_Score: \",r2_score)\n",
        "print (\"RMSE: \", np.sqrt(mse))\n",
        "print(\"MAE: \", mean_absolute_error(y_test, y_pred_vr))"
      ],
      "execution_count": null,
      "outputs": []
    },
    {
      "cell_type": "code",
      "metadata": {
        "id": "4Mo_TBbJpUyF"
      },
      "source": [
        "er_update = VotingRegressor ([ ('rf', rforest), ('catboost',cat_model)])\n",
        "er_update.fit(X_train, y_train)"
      ],
      "execution_count": null,
      "outputs": []
    },
    {
      "cell_type": "code",
      "metadata": {
        "id": "SoHy7vsHpiF8"
      },
      "source": [
        "y_pred_up = er_update.predict(X_test)\n",
        "mse = mean_squared_error(y_test, y_pred_up)\n",
        "r2_score =  r2_score(y_test, y_pred_up)\n",
        "print (mse)\n",
        "print (r2_score)\n"
      ],
      "execution_count": null,
      "outputs": []
    },
    {
      "cell_type": "markdown",
      "metadata": {
        "id": "gvil_lSoBPx_"
      },
      "source": [
        "### Final Output"
      ]
    },
    {
      "cell_type": "code",
      "metadata": {
        "id": "kdCX30PBBTLK",
        "colab": {
          "base_uri": "https://localhost:8080/"
        },
        "outputId": "c1003bf9-1b51-4d8a-b992-da092cd38e61"
      },
      "source": [
        "y_test_antilog = list((y_test))\n",
        "y_test_antilog = [round(x) for x in y_test_antilog]\n",
        "y_test_antilog[:10]"
      ],
      "execution_count": 11,
      "outputs": [
        {
          "output_type": "execute_result",
          "data": {
            "text/plain": [
              "[7, 3, 4, 2, 8, 6, 3, 5, 3, 2]"
            ]
          },
          "metadata": {},
          "execution_count": 11
        }
      ]
    },
    {
      "cell_type": "code",
      "metadata": {
        "id": "JP0kQgisBvOQ",
        "colab": {
          "base_uri": "https://localhost:8080/"
        },
        "outputId": "1659fbd3-1913-4b50-9d81-2e28d53b7c8d"
      },
      "source": [
        "predicted_delivery_time = list((y_pred_vr))\n",
        "predicted_delivery_time = [round(x) for x in predicted_delivery_time]\n",
        "predicted_delivery_time = [int(x) for x in predicted_delivery_time]\n",
        "predicted_delivery_time[:10]"
      ],
      "execution_count": 14,
      "outputs": [
        {
          "output_type": "execute_result",
          "data": {
            "text/plain": [
              "[8, 4, 4, 2, 9, 5, 2, 4, 1, 2]"
            ]
          },
          "metadata": {},
          "execution_count": 14
        }
      ]
    }
  ]
}